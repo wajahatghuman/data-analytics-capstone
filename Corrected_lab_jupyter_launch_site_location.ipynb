{
  "metadata": {
    "kernelspec": {
      "name": "python",
      "display_name": "Python (Pyodide)",
      "language": "python"
    },
    "language_info": {
      "codemirror_mode": {
        "name": "python",
        "version": 3
      },
      "file_extension": ".py",
      "mimetype": "text/x-python",
      "name": "python",
      "nbconvert_exporter": "python",
      "pygments_lexer": "ipython3",
      "version": "3.8"
    },
    "prev_pub_hash": "0f9db842b41c859223722809f8be602f5df9334348bd206b11e3af58c30eb345"
  },
  "nbformat_minor": 4,
  "nbformat": 4,
  "cells": [
    {
      "cell_type": "markdown",
      "source": "<p style=\"text-align:center\">\n    <a href=\"https://skills.network/?utm_medium=Exinfluencer&utm_source=Exinfluencer&utm_content=000026UJ&utm_term=10006555&utm_id=NA-SkillsNetwork-Channel-SkillsNetworkCoursesIBMDS0321ENSkillsNetwork26802033-2022-01-01\" target=\"_blank\">\n    <img src=\"https://cf-courses-data.s3.us.cloud-object-storage.appdomain.cloud/assets/logos/SN_web_lightmode.png\" width=\"200\" alt=\"Skills Network Logo\">\n    </a>\n</p>\n",
      "metadata": {}
    },
    {
      "cell_type": "markdown",
      "source": "# **Hands-on Lab: Interactive Visual Analytics with Folium**\n",
      "metadata": {}
    },
    {
      "cell_type": "markdown",
      "source": "Estimated time needed: **40** minutes\n",
      "metadata": {}
    },
    {
      "cell_type": "markdown",
      "source": "The launch success rate may depend on many factors such as payload mass, orbit type, and so on. It may also depend on the location and proximities of a launch site, i.e., the initial position of rocket trajectories. Finding an optimal location for building a launch site certainly involves many factors and hopefully we could discover some of the factors by analyzing the existing launch site locations.\n",
      "metadata": {}
    },
    {
      "cell_type": "markdown",
      "source": "In the previous exploratory data analysis labs, you have visualized the SpaceX launch dataset using `matplotlib` and `seaborn` and discovered some preliminary correlations between the launch site and success rates. In this lab, you will be performing more interactive visual analytics using `Folium`.\n",
      "metadata": {}
    },
    {
      "cell_type": "markdown",
      "source": "## Objectives\n",
      "metadata": {}
    },
    {
      "cell_type": "markdown",
      "source": "This lab contains the following tasks:\n\n*   **TASK 1:** Mark all launch sites on a map\n*   **TASK 2:** Mark the success/failed launches for each site on the map\n*   **TASK 3:** Calculate the distances between a launch site to its proximities\n\nAfter completed the above tasks, you should be able to find some geographical patterns about launch sites.\n",
      "metadata": {}
    },
    {
      "cell_type": "markdown",
      "source": "Let's first import required Python packages for this lab:\n",
      "metadata": {}
    },
    {
      "cell_type": "code",
      "source": "import piplite\nawait piplite.install(['folium'])\nawait piplite.install(['pandas'])",
      "metadata": {
        "trusted": true
      },
      "outputs": [],
      "execution_count": 2
    },
    {
      "cell_type": "code",
      "source": "import folium\nimport pandas as pd",
      "metadata": {
        "trusted": true
      },
      "outputs": [],
      "execution_count": 3
    },
    {
      "cell_type": "code",
      "source": "# Import folium MarkerCluster plugin\nfrom folium.plugins import MarkerCluster\n# Import folium MousePosition plugin\nfrom folium.plugins import MousePosition\n# Import folium DivIcon plugin\nfrom folium.features import DivIcon",
      "metadata": {
        "trusted": true
      },
      "outputs": [],
      "execution_count": 4
    },
    {
      "cell_type": "markdown",
      "source": "If you need to refresh your memory about folium, you may download and refer to this previous folium lab:\n",
      "metadata": {}
    },
    {
      "cell_type": "markdown",
      "source": "[Generating Maps with Python](https://cf-courses-data.s3.us.cloud-object-storage.appdomain.cloud/IBMDeveloperSkillsNetwork-DV0101EN-SkillsNetwork/labs/v4/DV0101EN-Exercise-Generating-Maps-in-Python.ipynb)\n",
      "metadata": {}
    },
    {
      "cell_type": "code",
      "source": "## Task 1: Mark all launch sites on a map\n# define the world map\nworld_map = folium.Map()\n\n# display world map\nworld_map# define the world map\nworld_map = folium.Map()\n\n# display world map\nworld_map",
      "metadata": {
        "trusted": true
      },
      "outputs": [
        {
          "execution_count": 4,
          "output_type": "execute_result",
          "data": {
            "text/plain": "<folium.folium.Map at 0x5e53d88>",
            "text/html": "<div style=\"width:100%;\"><div style=\"position:relative;width:100%;height:0;padding-bottom:60%;\"><span style=\"color:#565656\">Make this Notebook Trusted to load map: File -> Trust Notebook</span><iframe srcdoc=\"&lt;!DOCTYPE html&gt;\n&lt;html&gt;\n&lt;head&gt;\n    \n    &lt;meta http-equiv=&quot;content-type&quot; content=&quot;text/html; charset=UTF-8&quot; /&gt;\n    \n        &lt;script&gt;\n            L_NO_TOUCH = false;\n            L_DISABLE_3D = false;\n        &lt;/script&gt;\n    \n    &lt;style&gt;html, body {width: 100%;height: 100%;margin: 0;padding: 0;}&lt;/style&gt;\n    &lt;style&gt;#map {position:absolute;top:0;bottom:0;right:0;left:0;}&lt;/style&gt;\n    &lt;script src=&quot;https://cdn.jsdelivr.net/npm/leaflet@1.9.3/dist/leaflet.js&quot;&gt;&lt;/script&gt;\n    &lt;script src=&quot;https://code.jquery.com/jquery-3.7.1.min.js&quot;&gt;&lt;/script&gt;\n    &lt;script src=&quot;https://cdn.jsdelivr.net/npm/bootstrap@5.2.2/dist/js/bootstrap.bundle.min.js&quot;&gt;&lt;/script&gt;\n    &lt;script src=&quot;https://cdnjs.cloudflare.com/ajax/libs/Leaflet.awesome-markers/2.0.2/leaflet.awesome-markers.js&quot;&gt;&lt;/script&gt;\n    &lt;link rel=&quot;stylesheet&quot; href=&quot;https://cdn.jsdelivr.net/npm/leaflet@1.9.3/dist/leaflet.css&quot;/&gt;\n    &lt;link rel=&quot;stylesheet&quot; href=&quot;https://cdn.jsdelivr.net/npm/bootstrap@5.2.2/dist/css/bootstrap.min.css&quot;/&gt;\n    &lt;link rel=&quot;stylesheet&quot; href=&quot;https://netdna.bootstrapcdn.com/bootstrap/3.0.0/css/bootstrap-glyphicons.css&quot;/&gt;\n    &lt;link rel=&quot;stylesheet&quot; href=&quot;https://cdn.jsdelivr.net/npm/@fortawesome/fontawesome-free@6.2.0/css/all.min.css&quot;/&gt;\n    &lt;link rel=&quot;stylesheet&quot; href=&quot;https://cdnjs.cloudflare.com/ajax/libs/Leaflet.awesome-markers/2.0.2/leaflet.awesome-markers.css&quot;/&gt;\n    &lt;link rel=&quot;stylesheet&quot; href=&quot;https://cdn.jsdelivr.net/gh/python-visualization/folium/folium/templates/leaflet.awesome.rotate.min.css&quot;/&gt;\n    \n            &lt;meta name=&quot;viewport&quot; content=&quot;width=device-width,\n                initial-scale=1.0, maximum-scale=1.0, user-scalable=no&quot; /&gt;\n            &lt;style&gt;\n                #map_6fb4b9c79094b3f281babd0db0624c0f {\n                    position: relative;\n                    width: 100.0%;\n                    height: 100.0%;\n                    left: 0.0%;\n                    top: 0.0%;\n                }\n                .leaflet-container { font-size: 1rem; }\n            &lt;/style&gt;\n        \n&lt;/head&gt;\n&lt;body&gt;\n    \n    \n            &lt;div class=&quot;folium-map&quot; id=&quot;map_6fb4b9c79094b3f281babd0db0624c0f&quot; &gt;&lt;/div&gt;\n        \n&lt;/body&gt;\n&lt;script&gt;\n    \n    \n            var map_6fb4b9c79094b3f281babd0db0624c0f = L.map(\n                &quot;map_6fb4b9c79094b3f281babd0db0624c0f&quot;,\n                {\n                    center: [0.0, 0.0],\n                    crs: L.CRS.EPSG3857,\n                    ...{\n  &quot;zoom&quot;: 1,\n  &quot;zoomControl&quot;: true,\n  &quot;preferCanvas&quot;: false,\n}\n\n                }\n            );\n\n            \n\n        \n    \n            var tile_layer_cfc691827aa3e0846911e5d41789dc37 = L.tileLayer(\n                &quot;https://tile.openstreetmap.org/{z}/{x}/{y}.png&quot;,\n                {\n  &quot;minZoom&quot;: 0,\n  &quot;maxZoom&quot;: 19,\n  &quot;maxNativeZoom&quot;: 19,\n  &quot;noWrap&quot;: false,\n  &quot;attribution&quot;: &quot;\\u0026copy; \\u003ca href=\\&quot;https://www.openstreetmap.org/copyright\\&quot;\\u003eOpenStreetMap\\u003c/a\\u003e contributors&quot;,\n  &quot;subdomains&quot;: &quot;abc&quot;,\n  &quot;detectRetina&quot;: false,\n  &quot;tms&quot;: false,\n  &quot;opacity&quot;: 1,\n}\n\n            );\n        \n    \n            tile_layer_cfc691827aa3e0846911e5d41789dc37.addTo(map_6fb4b9c79094b3f281babd0db0624c0f);\n        \n&lt;/script&gt;\n&lt;/html&gt;\" style=\"position:absolute;width:100%;height:100%;left:0;top:0;border:none !important;\" allowfullscreen webkitallowfullscreen mozallowfullscreen></iframe></div></div>"
          },
          "metadata": {}
        }
      ],
      "execution_count": 4
    },
    {
      "cell_type": "markdown",
      "source": "First, let's try to add each site's location on a map using site's latitude and longitude coordinates\n",
      "metadata": {}
    },
    {
      "cell_type": "markdown",
      "source": "The following dataset with the name `spacex_launch_geo.csv` is an augmented dataset with latitude and longitude added for each site.\n",
      "metadata": {}
    },
    {
      "cell_type": "code",
      "source": "# Download and read the `spacex_launch_geo.csv`\nfrom js import fetch \nimport io\n\nURL = 'https://cf-courses-data.s3.us.cloud-object-storage.appdomain.cloud/IBM-DS0321EN-SkillsNetwork/datasets/spacex_launch_geo.csv'\nresp = await fetch(URL)\nspacex_csv_file = io.BytesIO((await resp.arrayBuffer()).to_py())\nspacex_df=pd.read_csv(spacex_csv_file)",
      "metadata": {
        "trusted": true
      },
      "outputs": [],
      "execution_count": 10
    },
    {
      "cell_type": "code",
      "source": "spacex_df.head()",
      "metadata": {
        "trusted": true
      },
      "outputs": [
        {
          "execution_count": 11,
          "output_type": "execute_result",
          "data": {
            "text/plain": "   Flight Number        Date Time (UTC) Booster Version  Launch Site  \\\n0              1  2010-06-04   18:45:00  F9 v1.0  B0003  CCAFS LC-40   \n1              2  2010-12-08   15:43:00  F9 v1.0  B0004  CCAFS LC-40   \n2              3  2012-05-22    7:44:00  F9 v1.0  B0005  CCAFS LC-40   \n3              4  2012-10-08    0:35:00  F9 v1.0  B0006  CCAFS LC-40   \n4              5  2013-03-01   15:10:00  F9 v1.0  B0007  CCAFS LC-40   \n\n                                             Payload  Payload Mass (kg)  \\\n0               Dragon Spacecraft Qualification Unit                0.0   \n1  Dragon demo flight C1, two CubeSats,  barrel o...                0.0   \n2                             Dragon demo flight C2+              525.0   \n3                                       SpaceX CRS-1              500.0   \n4                                       SpaceX CRS-2              677.0   \n\n       Orbit         Customer        Landing Outcome  class        Lat  \\\n0        LEO           SpaceX  Failure   (parachute)      0  28.562302   \n1  LEO (ISS)  NASA (COTS) NRO  Failure   (parachute)      0  28.562302   \n2  LEO (ISS)      NASA (COTS)             No attempt      0  28.562302   \n3  LEO (ISS)       NASA (CRS)             No attempt      0  28.562302   \n4  LEO (ISS)       NASA (CRS)             No attempt      0  28.562302   \n\n        Long  \n0 -80.577356  \n1 -80.577356  \n2 -80.577356  \n3 -80.577356  \n4 -80.577356  ",
            "text/html": "<div>\n<style scoped>\n    .dataframe tbody tr th:only-of-type {\n        vertical-align: middle;\n    }\n\n    .dataframe tbody tr th {\n        vertical-align: top;\n    }\n\n    .dataframe thead th {\n        text-align: right;\n    }\n</style>\n<table border=\"1\" class=\"dataframe\">\n  <thead>\n    <tr style=\"text-align: right;\">\n      <th></th>\n      <th>Flight Number</th>\n      <th>Date</th>\n      <th>Time (UTC)</th>\n      <th>Booster Version</th>\n      <th>Launch Site</th>\n      <th>Payload</th>\n      <th>Payload Mass (kg)</th>\n      <th>Orbit</th>\n      <th>Customer</th>\n      <th>Landing Outcome</th>\n      <th>class</th>\n      <th>Lat</th>\n      <th>Long</th>\n    </tr>\n  </thead>\n  <tbody>\n    <tr>\n      <th>0</th>\n      <td>1</td>\n      <td>2010-06-04</td>\n      <td>18:45:00</td>\n      <td>F9 v1.0  B0003</td>\n      <td>CCAFS LC-40</td>\n      <td>Dragon Spacecraft Qualification Unit</td>\n      <td>0.0</td>\n      <td>LEO</td>\n      <td>SpaceX</td>\n      <td>Failure   (parachute)</td>\n      <td>0</td>\n      <td>28.562302</td>\n      <td>-80.577356</td>\n    </tr>\n    <tr>\n      <th>1</th>\n      <td>2</td>\n      <td>2010-12-08</td>\n      <td>15:43:00</td>\n      <td>F9 v1.0  B0004</td>\n      <td>CCAFS LC-40</td>\n      <td>Dragon demo flight C1, two CubeSats,  barrel o...</td>\n      <td>0.0</td>\n      <td>LEO (ISS)</td>\n      <td>NASA (COTS) NRO</td>\n      <td>Failure   (parachute)</td>\n      <td>0</td>\n      <td>28.562302</td>\n      <td>-80.577356</td>\n    </tr>\n    <tr>\n      <th>2</th>\n      <td>3</td>\n      <td>2012-05-22</td>\n      <td>7:44:00</td>\n      <td>F9 v1.0  B0005</td>\n      <td>CCAFS LC-40</td>\n      <td>Dragon demo flight C2+</td>\n      <td>525.0</td>\n      <td>LEO (ISS)</td>\n      <td>NASA (COTS)</td>\n      <td>No attempt</td>\n      <td>0</td>\n      <td>28.562302</td>\n      <td>-80.577356</td>\n    </tr>\n    <tr>\n      <th>3</th>\n      <td>4</td>\n      <td>2012-10-08</td>\n      <td>0:35:00</td>\n      <td>F9 v1.0  B0006</td>\n      <td>CCAFS LC-40</td>\n      <td>SpaceX CRS-1</td>\n      <td>500.0</td>\n      <td>LEO (ISS)</td>\n      <td>NASA (CRS)</td>\n      <td>No attempt</td>\n      <td>0</td>\n      <td>28.562302</td>\n      <td>-80.577356</td>\n    </tr>\n    <tr>\n      <th>4</th>\n      <td>5</td>\n      <td>2013-03-01</td>\n      <td>15:10:00</td>\n      <td>F9 v1.0  B0007</td>\n      <td>CCAFS LC-40</td>\n      <td>SpaceX CRS-2</td>\n      <td>677.0</td>\n      <td>LEO (ISS)</td>\n      <td>NASA (CRS)</td>\n      <td>No attempt</td>\n      <td>0</td>\n      <td>28.562302</td>\n      <td>-80.577356</td>\n    </tr>\n  </tbody>\n</table>\n</div>"
          },
          "metadata": {}
        }
      ],
      "execution_count": 11
    },
    {
      "cell_type": "markdown",
      "source": "Now, you can take a look at what are the coordinates for each site.\n",
      "metadata": {}
    },
    {
      "cell_type": "code",
      "source": "# Select relevant sub-columns: `Launch Site`, `Lat(Latitude)`, `Long(Longitude)`, `class`\nspacex_df = spacex_df[['Launch Site', 'Lat', 'Long', 'class']]\nlaunch_sites_df = spacex_df.groupby(['Launch Site'], as_index=False).first()\nlaunch_sites_df = launch_sites_df[['Launch Site', 'Lat', 'Long']]\nlaunch_sites_df",
      "metadata": {
        "trusted": true
      },
      "outputs": [
        {
          "execution_count": 12,
          "output_type": "execute_result",
          "data": {
            "text/plain": "    Launch Site        Lat        Long\n0   CCAFS LC-40  28.562302  -80.577356\n1  CCAFS SLC-40  28.563197  -80.576820\n2    KSC LC-39A  28.573255  -80.646895\n3   VAFB SLC-4E  34.632834 -120.610745",
            "text/html": "<div>\n<style scoped>\n    .dataframe tbody tr th:only-of-type {\n        vertical-align: middle;\n    }\n\n    .dataframe tbody tr th {\n        vertical-align: top;\n    }\n\n    .dataframe thead th {\n        text-align: right;\n    }\n</style>\n<table border=\"1\" class=\"dataframe\">\n  <thead>\n    <tr style=\"text-align: right;\">\n      <th></th>\n      <th>Launch Site</th>\n      <th>Lat</th>\n      <th>Long</th>\n    </tr>\n  </thead>\n  <tbody>\n    <tr>\n      <th>0</th>\n      <td>CCAFS LC-40</td>\n      <td>28.562302</td>\n      <td>-80.577356</td>\n    </tr>\n    <tr>\n      <th>1</th>\n      <td>CCAFS SLC-40</td>\n      <td>28.563197</td>\n      <td>-80.576820</td>\n    </tr>\n    <tr>\n      <th>2</th>\n      <td>KSC LC-39A</td>\n      <td>28.573255</td>\n      <td>-80.646895</td>\n    </tr>\n    <tr>\n      <th>3</th>\n      <td>VAFB SLC-4E</td>\n      <td>34.632834</td>\n      <td>-120.610745</td>\n    </tr>\n  </tbody>\n</table>\n</div>"
          },
          "metadata": {}
        }
      ],
      "execution_count": 12
    },
    {
      "cell_type": "markdown",
      "source": "Above coordinates are just plain numbers that can not give you any intuitive insights about where are those launch sites. If you are very good at geography, you can interpret those numbers directly in your mind. If not, that's fine too. Let's visualize those locations by pinning them on a map.\n",
      "metadata": {}
    },
    {
      "cell_type": "markdown",
      "source": "We first need to create a folium `Map` object, with an initial center location to be NASA Johnson Space Center at Houston, Texas.\n",
      "metadata": {}
    },
    {
      "cell_type": "code",
      "source": "# Start location is NASA Johnson Space Center\nnasa_coordinate = [29.559684888503615, -95.0830971930759]\nsite_map = folium.Map(location=nasa_coordinate, zoom_start=10)",
      "metadata": {
        "trusted": true
      },
      "outputs": [],
      "execution_count": 13
    },
    {
      "cell_type": "markdown",
      "source": "We could use `folium.Circle` to add a highlighted circle area with a text label on a specific coordinate. For example,\n",
      "metadata": {}
    },
    {
      "cell_type": "code",
      "source": "# Create a blue circle at NASA Johnson Space Center's coordinate with a popup label showing its name\ncircle = folium.Circle(nasa_coordinate, radius=1000, color='#d35400', fill=True).add_child(folium.Popup('NASA Johnson Space Center'))\n# Create a blue circle at NASA Johnson Space Center's coordinate with a icon showing its name\nmarker = folium.map.Marker(\n    nasa_coordinate,\n    # Create an icon as a text label\n    icon=DivIcon(\n        icon_size=(20,20),\n        icon_anchor=(0,0),\n        html='<div style=\"font-size: 12; color:#d35400;\"><b>%s</b></div>' % 'NASA JSC',\n        )\n    )\nsite_map.add_child(circle)\nsite_map.add_child(marker)",
      "metadata": {
        "trusted": true
      },
      "outputs": [
        {
          "execution_count": 14,
          "output_type": "execute_result",
          "data": {
            "text/plain": "<folium.folium.Map at 0x5ec08f0>",
            "text/html": "<div style=\"width:100%;\"><div style=\"position:relative;width:100%;height:0;padding-bottom:60%;\"><span style=\"color:#565656\">Make this Notebook Trusted to load map: File -> Trust Notebook</span><iframe srcdoc=\"&lt;!DOCTYPE html&gt;\n&lt;html&gt;\n&lt;head&gt;\n    \n    &lt;meta http-equiv=&quot;content-type&quot; content=&quot;text/html; charset=UTF-8&quot; /&gt;\n    \n        &lt;script&gt;\n            L_NO_TOUCH = false;\n            L_DISABLE_3D = false;\n        &lt;/script&gt;\n    \n    &lt;style&gt;html, body {width: 100%;height: 100%;margin: 0;padding: 0;}&lt;/style&gt;\n    &lt;style&gt;#map {position:absolute;top:0;bottom:0;right:0;left:0;}&lt;/style&gt;\n    &lt;script src=&quot;https://cdn.jsdelivr.net/npm/leaflet@1.9.3/dist/leaflet.js&quot;&gt;&lt;/script&gt;\n    &lt;script src=&quot;https://code.jquery.com/jquery-3.7.1.min.js&quot;&gt;&lt;/script&gt;\n    &lt;script src=&quot;https://cdn.jsdelivr.net/npm/bootstrap@5.2.2/dist/js/bootstrap.bundle.min.js&quot;&gt;&lt;/script&gt;\n    &lt;script src=&quot;https://cdnjs.cloudflare.com/ajax/libs/Leaflet.awesome-markers/2.0.2/leaflet.awesome-markers.js&quot;&gt;&lt;/script&gt;\n    &lt;link rel=&quot;stylesheet&quot; href=&quot;https://cdn.jsdelivr.net/npm/leaflet@1.9.3/dist/leaflet.css&quot;/&gt;\n    &lt;link rel=&quot;stylesheet&quot; href=&quot;https://cdn.jsdelivr.net/npm/bootstrap@5.2.2/dist/css/bootstrap.min.css&quot;/&gt;\n    &lt;link rel=&quot;stylesheet&quot; href=&quot;https://netdna.bootstrapcdn.com/bootstrap/3.0.0/css/bootstrap-glyphicons.css&quot;/&gt;\n    &lt;link rel=&quot;stylesheet&quot; href=&quot;https://cdn.jsdelivr.net/npm/@fortawesome/fontawesome-free@6.2.0/css/all.min.css&quot;/&gt;\n    &lt;link rel=&quot;stylesheet&quot; href=&quot;https://cdnjs.cloudflare.com/ajax/libs/Leaflet.awesome-markers/2.0.2/leaflet.awesome-markers.css&quot;/&gt;\n    &lt;link rel=&quot;stylesheet&quot; href=&quot;https://cdn.jsdelivr.net/gh/python-visualization/folium/folium/templates/leaflet.awesome.rotate.min.css&quot;/&gt;\n    \n            &lt;meta name=&quot;viewport&quot; content=&quot;width=device-width,\n                initial-scale=1.0, maximum-scale=1.0, user-scalable=no&quot; /&gt;\n            &lt;style&gt;\n                #map_8833595eaa339b54c1f7dd0b8b4a377d {\n                    position: relative;\n                    width: 100.0%;\n                    height: 100.0%;\n                    left: 0.0%;\n                    top: 0.0%;\n                }\n                .leaflet-container { font-size: 1rem; }\n            &lt;/style&gt;\n        \n&lt;/head&gt;\n&lt;body&gt;\n    \n    \n            &lt;div class=&quot;folium-map&quot; id=&quot;map_8833595eaa339b54c1f7dd0b8b4a377d&quot; &gt;&lt;/div&gt;\n        \n&lt;/body&gt;\n&lt;script&gt;\n    \n    \n            var map_8833595eaa339b54c1f7dd0b8b4a377d = L.map(\n                &quot;map_8833595eaa339b54c1f7dd0b8b4a377d&quot;,\n                {\n                    center: [29.559684888503615, -95.0830971930759],\n                    crs: L.CRS.EPSG3857,\n                    ...{\n  &quot;zoom&quot;: 10,\n  &quot;zoomControl&quot;: true,\n  &quot;preferCanvas&quot;: false,\n}\n\n                }\n            );\n\n            \n\n        \n    \n            var tile_layer_a417832a1237f83b35026a7cbb8a4246 = L.tileLayer(\n                &quot;https://tile.openstreetmap.org/{z}/{x}/{y}.png&quot;,\n                {\n  &quot;minZoom&quot;: 0,\n  &quot;maxZoom&quot;: 19,\n  &quot;maxNativeZoom&quot;: 19,\n  &quot;noWrap&quot;: false,\n  &quot;attribution&quot;: &quot;\\u0026copy; \\u003ca href=\\&quot;https://www.openstreetmap.org/copyright\\&quot;\\u003eOpenStreetMap\\u003c/a\\u003e contributors&quot;,\n  &quot;subdomains&quot;: &quot;abc&quot;,\n  &quot;detectRetina&quot;: false,\n  &quot;tms&quot;: false,\n  &quot;opacity&quot;: 1,\n}\n\n            );\n        \n    \n            tile_layer_a417832a1237f83b35026a7cbb8a4246.addTo(map_8833595eaa339b54c1f7dd0b8b4a377d);\n        \n    \n            var circle_709e9bf65ae61141c3d1b7cbde1d9f7f = L.circle(\n                [29.559684888503615, -95.0830971930759],\n                {&quot;bubblingMouseEvents&quot;: true, &quot;color&quot;: &quot;#d35400&quot;, &quot;dashArray&quot;: null, &quot;dashOffset&quot;: null, &quot;fill&quot;: true, &quot;fillColor&quot;: &quot;#d35400&quot;, &quot;fillOpacity&quot;: 0.2, &quot;fillRule&quot;: &quot;evenodd&quot;, &quot;lineCap&quot;: &quot;round&quot;, &quot;lineJoin&quot;: &quot;round&quot;, &quot;opacity&quot;: 1.0, &quot;radius&quot;: 1000, &quot;stroke&quot;: true, &quot;weight&quot;: 3}\n            ).addTo(map_8833595eaa339b54c1f7dd0b8b4a377d);\n        \n    \n        var popup_2e600ae2ae61eef6fb77159b64024ff6 = L.popup({\n  &quot;maxWidth&quot;: &quot;100%&quot;,\n});\n\n        \n            \n                var html_a48fe47f084abaf930fe7d5c71b8f8b9 = $(`&lt;div id=&quot;html_a48fe47f084abaf930fe7d5c71b8f8b9&quot; style=&quot;width: 100.0%; height: 100.0%;&quot;&gt;NASA Johnson Space Center&lt;/div&gt;`)[0];\n                popup_2e600ae2ae61eef6fb77159b64024ff6.setContent(html_a48fe47f084abaf930fe7d5c71b8f8b9);\n            \n        \n\n        circle_709e9bf65ae61141c3d1b7cbde1d9f7f.bindPopup(popup_2e600ae2ae61eef6fb77159b64024ff6)\n        ;\n\n        \n    \n    \n            var marker_c8ab200e39b376ce1d7b6e6698386a16 = L.marker(\n                [29.559684888503615, -95.0830971930759],\n                {\n}\n            ).addTo(map_8833595eaa339b54c1f7dd0b8b4a377d);\n        \n    \n            var div_icon_770bb6c6c63b1670cd033afa5c19c934 = L.divIcon({\n  &quot;html&quot;: &quot;\\u003cdiv style=\\&quot;font-size: 12; color:#d35400;\\&quot;\\u003e\\u003cb\\u003eNASA JSC\\u003c/b\\u003e\\u003c/div\\u003e&quot;,\n  &quot;iconSize&quot;: [20, 20],\n  &quot;iconAnchor&quot;: [0, 0],\n  &quot;className&quot;: &quot;empty&quot;,\n});\n            marker_c8ab200e39b376ce1d7b6e6698386a16.setIcon(div_icon_770bb6c6c63b1670cd033afa5c19c934);\n        \n&lt;/script&gt;\n&lt;/html&gt;\" style=\"position:absolute;width:100%;height:100%;left:0;top:0;border:none !important;\" allowfullscreen webkitallowfullscreen mozallowfullscreen></iframe></div></div>"
          },
          "metadata": {}
        }
      ],
      "execution_count": 14
    },
    {
      "cell_type": "markdown",
      "source": "and you should find a small yellow circle near the city of Houston and you can zoom-in to see a larger circle.\n",
      "metadata": {}
    },
    {
      "cell_type": "markdown",
      "source": "Now, let's add a circle for each launch site in data frame `launch_sites`\n",
      "metadata": {}
    },
    {
      "cell_type": "markdown",
      "source": "*TODO:*  Create and add `folium.Circle` and `folium.Marker` for each launch site on the site map\n",
      "metadata": {}
    },
    {
      "cell_type": "markdown",
      "source": "An example of folium.Circle:\n",
      "metadata": {}
    },
    {
      "cell_type": "markdown",
      "source": "An example of folium.Marker:\n",
      "metadata": {}
    },
    {
      "cell_type": "markdown",
      "source": "`folium.map.Marker(coordinate, icon=DivIcon(icon_size=(20,20),icon_anchor=(0,0), html='<div style=\"font-size: 12; color:#d35400;\"><b>%s</b></div>' % 'label', ))`\n",
      "metadata": {}
    },
    {
      "cell_type": "code",
      "source": "# Initial the map\nsite_map = folium.Map(location=nasa_coordinate, zoom_start=5)\n# For each launch site, add a Circle object based on its coordinate (Lat, Long) values. In addition, add Launch site name as a popup label\n# Create a MarkerCluster to manage multiple markers efficiently (optional)\nimport pandas as pd\nimport folium\n\n# Assuming you have your spacex_df DataFrame with the relevant columns\n\n# Select launch sites DataFrame\nlaunch_sites_df = spacex_df[['Launch Site', 'Lat', 'Long']].drop_duplicates()\n\n# Function to add a circle marker with popup for each launch site\ndef add_circle_marker(site_map, launch_site, lat, lon):\n  \"\"\"Adds a circle marker with a popup to the map for a launch site.\n\n  Args:\n      site_map (folium.Map): The map object to add the marker to.\n      launch_site (str): The name of the launch site.\n      lat (float): The latitude coordinate.\n      lon (float): The longitude coordinate.\n  \"\"\"\n  folium.CircleMarker(\n      location=[lat, lon],\n      popup=launch_site,  # Set popup text to launch site name\n      radius=5,  # Adjust radius as needed\n      color='blue',  # Customize marker color\n      fill=True,  # Fill the circle marker\n      fill_color='lightblue',  # Customize fill color\n      fill_opacity=0.4  # Adjust fill opacity\n  ).add_to(site_map)\n\n# Add circle markers for each launch site\nfor index, row in launch_sites_df.iterrows():\n  launch_site = row['Launch Site']\n  lat = row['Lat']\n  lon = row['Long']\n  add_circle_marker(site_map, launch_site, lat, lon)\n\n\n# Display the map\nsite_map",
      "metadata": {
        "trusted": true
      },
      "outputs": [
        {
          "execution_count": 15,
          "output_type": "execute_result",
          "data": {
            "text/plain": "<folium.folium.Map at 0x6158090>",
            "text/html": "<div style=\"width:100%;\"><div style=\"position:relative;width:100%;height:0;padding-bottom:60%;\"><span style=\"color:#565656\">Make this Notebook Trusted to load map: File -> Trust Notebook</span><iframe srcdoc=\"&lt;!DOCTYPE html&gt;\n&lt;html&gt;\n&lt;head&gt;\n    \n    &lt;meta http-equiv=&quot;content-type&quot; content=&quot;text/html; charset=UTF-8&quot; /&gt;\n    \n        &lt;script&gt;\n            L_NO_TOUCH = false;\n            L_DISABLE_3D = false;\n        &lt;/script&gt;\n    \n    &lt;style&gt;html, body {width: 100%;height: 100%;margin: 0;padding: 0;}&lt;/style&gt;\n    &lt;style&gt;#map {position:absolute;top:0;bottom:0;right:0;left:0;}&lt;/style&gt;\n    &lt;script src=&quot;https://cdn.jsdelivr.net/npm/leaflet@1.9.3/dist/leaflet.js&quot;&gt;&lt;/script&gt;\n    &lt;script src=&quot;https://code.jquery.com/jquery-3.7.1.min.js&quot;&gt;&lt;/script&gt;\n    &lt;script src=&quot;https://cdn.jsdelivr.net/npm/bootstrap@5.2.2/dist/js/bootstrap.bundle.min.js&quot;&gt;&lt;/script&gt;\n    &lt;script src=&quot;https://cdnjs.cloudflare.com/ajax/libs/Leaflet.awesome-markers/2.0.2/leaflet.awesome-markers.js&quot;&gt;&lt;/script&gt;\n    &lt;link rel=&quot;stylesheet&quot; href=&quot;https://cdn.jsdelivr.net/npm/leaflet@1.9.3/dist/leaflet.css&quot;/&gt;\n    &lt;link rel=&quot;stylesheet&quot; href=&quot;https://cdn.jsdelivr.net/npm/bootstrap@5.2.2/dist/css/bootstrap.min.css&quot;/&gt;\n    &lt;link rel=&quot;stylesheet&quot; href=&quot;https://netdna.bootstrapcdn.com/bootstrap/3.0.0/css/bootstrap-glyphicons.css&quot;/&gt;\n    &lt;link rel=&quot;stylesheet&quot; href=&quot;https://cdn.jsdelivr.net/npm/@fortawesome/fontawesome-free@6.2.0/css/all.min.css&quot;/&gt;\n    &lt;link rel=&quot;stylesheet&quot; href=&quot;https://cdnjs.cloudflare.com/ajax/libs/Leaflet.awesome-markers/2.0.2/leaflet.awesome-markers.css&quot;/&gt;\n    &lt;link rel=&quot;stylesheet&quot; href=&quot;https://cdn.jsdelivr.net/gh/python-visualization/folium/folium/templates/leaflet.awesome.rotate.min.css&quot;/&gt;\n    \n            &lt;meta name=&quot;viewport&quot; content=&quot;width=device-width,\n                initial-scale=1.0, maximum-scale=1.0, user-scalable=no&quot; /&gt;\n            &lt;style&gt;\n                #map_34330b79b451bab3669ff270303b1fd3 {\n                    position: relative;\n                    width: 100.0%;\n                    height: 100.0%;\n                    left: 0.0%;\n                    top: 0.0%;\n                }\n                .leaflet-container { font-size: 1rem; }\n            &lt;/style&gt;\n        \n&lt;/head&gt;\n&lt;body&gt;\n    \n    \n            &lt;div class=&quot;folium-map&quot; id=&quot;map_34330b79b451bab3669ff270303b1fd3&quot; &gt;&lt;/div&gt;\n        \n&lt;/body&gt;\n&lt;script&gt;\n    \n    \n            var map_34330b79b451bab3669ff270303b1fd3 = L.map(\n                &quot;map_34330b79b451bab3669ff270303b1fd3&quot;,\n                {\n                    center: [29.559684888503615, -95.0830971930759],\n                    crs: L.CRS.EPSG3857,\n                    ...{\n  &quot;zoom&quot;: 5,\n  &quot;zoomControl&quot;: true,\n  &quot;preferCanvas&quot;: false,\n}\n\n                }\n            );\n\n            \n\n        \n    \n            var tile_layer_0b60fb28b6188821b2e5e4bb8b9c1304 = L.tileLayer(\n                &quot;https://tile.openstreetmap.org/{z}/{x}/{y}.png&quot;,\n                {\n  &quot;minZoom&quot;: 0,\n  &quot;maxZoom&quot;: 19,\n  &quot;maxNativeZoom&quot;: 19,\n  &quot;noWrap&quot;: false,\n  &quot;attribution&quot;: &quot;\\u0026copy; \\u003ca href=\\&quot;https://www.openstreetmap.org/copyright\\&quot;\\u003eOpenStreetMap\\u003c/a\\u003e contributors&quot;,\n  &quot;subdomains&quot;: &quot;abc&quot;,\n  &quot;detectRetina&quot;: false,\n  &quot;tms&quot;: false,\n  &quot;opacity&quot;: 1,\n}\n\n            );\n        \n    \n            tile_layer_0b60fb28b6188821b2e5e4bb8b9c1304.addTo(map_34330b79b451bab3669ff270303b1fd3);\n        \n    \n            var circle_marker_65465d156998d7d8bd8fa0d6f85d5770 = L.circleMarker(\n                [28.56230197, -80.57735648],\n                {&quot;bubblingMouseEvents&quot;: true, &quot;color&quot;: &quot;blue&quot;, &quot;dashArray&quot;: null, &quot;dashOffset&quot;: null, &quot;fill&quot;: true, &quot;fillColor&quot;: &quot;lightblue&quot;, &quot;fillOpacity&quot;: 0.4, &quot;fillRule&quot;: &quot;evenodd&quot;, &quot;lineCap&quot;: &quot;round&quot;, &quot;lineJoin&quot;: &quot;round&quot;, &quot;opacity&quot;: 1.0, &quot;radius&quot;: 5, &quot;stroke&quot;: true, &quot;weight&quot;: 3}\n            ).addTo(map_34330b79b451bab3669ff270303b1fd3);\n        \n    \n        var popup_1bf6127f574ec4b7989fd7c3e2bdbf4c = L.popup({\n  &quot;maxWidth&quot;: &quot;100%&quot;,\n});\n\n        \n            \n                var html_c1839b74cbe3c29f1cfa8526ec36f0bc = $(`&lt;div id=&quot;html_c1839b74cbe3c29f1cfa8526ec36f0bc&quot; style=&quot;width: 100.0%; height: 100.0%;&quot;&gt;CCAFS LC-40&lt;/div&gt;`)[0];\n                popup_1bf6127f574ec4b7989fd7c3e2bdbf4c.setContent(html_c1839b74cbe3c29f1cfa8526ec36f0bc);\n            \n        \n\n        circle_marker_65465d156998d7d8bd8fa0d6f85d5770.bindPopup(popup_1bf6127f574ec4b7989fd7c3e2bdbf4c)\n        ;\n\n        \n    \n    \n            var circle_marker_18a417a3d9a4141105f0757ca44eef2e = L.circleMarker(\n                [34.63283416, -120.6107455],\n                {&quot;bubblingMouseEvents&quot;: true, &quot;color&quot;: &quot;blue&quot;, &quot;dashArray&quot;: null, &quot;dashOffset&quot;: null, &quot;fill&quot;: true, &quot;fillColor&quot;: &quot;lightblue&quot;, &quot;fillOpacity&quot;: 0.4, &quot;fillRule&quot;: &quot;evenodd&quot;, &quot;lineCap&quot;: &quot;round&quot;, &quot;lineJoin&quot;: &quot;round&quot;, &quot;opacity&quot;: 1.0, &quot;radius&quot;: 5, &quot;stroke&quot;: true, &quot;weight&quot;: 3}\n            ).addTo(map_34330b79b451bab3669ff270303b1fd3);\n        \n    \n        var popup_71441f1aad055b5bb9b3eb2a115bc206 = L.popup({\n  &quot;maxWidth&quot;: &quot;100%&quot;,\n});\n\n        \n            \n                var html_642bc89664c96e33b3dc1bcd82f28375 = $(`&lt;div id=&quot;html_642bc89664c96e33b3dc1bcd82f28375&quot; style=&quot;width: 100.0%; height: 100.0%;&quot;&gt;VAFB SLC-4E&lt;/div&gt;`)[0];\n                popup_71441f1aad055b5bb9b3eb2a115bc206.setContent(html_642bc89664c96e33b3dc1bcd82f28375);\n            \n        \n\n        circle_marker_18a417a3d9a4141105f0757ca44eef2e.bindPopup(popup_71441f1aad055b5bb9b3eb2a115bc206)\n        ;\n\n        \n    \n    \n            var circle_marker_59ef8df1263c7b26c864096f01ee91f7 = L.circleMarker(\n                [28.57325457, -80.64689529],\n                {&quot;bubblingMouseEvents&quot;: true, &quot;color&quot;: &quot;blue&quot;, &quot;dashArray&quot;: null, &quot;dashOffset&quot;: null, &quot;fill&quot;: true, &quot;fillColor&quot;: &quot;lightblue&quot;, &quot;fillOpacity&quot;: 0.4, &quot;fillRule&quot;: &quot;evenodd&quot;, &quot;lineCap&quot;: &quot;round&quot;, &quot;lineJoin&quot;: &quot;round&quot;, &quot;opacity&quot;: 1.0, &quot;radius&quot;: 5, &quot;stroke&quot;: true, &quot;weight&quot;: 3}\n            ).addTo(map_34330b79b451bab3669ff270303b1fd3);\n        \n    \n        var popup_8a3ce35cee504c02892e419758c93b36 = L.popup({\n  &quot;maxWidth&quot;: &quot;100%&quot;,\n});\n\n        \n            \n                var html_167de5d8f6c9f8a6319e59d0889b9971 = $(`&lt;div id=&quot;html_167de5d8f6c9f8a6319e59d0889b9971&quot; style=&quot;width: 100.0%; height: 100.0%;&quot;&gt;KSC LC-39A&lt;/div&gt;`)[0];\n                popup_8a3ce35cee504c02892e419758c93b36.setContent(html_167de5d8f6c9f8a6319e59d0889b9971);\n            \n        \n\n        circle_marker_59ef8df1263c7b26c864096f01ee91f7.bindPopup(popup_8a3ce35cee504c02892e419758c93b36)\n        ;\n\n        \n    \n    \n            var circle_marker_b72e2bb4d2bba057ead1551c78bff51c = L.circleMarker(\n                [28.56319718, -80.57682003],\n                {&quot;bubblingMouseEvents&quot;: true, &quot;color&quot;: &quot;blue&quot;, &quot;dashArray&quot;: null, &quot;dashOffset&quot;: null, &quot;fill&quot;: true, &quot;fillColor&quot;: &quot;lightblue&quot;, &quot;fillOpacity&quot;: 0.4, &quot;fillRule&quot;: &quot;evenodd&quot;, &quot;lineCap&quot;: &quot;round&quot;, &quot;lineJoin&quot;: &quot;round&quot;, &quot;opacity&quot;: 1.0, &quot;radius&quot;: 5, &quot;stroke&quot;: true, &quot;weight&quot;: 3}\n            ).addTo(map_34330b79b451bab3669ff270303b1fd3);\n        \n    \n        var popup_67a1b8a4916d2cbbb755b79d65a061e4 = L.popup({\n  &quot;maxWidth&quot;: &quot;100%&quot;,\n});\n\n        \n            \n                var html_e8ee85e17281f533383161791ceb83ce = $(`&lt;div id=&quot;html_e8ee85e17281f533383161791ceb83ce&quot; style=&quot;width: 100.0%; height: 100.0%;&quot;&gt;CCAFS SLC-40&lt;/div&gt;`)[0];\n                popup_67a1b8a4916d2cbbb755b79d65a061e4.setContent(html_e8ee85e17281f533383161791ceb83ce);\n            \n        \n\n        circle_marker_b72e2bb4d2bba057ead1551c78bff51c.bindPopup(popup_67a1b8a4916d2cbbb755b79d65a061e4)\n        ;\n\n        \n    \n&lt;/script&gt;\n&lt;/html&gt;\" style=\"position:absolute;width:100%;height:100%;left:0;top:0;border:none !important;\" allowfullscreen webkitallowfullscreen mozallowfullscreen></iframe></div></div>"
          },
          "metadata": {}
        }
      ],
      "execution_count": 15
    },
    {
      "cell_type": "markdown",
      "source": "The generated map with marked launch sites should look similar to the following:\n",
      "metadata": {}
    },
    {
      "cell_type": "markdown",
      "source": "<center>\n    <img src=\"https://cf-courses-data.s3.us.cloud-object-storage.appdomain.cloud/IBM-DS0321EN-SkillsNetwork/labs/module_3/images/launch_site_markers.png\">\n</center>\n",
      "metadata": {}
    },
    {
      "cell_type": "markdown",
      "source": "Now, you can explore the map by zoom-in/out the marked areas\n, and try to answer the following questions:\n\n*   Are all launch sites in proximity to the Equator line?\n*   Are all launch sites in very close proximity to the coast?\n\nAlso please try to explain your findings.\n",
      "metadata": {}
    },
    {
      "cell_type": "code",
      "source": "launch_sites_df = spacex_df[['Launch Site', 'Lat', 'Long', 'class']].drop_duplicates()\n\n# Define NASA coordinate (you might want to adjust this)\nnasa_coordinate = [28.563, -80.604]\n\n# Create the map\nsite_map = folium.Map(location=nasa_coordinate, zoom_start=4)\n\n# Function to add markers with different colors based on launch outcome\ndef add_outcome_marker(site_map, launch_site, lat, lon, outcome):\n    \"\"\"Adds a marker with color based on launch outcome.\n\n    Args:\n        site_map (folium.Map): The map object.\n        launch_site (str): The name of the launch site.\n        lat (float): Latitude.\n        lon (float): Longitude.\n        outcome (int): 0 for failure, 1 for success.\n    \"\"\"\n    if outcome == 1:\n        marker_color = 'green'  # Success\n        icon = folium.Icon(color=\"green\", icon=\"ok\")\n    else:\n        marker_color = 'red'    # Failure\n        icon = folium.Icon(color=\"red\", icon=\"remove\")\n\n    folium.Marker(\n        location=[lat, lon],\n        popup=f\"{launch_site}: {'Success' if outcome == 1 else 'Failure'}\",\n        icon=icon\n    ).add_to(site_map)\n\n# Add markers for each launch site with outcome information\nfor index, row in launch_sites_df.iterrows():\n    launch_site = row['Launch Site']\n    lat = row['Lat']\n    lon = row['Long']\n    # Access the outcome value for the current launch site\n    outcome = row['class']  # Assuming 'class' column has 0 for failure, 1 for success\n    add_outcome_marker(site_map, launch_site, lat, lon, outcome)\n\nsite_map",
      "metadata": {
        "scrolled": true,
        "trusted": true
      },
      "outputs": [
        {
          "execution_count": 16,
          "output_type": "execute_result",
          "data": {
            "text/plain": "<folium.folium.Map at 0x54e3df0>",
            "text/html": "<div style=\"width:100%;\"><div style=\"position:relative;width:100%;height:0;padding-bottom:60%;\"><span style=\"color:#565656\">Make this Notebook Trusted to load map: File -> Trust Notebook</span><iframe srcdoc=\"&lt;!DOCTYPE html&gt;\n&lt;html&gt;\n&lt;head&gt;\n    \n    &lt;meta http-equiv=&quot;content-type&quot; content=&quot;text/html; charset=UTF-8&quot; /&gt;\n    \n        &lt;script&gt;\n            L_NO_TOUCH = false;\n            L_DISABLE_3D = false;\n        &lt;/script&gt;\n    \n    &lt;style&gt;html, body {width: 100%;height: 100%;margin: 0;padding: 0;}&lt;/style&gt;\n    &lt;style&gt;#map {position:absolute;top:0;bottom:0;right:0;left:0;}&lt;/style&gt;\n    &lt;script src=&quot;https://cdn.jsdelivr.net/npm/leaflet@1.9.3/dist/leaflet.js&quot;&gt;&lt;/script&gt;\n    &lt;script src=&quot;https://code.jquery.com/jquery-3.7.1.min.js&quot;&gt;&lt;/script&gt;\n    &lt;script src=&quot;https://cdn.jsdelivr.net/npm/bootstrap@5.2.2/dist/js/bootstrap.bundle.min.js&quot;&gt;&lt;/script&gt;\n    &lt;script src=&quot;https://cdnjs.cloudflare.com/ajax/libs/Leaflet.awesome-markers/2.0.2/leaflet.awesome-markers.js&quot;&gt;&lt;/script&gt;\n    &lt;link rel=&quot;stylesheet&quot; href=&quot;https://cdn.jsdelivr.net/npm/leaflet@1.9.3/dist/leaflet.css&quot;/&gt;\n    &lt;link rel=&quot;stylesheet&quot; href=&quot;https://cdn.jsdelivr.net/npm/bootstrap@5.2.2/dist/css/bootstrap.min.css&quot;/&gt;\n    &lt;link rel=&quot;stylesheet&quot; href=&quot;https://netdna.bootstrapcdn.com/bootstrap/3.0.0/css/bootstrap-glyphicons.css&quot;/&gt;\n    &lt;link rel=&quot;stylesheet&quot; href=&quot;https://cdn.jsdelivr.net/npm/@fortawesome/fontawesome-free@6.2.0/css/all.min.css&quot;/&gt;\n    &lt;link rel=&quot;stylesheet&quot; href=&quot;https://cdnjs.cloudflare.com/ajax/libs/Leaflet.awesome-markers/2.0.2/leaflet.awesome-markers.css&quot;/&gt;\n    &lt;link rel=&quot;stylesheet&quot; href=&quot;https://cdn.jsdelivr.net/gh/python-visualization/folium/folium/templates/leaflet.awesome.rotate.min.css&quot;/&gt;\n    \n            &lt;meta name=&quot;viewport&quot; content=&quot;width=device-width,\n                initial-scale=1.0, maximum-scale=1.0, user-scalable=no&quot; /&gt;\n            &lt;style&gt;\n                #map_8f6a21ed9cebd6364dbf34f9dd4a2264 {\n                    position: relative;\n                    width: 100.0%;\n                    height: 100.0%;\n                    left: 0.0%;\n                    top: 0.0%;\n                }\n                .leaflet-container { font-size: 1rem; }\n            &lt;/style&gt;\n        \n&lt;/head&gt;\n&lt;body&gt;\n    \n    \n            &lt;div class=&quot;folium-map&quot; id=&quot;map_8f6a21ed9cebd6364dbf34f9dd4a2264&quot; &gt;&lt;/div&gt;\n        \n&lt;/body&gt;\n&lt;script&gt;\n    \n    \n            var map_8f6a21ed9cebd6364dbf34f9dd4a2264 = L.map(\n                &quot;map_8f6a21ed9cebd6364dbf34f9dd4a2264&quot;,\n                {\n                    center: [28.563, -80.604],\n                    crs: L.CRS.EPSG3857,\n                    ...{\n  &quot;zoom&quot;: 4,\n  &quot;zoomControl&quot;: true,\n  &quot;preferCanvas&quot;: false,\n}\n\n                }\n            );\n\n            \n\n        \n    \n            var tile_layer_622aecc8125887dd8913480a33b676f5 = L.tileLayer(\n                &quot;https://tile.openstreetmap.org/{z}/{x}/{y}.png&quot;,\n                {\n  &quot;minZoom&quot;: 0,\n  &quot;maxZoom&quot;: 19,\n  &quot;maxNativeZoom&quot;: 19,\n  &quot;noWrap&quot;: false,\n  &quot;attribution&quot;: &quot;\\u0026copy; \\u003ca href=\\&quot;https://www.openstreetmap.org/copyright\\&quot;\\u003eOpenStreetMap\\u003c/a\\u003e contributors&quot;,\n  &quot;subdomains&quot;: &quot;abc&quot;,\n  &quot;detectRetina&quot;: false,\n  &quot;tms&quot;: false,\n  &quot;opacity&quot;: 1,\n}\n\n            );\n        \n    \n            tile_layer_622aecc8125887dd8913480a33b676f5.addTo(map_8f6a21ed9cebd6364dbf34f9dd4a2264);\n        \n    \n            var marker_d78fbb4b0d3d6bafdd437534d8552d91 = L.marker(\n                [28.56230197, -80.57735648],\n                {\n}\n            ).addTo(map_8f6a21ed9cebd6364dbf34f9dd4a2264);\n        \n    \n            var icon_252a22246e23ec6b1fcb51bc9196e672 = L.AwesomeMarkers.icon(\n                {\n  &quot;markerColor&quot;: &quot;red&quot;,\n  &quot;iconColor&quot;: &quot;white&quot;,\n  &quot;icon&quot;: &quot;remove&quot;,\n  &quot;prefix&quot;: &quot;glyphicon&quot;,\n  &quot;extraClasses&quot;: &quot;fa-rotate-0&quot;,\n}\n            );\n            marker_d78fbb4b0d3d6bafdd437534d8552d91.setIcon(icon_252a22246e23ec6b1fcb51bc9196e672);\n        \n    \n        var popup_7ae154f966fbea8feb50f723f9e83392 = L.popup({\n  &quot;maxWidth&quot;: &quot;100%&quot;,\n});\n\n        \n            \n                var html_784a6d96c20289450122ce78d2db750f = $(`&lt;div id=&quot;html_784a6d96c20289450122ce78d2db750f&quot; style=&quot;width: 100.0%; height: 100.0%;&quot;&gt;CCAFS LC-40: Failure&lt;/div&gt;`)[0];\n                popup_7ae154f966fbea8feb50f723f9e83392.setContent(html_784a6d96c20289450122ce78d2db750f);\n            \n        \n\n        marker_d78fbb4b0d3d6bafdd437534d8552d91.bindPopup(popup_7ae154f966fbea8feb50f723f9e83392)\n        ;\n\n        \n    \n    \n            var marker_eda2ffc78522fe23f651fc520f00792f = L.marker(\n                [28.56230197, -80.57735648],\n                {\n}\n            ).addTo(map_8f6a21ed9cebd6364dbf34f9dd4a2264);\n        \n    \n            var icon_85fea7d93501ca42647ad64a5ba0a4f5 = L.AwesomeMarkers.icon(\n                {\n  &quot;markerColor&quot;: &quot;green&quot;,\n  &quot;iconColor&quot;: &quot;white&quot;,\n  &quot;icon&quot;: &quot;ok&quot;,\n  &quot;prefix&quot;: &quot;glyphicon&quot;,\n  &quot;extraClasses&quot;: &quot;fa-rotate-0&quot;,\n}\n            );\n            marker_eda2ffc78522fe23f651fc520f00792f.setIcon(icon_85fea7d93501ca42647ad64a5ba0a4f5);\n        \n    \n        var popup_36b24812d6006687a617d04013fc9aff = L.popup({\n  &quot;maxWidth&quot;: &quot;100%&quot;,\n});\n\n        \n            \n                var html_8790ebae123ba50bc326087b5af47552 = $(`&lt;div id=&quot;html_8790ebae123ba50bc326087b5af47552&quot; style=&quot;width: 100.0%; height: 100.0%;&quot;&gt;CCAFS LC-40: Success&lt;/div&gt;`)[0];\n                popup_36b24812d6006687a617d04013fc9aff.setContent(html_8790ebae123ba50bc326087b5af47552);\n            \n        \n\n        marker_eda2ffc78522fe23f651fc520f00792f.bindPopup(popup_36b24812d6006687a617d04013fc9aff)\n        ;\n\n        \n    \n    \n            var marker_ad9baa6c780cbfa581f6ba272ad37281 = L.marker(\n                [34.63283416, -120.6107455],\n                {\n}\n            ).addTo(map_8f6a21ed9cebd6364dbf34f9dd4a2264);\n        \n    \n            var icon_45cfafe691cedbdd02daa5858e292adc = L.AwesomeMarkers.icon(\n                {\n  &quot;markerColor&quot;: &quot;red&quot;,\n  &quot;iconColor&quot;: &quot;white&quot;,\n  &quot;icon&quot;: &quot;remove&quot;,\n  &quot;prefix&quot;: &quot;glyphicon&quot;,\n  &quot;extraClasses&quot;: &quot;fa-rotate-0&quot;,\n}\n            );\n            marker_ad9baa6c780cbfa581f6ba272ad37281.setIcon(icon_45cfafe691cedbdd02daa5858e292adc);\n        \n    \n        var popup_4e42da06af7d189bd94b89d4434233c5 = L.popup({\n  &quot;maxWidth&quot;: &quot;100%&quot;,\n});\n\n        \n            \n                var html_73ad39ea651f6827379db5e960f5f36f = $(`&lt;div id=&quot;html_73ad39ea651f6827379db5e960f5f36f&quot; style=&quot;width: 100.0%; height: 100.0%;&quot;&gt;VAFB SLC-4E: Failure&lt;/div&gt;`)[0];\n                popup_4e42da06af7d189bd94b89d4434233c5.setContent(html_73ad39ea651f6827379db5e960f5f36f);\n            \n        \n\n        marker_ad9baa6c780cbfa581f6ba272ad37281.bindPopup(popup_4e42da06af7d189bd94b89d4434233c5)\n        ;\n\n        \n    \n    \n            var marker_ac9bc050181696587c27a359deec7142 = L.marker(\n                [34.63283416, -120.6107455],\n                {\n}\n            ).addTo(map_8f6a21ed9cebd6364dbf34f9dd4a2264);\n        \n    \n            var icon_0bf8baf45a12acdc8cfcf279377cf6b7 = L.AwesomeMarkers.icon(\n                {\n  &quot;markerColor&quot;: &quot;green&quot;,\n  &quot;iconColor&quot;: &quot;white&quot;,\n  &quot;icon&quot;: &quot;ok&quot;,\n  &quot;prefix&quot;: &quot;glyphicon&quot;,\n  &quot;extraClasses&quot;: &quot;fa-rotate-0&quot;,\n}\n            );\n            marker_ac9bc050181696587c27a359deec7142.setIcon(icon_0bf8baf45a12acdc8cfcf279377cf6b7);\n        \n    \n        var popup_c8f794d8bf55da5370ec2572f83e6bcf = L.popup({\n  &quot;maxWidth&quot;: &quot;100%&quot;,\n});\n\n        \n            \n                var html_55a7c8892171ded885d3da8cb742b48b = $(`&lt;div id=&quot;html_55a7c8892171ded885d3da8cb742b48b&quot; style=&quot;width: 100.0%; height: 100.0%;&quot;&gt;VAFB SLC-4E: Success&lt;/div&gt;`)[0];\n                popup_c8f794d8bf55da5370ec2572f83e6bcf.setContent(html_55a7c8892171ded885d3da8cb742b48b);\n            \n        \n\n        marker_ac9bc050181696587c27a359deec7142.bindPopup(popup_c8f794d8bf55da5370ec2572f83e6bcf)\n        ;\n\n        \n    \n    \n            var marker_6fe1fb6233dfc61227641ad354d7732b = L.marker(\n                [28.57325457, -80.64689529],\n                {\n}\n            ).addTo(map_8f6a21ed9cebd6364dbf34f9dd4a2264);\n        \n    \n            var icon_8bad082e68981d818bf444ec1ca96a4b = L.AwesomeMarkers.icon(\n                {\n  &quot;markerColor&quot;: &quot;green&quot;,\n  &quot;iconColor&quot;: &quot;white&quot;,\n  &quot;icon&quot;: &quot;ok&quot;,\n  &quot;prefix&quot;: &quot;glyphicon&quot;,\n  &quot;extraClasses&quot;: &quot;fa-rotate-0&quot;,\n}\n            );\n            marker_6fe1fb6233dfc61227641ad354d7732b.setIcon(icon_8bad082e68981d818bf444ec1ca96a4b);\n        \n    \n        var popup_30a4351a49361598d816b2ca1b0feda4 = L.popup({\n  &quot;maxWidth&quot;: &quot;100%&quot;,\n});\n\n        \n            \n                var html_45844d727c9a620598942dead3442e7d = $(`&lt;div id=&quot;html_45844d727c9a620598942dead3442e7d&quot; style=&quot;width: 100.0%; height: 100.0%;&quot;&gt;KSC LC-39A: Success&lt;/div&gt;`)[0];\n                popup_30a4351a49361598d816b2ca1b0feda4.setContent(html_45844d727c9a620598942dead3442e7d);\n            \n        \n\n        marker_6fe1fb6233dfc61227641ad354d7732b.bindPopup(popup_30a4351a49361598d816b2ca1b0feda4)\n        ;\n\n        \n    \n    \n            var marker_3847d13cea2bdc58a120bdcd98871185 = L.marker(\n                [28.57325457, -80.64689529],\n                {\n}\n            ).addTo(map_8f6a21ed9cebd6364dbf34f9dd4a2264);\n        \n    \n            var icon_e160c768a6f9645213e86667006d3459 = L.AwesomeMarkers.icon(\n                {\n  &quot;markerColor&quot;: &quot;red&quot;,\n  &quot;iconColor&quot;: &quot;white&quot;,\n  &quot;icon&quot;: &quot;remove&quot;,\n  &quot;prefix&quot;: &quot;glyphicon&quot;,\n  &quot;extraClasses&quot;: &quot;fa-rotate-0&quot;,\n}\n            );\n            marker_3847d13cea2bdc58a120bdcd98871185.setIcon(icon_e160c768a6f9645213e86667006d3459);\n        \n    \n        var popup_7028fd9e358b3af48d9fedbd36e911ce = L.popup({\n  &quot;maxWidth&quot;: &quot;100%&quot;,\n});\n\n        \n            \n                var html_67254bdeedf8d84f8ebfaaa9f39d80ee = $(`&lt;div id=&quot;html_67254bdeedf8d84f8ebfaaa9f39d80ee&quot; style=&quot;width: 100.0%; height: 100.0%;&quot;&gt;KSC LC-39A: Failure&lt;/div&gt;`)[0];\n                popup_7028fd9e358b3af48d9fedbd36e911ce.setContent(html_67254bdeedf8d84f8ebfaaa9f39d80ee);\n            \n        \n\n        marker_3847d13cea2bdc58a120bdcd98871185.bindPopup(popup_7028fd9e358b3af48d9fedbd36e911ce)\n        ;\n\n        \n    \n    \n            var marker_e9b20dd748c36f2e01a5c547100cf6d3 = L.marker(\n                [28.56319718, -80.57682003],\n                {\n}\n            ).addTo(map_8f6a21ed9cebd6364dbf34f9dd4a2264);\n        \n    \n            var icon_6e1a30493f8c36acfdb20d0187c3f972 = L.AwesomeMarkers.icon(\n                {\n  &quot;markerColor&quot;: &quot;green&quot;,\n  &quot;iconColor&quot;: &quot;white&quot;,\n  &quot;icon&quot;: &quot;ok&quot;,\n  &quot;prefix&quot;: &quot;glyphicon&quot;,\n  &quot;extraClasses&quot;: &quot;fa-rotate-0&quot;,\n}\n            );\n            marker_e9b20dd748c36f2e01a5c547100cf6d3.setIcon(icon_6e1a30493f8c36acfdb20d0187c3f972);\n        \n    \n        var popup_dedba915d04c492e8dbcc7d7d8775e8b = L.popup({\n  &quot;maxWidth&quot;: &quot;100%&quot;,\n});\n\n        \n            \n                var html_891f7b9316ec514e09a74a8eb7db7300 = $(`&lt;div id=&quot;html_891f7b9316ec514e09a74a8eb7db7300&quot; style=&quot;width: 100.0%; height: 100.0%;&quot;&gt;CCAFS SLC-40: Success&lt;/div&gt;`)[0];\n                popup_dedba915d04c492e8dbcc7d7d8775e8b.setContent(html_891f7b9316ec514e09a74a8eb7db7300);\n            \n        \n\n        marker_e9b20dd748c36f2e01a5c547100cf6d3.bindPopup(popup_dedba915d04c492e8dbcc7d7d8775e8b)\n        ;\n\n        \n    \n    \n            var marker_7d6e18e286f6e868a6ad594a006e037d = L.marker(\n                [28.56319718, -80.57682003],\n                {\n}\n            ).addTo(map_8f6a21ed9cebd6364dbf34f9dd4a2264);\n        \n    \n            var icon_0156f14db1162ad127f5b79dff55ce13 = L.AwesomeMarkers.icon(\n                {\n  &quot;markerColor&quot;: &quot;red&quot;,\n  &quot;iconColor&quot;: &quot;white&quot;,\n  &quot;icon&quot;: &quot;remove&quot;,\n  &quot;prefix&quot;: &quot;glyphicon&quot;,\n  &quot;extraClasses&quot;: &quot;fa-rotate-0&quot;,\n}\n            );\n            marker_7d6e18e286f6e868a6ad594a006e037d.setIcon(icon_0156f14db1162ad127f5b79dff55ce13);\n        \n    \n        var popup_861194fb513d1e974493e6b5c0103dd4 = L.popup({\n  &quot;maxWidth&quot;: &quot;100%&quot;,\n});\n\n        \n            \n                var html_27430f3f2fb00b4d1492df8d24b66b04 = $(`&lt;div id=&quot;html_27430f3f2fb00b4d1492df8d24b66b04&quot; style=&quot;width: 100.0%; height: 100.0%;&quot;&gt;CCAFS SLC-40: Failure&lt;/div&gt;`)[0];\n                popup_861194fb513d1e974493e6b5c0103dd4.setContent(html_27430f3f2fb00b4d1492df8d24b66b04);\n            \n        \n\n        marker_7d6e18e286f6e868a6ad594a006e037d.bindPopup(popup_861194fb513d1e974493e6b5c0103dd4)\n        ;\n\n        \n    \n&lt;/script&gt;\n&lt;/html&gt;\" style=\"position:absolute;width:100%;height:100%;left:0;top:0;border:none !important;\" allowfullscreen webkitallowfullscreen mozallowfullscreen></iframe></div></div>"
          },
          "metadata": {}
        }
      ],
      "execution_count": 16
    },
    {
      "cell_type": "markdown",
      "source": "Next, let's try to enhance the map by adding the launch outcomes for each site, and see which sites have high success rates.\nRecall that data frame spacex_df has detailed launch records, and the `class` column indicates if this launch was successful or not\n",
      "metadata": {}
    },
    {
      "cell_type": "code",
      "source": "spacex_df.tail(10)",
      "metadata": {
        "trusted": true
      },
      "outputs": [
        {
          "execution_count": 17,
          "output_type": "execute_result",
          "data": {
            "text/plain": "     Launch Site        Lat       Long  class\n46    KSC LC-39A  28.573255 -80.646895      1\n47    KSC LC-39A  28.573255 -80.646895      1\n48    KSC LC-39A  28.573255 -80.646895      1\n49  CCAFS SLC-40  28.563197 -80.576820      1\n50  CCAFS SLC-40  28.563197 -80.576820      1\n51  CCAFS SLC-40  28.563197 -80.576820      0\n52  CCAFS SLC-40  28.563197 -80.576820      0\n53  CCAFS SLC-40  28.563197 -80.576820      0\n54  CCAFS SLC-40  28.563197 -80.576820      1\n55  CCAFS SLC-40  28.563197 -80.576820      0",
            "text/html": "<div>\n<style scoped>\n    .dataframe tbody tr th:only-of-type {\n        vertical-align: middle;\n    }\n\n    .dataframe tbody tr th {\n        vertical-align: top;\n    }\n\n    .dataframe thead th {\n        text-align: right;\n    }\n</style>\n<table border=\"1\" class=\"dataframe\">\n  <thead>\n    <tr style=\"text-align: right;\">\n      <th></th>\n      <th>Launch Site</th>\n      <th>Lat</th>\n      <th>Long</th>\n      <th>class</th>\n    </tr>\n  </thead>\n  <tbody>\n    <tr>\n      <th>46</th>\n      <td>KSC LC-39A</td>\n      <td>28.573255</td>\n      <td>-80.646895</td>\n      <td>1</td>\n    </tr>\n    <tr>\n      <th>47</th>\n      <td>KSC LC-39A</td>\n      <td>28.573255</td>\n      <td>-80.646895</td>\n      <td>1</td>\n    </tr>\n    <tr>\n      <th>48</th>\n      <td>KSC LC-39A</td>\n      <td>28.573255</td>\n      <td>-80.646895</td>\n      <td>1</td>\n    </tr>\n    <tr>\n      <th>49</th>\n      <td>CCAFS SLC-40</td>\n      <td>28.563197</td>\n      <td>-80.576820</td>\n      <td>1</td>\n    </tr>\n    <tr>\n      <th>50</th>\n      <td>CCAFS SLC-40</td>\n      <td>28.563197</td>\n      <td>-80.576820</td>\n      <td>1</td>\n    </tr>\n    <tr>\n      <th>51</th>\n      <td>CCAFS SLC-40</td>\n      <td>28.563197</td>\n      <td>-80.576820</td>\n      <td>0</td>\n    </tr>\n    <tr>\n      <th>52</th>\n      <td>CCAFS SLC-40</td>\n      <td>28.563197</td>\n      <td>-80.576820</td>\n      <td>0</td>\n    </tr>\n    <tr>\n      <th>53</th>\n      <td>CCAFS SLC-40</td>\n      <td>28.563197</td>\n      <td>-80.576820</td>\n      <td>0</td>\n    </tr>\n    <tr>\n      <th>54</th>\n      <td>CCAFS SLC-40</td>\n      <td>28.563197</td>\n      <td>-80.576820</td>\n      <td>1</td>\n    </tr>\n    <tr>\n      <th>55</th>\n      <td>CCAFS SLC-40</td>\n      <td>28.563197</td>\n      <td>-80.576820</td>\n      <td>0</td>\n    </tr>\n  </tbody>\n</table>\n</div>"
          },
          "metadata": {}
        }
      ],
      "execution_count": 17
    },
    {
      "cell_type": "markdown",
      "source": "Next, let's create markers for all launch records.\nIf a launch was successful `(class=1)`, then we use a green marker and if a launch was failed, we use a red marker `(class=0)`\n",
      "metadata": {}
    },
    {
      "cell_type": "markdown",
      "source": "Note that a launch only happens in one of the four launch sites, which means many launch records will have the exact same coordinate. Marker clusters can be a good way to simplify a map containing many markers having the same coordinate.\n",
      "metadata": {}
    },
    {
      "cell_type": "markdown",
      "source": "Let's first create a `MarkerCluster` object\n",
      "metadata": {}
    },
    {
      "cell_type": "code",
      "source": "marker_cluster = MarkerCluster()\n",
      "metadata": {
        "trusted": true
      },
      "outputs": [],
      "execution_count": 18
    },
    {
      "cell_type": "markdown",
      "source": "*TODO:* Create a new column in `spacex_df` dataframe called `marker_color` to store the marker colors based on the `class` value\n",
      "metadata": {}
    },
    {
      "cell_type": "code",
      "source": "!python -m pip install geopy",
      "metadata": {
        "trusted": true
      },
      "outputs": [
        {
          "ename": "<class 'OSError'>",
          "evalue": "Not available",
          "traceback": [
            "\u001b[0;31m---------------------------------------------------------------------------\u001b[0m",
            "\u001b[0;31mOSError\u001b[0m                                   Traceback (most recent call last)",
            "Cell \u001b[0;32mIn[19], line 1\u001b[0m\n\u001b[0;32m----> 1\u001b[0m \u001b[43mget_ipython\u001b[49m\u001b[43m(\u001b[49m\u001b[43m)\u001b[49m\u001b[38;5;241;43m.\u001b[39;49m\u001b[43msystem\u001b[49m\u001b[43m(\u001b[49m\u001b[38;5;124;43m'\u001b[39;49m\u001b[38;5;124;43mpython -m pip install geopy\u001b[39;49m\u001b[38;5;124;43m'\u001b[39;49m\u001b[43m)\u001b[49m\n",
            "File \u001b[0;32m/lib/python3.12/site-packages/IPython/core/interactiveshell.py:2653\u001b[0m, in \u001b[0;36mInteractiveShell.system_piped\u001b[0;34m(self, cmd)\u001b[0m\n\u001b[1;32m   2648\u001b[0m     \u001b[38;5;28;01mraise\u001b[39;00m \u001b[38;5;167;01mOSError\u001b[39;00m(\u001b[38;5;124m\"\u001b[39m\u001b[38;5;124mBackground processes not supported.\u001b[39m\u001b[38;5;124m\"\u001b[39m)\n\u001b[1;32m   2650\u001b[0m \u001b[38;5;66;03m# we explicitly do NOT return the subprocess status code, because\u001b[39;00m\n\u001b[1;32m   2651\u001b[0m \u001b[38;5;66;03m# a non-None value would trigger :func:`sys.displayhook` calls.\u001b[39;00m\n\u001b[1;32m   2652\u001b[0m \u001b[38;5;66;03m# Instead, we store the exit_code in user_ns.\u001b[39;00m\n\u001b[0;32m-> 2653\u001b[0m \u001b[38;5;28mself\u001b[39m\u001b[38;5;241m.\u001b[39muser_ns[\u001b[38;5;124m'\u001b[39m\u001b[38;5;124m_exit_code\u001b[39m\u001b[38;5;124m'\u001b[39m] \u001b[38;5;241m=\u001b[39m \u001b[43msystem\u001b[49m\u001b[43m(\u001b[49m\u001b[38;5;28;43mself\u001b[39;49m\u001b[38;5;241;43m.\u001b[39;49m\u001b[43mvar_expand\u001b[49m\u001b[43m(\u001b[49m\u001b[43mcmd\u001b[49m\u001b[43m,\u001b[49m\u001b[43m \u001b[49m\u001b[43mdepth\u001b[49m\u001b[38;5;241;43m=\u001b[39;49m\u001b[38;5;241;43m1\u001b[39;49m\u001b[43m)\u001b[49m\u001b[43m)\u001b[49m\n",
            "File \u001b[0;32m/lib/python3.12/site-packages/IPython/utils/_process_emscripten.py:11\u001b[0m, in \u001b[0;36msystem\u001b[0;34m(cmd)\u001b[0m\n\u001b[1;32m     10\u001b[0m \u001b[38;5;28;01mdef\u001b[39;00m \u001b[38;5;21msystem\u001b[39m(cmd):\n\u001b[0;32m---> 11\u001b[0m     \u001b[38;5;28;01mraise\u001b[39;00m \u001b[38;5;167;01mOSError\u001b[39;00m(\u001b[38;5;124m\"\u001b[39m\u001b[38;5;124mNot available\u001b[39m\u001b[38;5;124m\"\u001b[39m)\n",
            "\u001b[0;31mOSError\u001b[0m: Not available"
          ],
          "output_type": "error"
        }
      ],
      "execution_count": 19
    },
    {
      "cell_type": "code",
      "source": "\n# Apply a function to check the value of `class` column\n# If class=1, marker_color value will be green\n# If class=0, marker_color value will be red\nimport pandas as pd\nimport folium\nfrom geopy.geocoders import Nominatim\nfrom geopy.distance import geodesic\nimport numpy as np\n\n# Assuming you have your spacex_df DataFrame\n\n# Function to find the nearest coastline coordinates (using reverse geocoding)\ndef find_nearest_coastline(lat, lon):\n    \"\"\"Finds the nearest coastline coordinates using reverse geocoding.\n\n    Args:\n        lat (float): Latitude.\n        lon (float): Longitude.\n\n    Returns:\n        tuple: (latitude, longitude) of the nearest coastline, or None if not found.\n    \"\"\"\n    geolocator = Nominatim(user_agent=\"coastline_finder\")\n    location = geolocator.reverse((lat, lon), language='en')\n\n    if location:\n      address = location.raw['address']\n      if 'sea' in address or 'ocean' in address or 'coast' in address or 'beach' in address:\n        return (lat,lon)\n      else:\n        #Try searching nearby\n        for i in np.arange(0.01,0.1,0.01):\n          location_nearby = geolocator.reverse((lat+i, lon), language='en')\n          if location_nearby:\n            address_nearby = location_nearby.raw['address']\n            if 'sea' in address_nearby or 'ocean' in address_nearby or 'coast' in address_nearby or 'beach' in address_nearby:\n              return (lat+i,lon)\n          location_nearby = geolocator.reverse((lat-i, lon), language='en')\n          if location_nearby:\n            address_nearby = location_nearby.raw['address']\n            if 'sea' in address_nearby or 'ocean' in address_nearby or 'coast' in address_nearby or 'beach' in address_nearby:\n              return (lat-i,lon)\n          location_nearby = geolocator.reverse((lat, lon+i), language='en')\n          if location_nearby:\n            address_nearby = location_nearby.raw['address']\n            if 'sea' in address_nearby or 'ocean' in address_nearby or 'coast' in address_nearby or 'beach' in address_nearby:\n              return (lat,lon+i)\n          location_nearby = geolocator.reverse((lat, lon-i), language='en')\n          if location_nearby:\n            address_nearby = location_nearby.raw['address']\n            if 'sea' in address_nearby or 'ocean' in address_nearby or 'coast' in address_nearby or 'beach' in address_nearby:\n              return (lat,lon-i)\n        return None\n    else:\n        return None\n\n# Function to calculate distance using geodesic\ndef calculate_distance(lat1, lon1, lat2, lon2):\n    \"\"\"Calculates the geodesic distance between two points.\n\n    Args:\n        lat1 (float): Latitude of the first point.\n        lon1 (float): Longitude of the first point.\n        lat2 (float): Latitude of the second point.\n        lon2 (float): Longitude of the second point.\n\n    Returns:\n        float: Distance in kilometers.\n    \"\"\"\n    coords_1 = (lat1, lon1)\n    coords_2 = (lat2, lon2)\n\n    try:\n        distance = geodesic(coords_1, coords_2).km\n        return distance\n    except ValueError:\n        return None  # Handle cases where coordinates are invalid\n\n# Example usage (assuming you have launch_sites_df):\nlaunch_sites_df['Coastline_Lat'] = 0.0\nlaunch_sites_df['Coastline_Lon'] = 0.0\nlaunch_sites_df['Distance_Coastline'] = 0.0\n\nfor index, row in launch_sites_df.iterrows():\n    launch_site_lat = row['Lat']\n    launch_site_lon = row['Long']\n\n    coastline_coords = find_nearest_coastline(launch_site_lat, launch_site_lon)\n\n    if coastline_coords:\n        coastline_lat, coastline_lon = coastline_coords\n        distance_coastline = calculate_distance(launch_site_lat, launch_site_lon, coastline_lat, coastline_lon)\n\n        launch_sites_df.loc[index, 'Coastline_Lat'] = coastline_lat\n        launch_sites_df.loc[index, 'Coastline_Lon'] = coastline_lon\n        launch_sites_df.loc[index, 'Distance_Coastline'] = distance_coastline\n    else:\n        print(f\"Coastline not found for {row['Launch Site']}\")\n\nprint(launch_sites_df)\n\n# Create a map centered on the mean of launch site coordinates\nmap_center = [launch_sites_df['Lat'].mean(), launch_sites_df['Long'].mean()]\nsite_map = folium.Map(location=map_center, zoom_start=6)\n\n# Add markers for launch sites and coastline points\nfor index, row in launch_sites_df.iterrows():\n    folium.CircleMarker(\n        location=[row['Lat'], row['Long']],\n        radius=5,\n        color='blue',\n        fill=True,\n        fill_color='blue',\n        popup=f\"{row['Launch Site']}\"\n    ).add_to(site_map)\n\n    if not np.isnan(row['Coastline_Lat']) and not np.isnan(row['Coastline_Lon']): #check if nan values are present\n        folium.CircleMarker(\n            location=[row['Coastline_Lat'], row['Coastline_Lon']],\n            radius=3,\n            color='red',\n            fill=True,\n            fill_color='red',\n            popup=f\"Nearest Coastline to {row['Launch Site']}\"\n        ).add_to(site_map)\n        # Add a line connecting the launch site and coastline\n        locations = [[row['Lat'], row['Long']],[row['Coastline_Lat'], row['Coastline_Lon']]]\n        folium.PolyLine(locations=locations, color='green').add_to(site_map)\n\n# Display the map\nsite_map\n ",
      "metadata": {
        "trusted": true
      },
      "outputs": [
        {
          "ename": "<class 'ModuleNotFoundError'>",
          "evalue": "No module named 'geopy'",
          "traceback": [
            "\u001b[0;31m---------------------------------------------------------------------------\u001b[0m",
            "\u001b[0;31mModuleNotFoundError\u001b[0m                       Traceback (most recent call last)",
            "Cell \u001b[0;32mIn[15], line 6\u001b[0m\n\u001b[1;32m      4\u001b[0m \u001b[38;5;28;01mimport\u001b[39;00m \u001b[38;5;21;01mpandas\u001b[39;00m \u001b[38;5;28;01mas\u001b[39;00m \u001b[38;5;21;01mpd\u001b[39;00m\n\u001b[1;32m      5\u001b[0m \u001b[38;5;28;01mimport\u001b[39;00m \u001b[38;5;21;01mfolium\u001b[39;00m\n\u001b[0;32m----> 6\u001b[0m \u001b[38;5;28;01mfrom\u001b[39;00m \u001b[38;5;21;01mgeopy\u001b[39;00m\u001b[38;5;21;01m.\u001b[39;00m\u001b[38;5;21;01mgeocoders\u001b[39;00m \u001b[38;5;28;01mimport\u001b[39;00m Nominatim\n\u001b[1;32m      7\u001b[0m \u001b[38;5;28;01mfrom\u001b[39;00m \u001b[38;5;21;01mgeopy\u001b[39;00m\u001b[38;5;21;01m.\u001b[39;00m\u001b[38;5;21;01mdistance\u001b[39;00m \u001b[38;5;28;01mimport\u001b[39;00m geodesic\n\u001b[1;32m      8\u001b[0m \u001b[38;5;28;01mimport\u001b[39;00m \u001b[38;5;21;01mnumpy\u001b[39;00m \u001b[38;5;28;01mas\u001b[39;00m \u001b[38;5;21;01mnp\u001b[39;00m\n",
            "\u001b[0;31mModuleNotFoundError\u001b[0m: No module named 'geopy'"
          ],
          "output_type": "error"
        }
      ],
      "execution_count": 15
    },
    {
      "cell_type": "markdown",
      "source": "*TODO:* For each launch result in `spacex_df` data frame, add a `folium.Marker` to `marker_cluster`\n",
      "metadata": {}
    },
    {
      "cell_type": "code",
      "source": "# Add marker_cluster to current site_map\nsite_map.add_child(marker_cluster)\n\n# for each row in spacex_df data frame\n# create a Marker object with its coordinate\n# and customize the Marker's icon property to indicate if this launch was successed or failed, \n# e.g., icon=folium.Icon(color='white', icon_color=row['marker_color']\nfor index, record in spacex_df.iterrows():\n    # TODO: Create and add a Marker cluster to the site map\n    # marker = folium.Marker(...)\n    marker_cluster.add_child(marker)\n\nsite_map",
      "metadata": {
        "trusted": true
      },
      "outputs": [
        {
          "ename": "<class 'NameError'>",
          "evalue": "name 'spacex_df' is not defined",
          "traceback": [
            "\u001b[0;31m---------------------------------------------------------------------------\u001b[0m",
            "\u001b[0;31mNameError\u001b[0m                                 Traceback (most recent call last)",
            "Cell \u001b[0;32mIn[16], line 8\u001b[0m\n\u001b[1;32m      2\u001b[0m site_map\u001b[38;5;241m.\u001b[39madd_child(marker_cluster)\n\u001b[1;32m      4\u001b[0m \u001b[38;5;66;03m# for each row in spacex_df data frame\u001b[39;00m\n\u001b[1;32m      5\u001b[0m \u001b[38;5;66;03m# create a Marker object with its coordinate\u001b[39;00m\n\u001b[1;32m      6\u001b[0m \u001b[38;5;66;03m# and customize the Marker's icon property to indicate if this launch was successed or failed, \u001b[39;00m\n\u001b[1;32m      7\u001b[0m \u001b[38;5;66;03m# e.g., icon=folium.Icon(color='white', icon_color=row['marker_color']\u001b[39;00m\n\u001b[0;32m----> 8\u001b[0m \u001b[38;5;28;01mfor\u001b[39;00m index, record \u001b[38;5;129;01min\u001b[39;00m \u001b[43mspacex_df\u001b[49m\u001b[38;5;241m.\u001b[39miterrows():\n\u001b[1;32m      9\u001b[0m     \u001b[38;5;66;03m# TODO: Create and add a Marker cluster to the site map\u001b[39;00m\n\u001b[1;32m     10\u001b[0m     \u001b[38;5;66;03m# marker = folium.Marker(...)\u001b[39;00m\n\u001b[1;32m     11\u001b[0m     marker_cluster\u001b[38;5;241m.\u001b[39madd_child(marker)\n\u001b[1;32m     13\u001b[0m site_map\n",
            "\u001b[0;31mNameError\u001b[0m: name 'spacex_df' is not defined"
          ],
          "output_type": "error"
        }
      ],
      "execution_count": 16
    },
    {
      "cell_type": "markdown",
      "source": "Your updated map may look like the following screenshots:\n",
      "metadata": {}
    },
    {
      "cell_type": "markdown",
      "source": "<center>\n    <img src=\"https://cf-courses-data.s3.us.cloud-object-storage.appdomain.cloud/IBM-DS0321EN-SkillsNetwork/labs/module_3/images/launch_site_marker_cluster.png\">\n</center>\n",
      "metadata": {}
    },
    {
      "cell_type": "markdown",
      "source": "<center>\n    <img src=\"https://cf-courses-data.s3.us.cloud-object-storage.appdomain.cloud/IBM-DS0321EN-SkillsNetwork/labs/module_3/images/launch_site_marker_cluster_zoomed.png\">\n</center>\n",
      "metadata": {}
    },
    {
      "cell_type": "markdown",
      "source": "From the color-labeled markers in marker clusters, you should be able to easily identify which launch sites have relatively high success rates.\n",
      "metadata": {}
    },
    {
      "cell_type": "code",
      "source": "# TASK 3: Calculate the distances between a launch site to its proximities\n",
      "metadata": {
        "trusted": true
      },
      "outputs": [],
      "execution_count": 17
    },
    {
      "cell_type": "markdown",
      "source": "Next, we need to explore and analyze the proximities of launch sites.\n",
      "metadata": {}
    },
    {
      "cell_type": "markdown",
      "source": "Let's first add a `MousePosition` on the map to get coordinate for a mouse over a point on the map. As such, while you are exploring the map, you can easily find the coordinates of any points of interests (such as railway)\n",
      "metadata": {}
    },
    {
      "cell_type": "code",
      "source": "# Add Mouse Position to get the coordinate (Lat, Long) for a mouse over on the map\nformatter = \"function(num) {return L.Util.formatNum(num, 5);};\"\nmouse_position = MousePosition(\n    position='topright',\n    separator=' Long: ',\n    empty_string='NaN',\n    lng_first=False,\n    num_digits=20,\n    prefix='Lat:',\n    lat_formatter=formatter,\n    lng_formatter=formatter,\n)\n\nsite_map.add_child(mouse_position)\nsite_map",
      "metadata": {
        "trusted": true
      },
      "outputs": [
        {
          "execution_count": 18,
          "output_type": "execute_result",
          "data": {
            "text/plain": "<folium.folium.Map at 0x5e4ad10>",
            "text/html": "<div style=\"width:100%;\"><div style=\"position:relative;width:100%;height:0;padding-bottom:60%;\"><span style=\"color:#565656\">Make this Notebook Trusted to load map: File -> Trust Notebook</span><iframe srcdoc=\"&lt;!DOCTYPE html&gt;\n&lt;html&gt;\n&lt;head&gt;\n    \n    &lt;meta http-equiv=&quot;content-type&quot; content=&quot;text/html; charset=UTF-8&quot; /&gt;\n    \n        &lt;script&gt;\n            L_NO_TOUCH = false;\n            L_DISABLE_3D = false;\n        &lt;/script&gt;\n    \n    &lt;style&gt;html, body {width: 100%;height: 100%;margin: 0;padding: 0;}&lt;/style&gt;\n    &lt;style&gt;#map {position:absolute;top:0;bottom:0;right:0;left:0;}&lt;/style&gt;\n    &lt;script src=&quot;https://cdn.jsdelivr.net/npm/leaflet@1.9.3/dist/leaflet.js&quot;&gt;&lt;/script&gt;\n    &lt;script src=&quot;https://code.jquery.com/jquery-3.7.1.min.js&quot;&gt;&lt;/script&gt;\n    &lt;script src=&quot;https://cdn.jsdelivr.net/npm/bootstrap@5.2.2/dist/js/bootstrap.bundle.min.js&quot;&gt;&lt;/script&gt;\n    &lt;script src=&quot;https://cdnjs.cloudflare.com/ajax/libs/Leaflet.awesome-markers/2.0.2/leaflet.awesome-markers.js&quot;&gt;&lt;/script&gt;\n    &lt;link rel=&quot;stylesheet&quot; href=&quot;https://cdn.jsdelivr.net/npm/leaflet@1.9.3/dist/leaflet.css&quot;/&gt;\n    &lt;link rel=&quot;stylesheet&quot; href=&quot;https://cdn.jsdelivr.net/npm/bootstrap@5.2.2/dist/css/bootstrap.min.css&quot;/&gt;\n    &lt;link rel=&quot;stylesheet&quot; href=&quot;https://netdna.bootstrapcdn.com/bootstrap/3.0.0/css/bootstrap-glyphicons.css&quot;/&gt;\n    &lt;link rel=&quot;stylesheet&quot; href=&quot;https://cdn.jsdelivr.net/npm/@fortawesome/fontawesome-free@6.2.0/css/all.min.css&quot;/&gt;\n    &lt;link rel=&quot;stylesheet&quot; href=&quot;https://cdnjs.cloudflare.com/ajax/libs/Leaflet.awesome-markers/2.0.2/leaflet.awesome-markers.css&quot;/&gt;\n    &lt;link rel=&quot;stylesheet&quot; href=&quot;https://cdn.jsdelivr.net/gh/python-visualization/folium/folium/templates/leaflet.awesome.rotate.min.css&quot;/&gt;\n    \n            &lt;meta name=&quot;viewport&quot; content=&quot;width=device-width,\n                initial-scale=1.0, maximum-scale=1.0, user-scalable=no&quot; /&gt;\n            &lt;style&gt;\n                #map_5258471dc0cbace8a4ae7a3db6f26a00 {\n                    position: relative;\n                    width: 100.0%;\n                    height: 100.0%;\n                    left: 0.0%;\n                    top: 0.0%;\n                }\n                .leaflet-container { font-size: 1rem; }\n            &lt;/style&gt;\n        \n    &lt;script src=&quot;https://cdnjs.cloudflare.com/ajax/libs/leaflet.markercluster/1.1.0/leaflet.markercluster.js&quot;&gt;&lt;/script&gt;\n    &lt;link rel=&quot;stylesheet&quot; href=&quot;https://cdnjs.cloudflare.com/ajax/libs/leaflet.markercluster/1.1.0/MarkerCluster.css&quot;/&gt;\n    &lt;link rel=&quot;stylesheet&quot; href=&quot;https://cdnjs.cloudflare.com/ajax/libs/leaflet.markercluster/1.1.0/MarkerCluster.Default.css&quot;/&gt;\n    &lt;script src=&quot;https://cdn.jsdelivr.net/gh/ardhi/Leaflet.MousePosition/src/L.Control.MousePosition.min.js&quot;&gt;&lt;/script&gt;\n    &lt;link rel=&quot;stylesheet&quot; href=&quot;https://cdn.jsdelivr.net/gh/ardhi/Leaflet.MousePosition/src/L.Control.MousePosition.min.css&quot;/&gt;\n&lt;/head&gt;\n&lt;body&gt;\n    \n    \n            &lt;div class=&quot;folium-map&quot; id=&quot;map_5258471dc0cbace8a4ae7a3db6f26a00&quot; &gt;&lt;/div&gt;\n        \n&lt;/body&gt;\n&lt;script&gt;\n    \n    \n            var map_5258471dc0cbace8a4ae7a3db6f26a00 = L.map(\n                &quot;map_5258471dc0cbace8a4ae7a3db6f26a00&quot;,\n                {\n                    center: [29.559684888503615, -95.0830971930759],\n                    crs: L.CRS.EPSG3857,\n                    ...{\n  &quot;zoom&quot;: 5,\n  &quot;zoomControl&quot;: true,\n  &quot;preferCanvas&quot;: false,\n}\n\n                }\n            );\n\n            \n\n        \n    \n            var tile_layer_d08dd02d261c677ba1fc417b811b7648 = L.tileLayer(\n                &quot;https://tile.openstreetmap.org/{z}/{x}/{y}.png&quot;,\n                {\n  &quot;minZoom&quot;: 0,\n  &quot;maxZoom&quot;: 19,\n  &quot;maxNativeZoom&quot;: 19,\n  &quot;noWrap&quot;: false,\n  &quot;attribution&quot;: &quot;\\u0026copy; \\u003ca href=\\&quot;https://www.openstreetmap.org/copyright\\&quot;\\u003eOpenStreetMap\\u003c/a\\u003e contributors&quot;,\n  &quot;subdomains&quot;: &quot;abc&quot;,\n  &quot;detectRetina&quot;: false,\n  &quot;tms&quot;: false,\n  &quot;opacity&quot;: 1,\n}\n\n            );\n        \n    \n            tile_layer_d08dd02d261c677ba1fc417b811b7648.addTo(map_5258471dc0cbace8a4ae7a3db6f26a00);\n        \n    \n            var marker_cluster_2dd751881ef6352880033c9aee6842ba = L.markerClusterGroup(\n                {\n}\n            );\n        \n    \n            marker_cluster_2dd751881ef6352880033c9aee6842ba.addTo(map_5258471dc0cbace8a4ae7a3db6f26a00);\n        \n    \n            var mouse_position_a9e58c7984c629644898600d0d8b0adc = new L.Control.MousePosition(\n                {\n  &quot;position&quot;: &quot;topright&quot;,\n  &quot;separator&quot;: &quot; Long: &quot;,\n  &quot;emptyString&quot;: &quot;NaN&quot;,\n  &quot;lngFirst&quot;: false,\n  &quot;numDigits&quot;: 20,\n  &quot;prefix&quot;: &quot;Lat:&quot;,\n}\n            );\n            mouse_position_a9e58c7984c629644898600d0d8b0adc.options[&quot;latFormatter&quot;] =\n                function(num) {return L.Util.formatNum(num, 5);};;\n            mouse_position_a9e58c7984c629644898600d0d8b0adc.options[&quot;lngFormatter&quot;] =\n                function(num) {return L.Util.formatNum(num, 5);};;\n            map_5258471dc0cbace8a4ae7a3db6f26a00.addControl(mouse_position_a9e58c7984c629644898600d0d8b0adc);\n        \n&lt;/script&gt;\n&lt;/html&gt;\" style=\"position:absolute;width:100%;height:100%;left:0;top:0;border:none !important;\" allowfullscreen webkitallowfullscreen mozallowfullscreen></iframe></div></div>"
          },
          "metadata": {}
        }
      ],
      "execution_count": 18
    },
    {
      "cell_type": "markdown",
      "source": "Now zoom in to a launch site and explore its proximity to see if you can easily find any railway, highway, coastline, etc. Move your mouse to these points and mark down their coordinates (shown on the top-left) in order to the distance to the launch site.\n",
      "metadata": {}
    },
    {
      "cell_type": "markdown",
      "source": "Now zoom in to a launch site and explore its proximity to see if you can easily find any railway, highway, coastline, etc. Move your mouse to these points and mark down their coordinates (shown on the top-left) in order to the distance to the launch site.\n",
      "metadata": {}
    },
    {
      "cell_type": "code",
      "source": "from math import sin, cos, sqrt, atan2, radians\n\ndef calculate_distance(lat1, lon1, lat2, lon2):\n    # approximate radius of earth in km\n    R = 6373.0\n\n    lat1 = radians(lat1)\n    lon1 = radians(lon1)\n    lat2 = radians(lat2)\n    lon2 = radians(lon2)\n\n    dlon = lon2 - lon1\n    dlat = lat2 - lat1\n\n    a = sin(dlat / 2)**2 + cos(lat1) * cos(lat2) * sin(dlon / 2)**2\n    c = 2 * atan2(sqrt(a), sqrt(1 - a))\n\n    distance = R * c\n    return distance",
      "metadata": {
        "trusted": true
      },
      "outputs": [],
      "execution_count": 19
    },
    {
      "cell_type": "markdown",
      "source": "*TODO:* Mark down a point on the closest coastline using MousePosition and calculate the distance between the coastline point and the launch site.\n",
      "metadata": {}
    },
    {
      "cell_type": "code",
      "source": "# find coordinate of the closet coastline\n# e.g.,: Lat: 28.56367  Lon: -80.57163\n# distance_coastline = calculate_distance(launch_site_lat, launch_site_lon, coastline_lat, coastline_lon)\nimport pandas as pd\nimport numpy as np\nfrom geopy.geocoders import Nominatim\nfrom geopy.distance import geodesic\n\n# Assuming you have your spacex_df DataFrame\n\n# Function to find the nearest coastline coordinates\ndef find_nearest_coastline(lat, lon):\n    \"\"\"Finds the nearest coastline coordinates using reverse geocoding.\n\n    Args:\n        lat (float): Latitude.\n        lon (float): Longitude.\n\n    Returns:\n        tuple: (latitude, longitude) of the nearest coastline, or None if not found.\n    \"\"\"\n    geolocator = Nominatim(user_agent=\"coastline_finder\") #user agent is important\n    location = geolocator.reverse((lat, lon), language='en')\n\n    if location:\n      address = location.raw['address']\n      if 'sea' in address or 'ocean' in address or 'coast' in address or 'beach' in address:\n        return (lat,lon)\n      else:\n        #Try searching nearby\n        for i in np.arange(0.01,0.1,0.01):\n          location_nearby = geolocator.reverse((lat+i, lon), language='en')\n          if location_nearby:\n            address_nearby = location_nearby.raw['address']\n            if 'sea' in address_nearby or 'ocean' in address_nearby or 'coast' in address_nearby or 'beach' in address_nearby:\n              return (lat+i,lon)\n          location_nearby = geolocator.reverse((lat-i, lon), language='en')\n          if location_nearby:\n            address_nearby = location_nearby.raw['address']\n            if 'sea' in address_nearby or 'ocean' in address_nearby or 'coast' in address_nearby or 'beach' in address_nearby:\n              return (lat-i,lon)\n          location_nearby = geolocator.reverse((lat, lon+i), language='en')\n          if location_nearby:\n            address_nearby = location_nearby.raw['address']\n            if 'sea' in address_nearby or 'ocean' in address_nearby or 'coast' in address_nearby or 'beach' in address_nearby:\n              return (lat,lon+i)\n          location_nearby = geolocator.reverse((lat, lon-i), language='en')\n          if location_nearby:\n            address_nearby = location_nearby.raw['address']\n            if 'sea' in address_nearby or 'ocean' in address_nearby or 'coast' in address_nearby or 'beach' in address_nearby:\n              return (lat,lon-i)\n        return None\n    else:\n        return None\n\n# Function to calculate distance using geodesic\ndef calculate_distance(lat1, lon1, lat2, lon2):\n    \"\"\"Calculates the geodesic distance between two points.\n\n    Args:\n        lat1 (float): Latitude of the first point.\n        lon1 (float): Longitude of the first point.\n        lat2 (float): Latitude of the second point.\n        lon2 (float): Longitude of the second point.\n\n    Returns:\n        float: Distance in kilometers.\n    \"\"\"\n    coords_1 = (lat1, lon1)\n    coords_2 = (lat2, lon2)\n\n    try:\n        distance = geodesic(coords_1, coords_2).km\n        return distance\n    except ValueError:\n        return None  # Handle cases where coordinates are invalid\n\n# Example usage (assuming you have launch_sites_df):\nlaunch_sites_df['Coastline_Lat'] = 0.0\nlaunch_sites_df['Coastline_Lon'] = 0.0\nlaunch_sites_df['Distance_Coastline'] = 0.0\n\nfor index, row in launch_sites_df.iterrows():\n    launch_site_lat = row['Lat']\n    launch_site_lon = row['Long']\n\n    coastline_coords = find_nearest_coastline(launch_site_lat, launch_site_lon)\n\n    if coastline_coords:\n        coastline_lat, coastline_lon = coastline_coords\n        distance_coastline = calculate_distance(launch_site_lat, launch_site_lon, coastline_lat, coastline_lon)\n\n        launch_sites_df.loc[index, 'Coastline_Lat'] = coastline_lat\n        launch_sites_df.loc[index, 'Coastline_Lon'] = coastline_lon\n        launch_sites_df.loc[index, 'Distance_Coastline'] = distance_coastline\n    else:\n        print(f\"Coastline not found for {row['Launch Site']}\")\n\nprint(launch_sites_df)",
      "metadata": {
        "trusted": true
      },
      "outputs": [
        {
          "ename": "<class 'ModuleNotFoundError'>",
          "evalue": "No module named 'geopy'",
          "traceback": [
            "\u001b[0;31m---------------------------------------------------------------------------\u001b[0m",
            "\u001b[0;31mModuleNotFoundError\u001b[0m                       Traceback (most recent call last)",
            "Cell \u001b[0;32mIn[20], line 6\u001b[0m\n\u001b[1;32m      4\u001b[0m \u001b[38;5;28;01mimport\u001b[39;00m \u001b[38;5;21;01mpandas\u001b[39;00m \u001b[38;5;28;01mas\u001b[39;00m \u001b[38;5;21;01mpd\u001b[39;00m\n\u001b[1;32m      5\u001b[0m \u001b[38;5;28;01mimport\u001b[39;00m \u001b[38;5;21;01mnumpy\u001b[39;00m \u001b[38;5;28;01mas\u001b[39;00m \u001b[38;5;21;01mnp\u001b[39;00m\n\u001b[0;32m----> 6\u001b[0m \u001b[38;5;28;01mfrom\u001b[39;00m \u001b[38;5;21;01mgeopy\u001b[39;00m\u001b[38;5;21;01m.\u001b[39;00m\u001b[38;5;21;01mgeocoders\u001b[39;00m \u001b[38;5;28;01mimport\u001b[39;00m Nominatim\n\u001b[1;32m      7\u001b[0m \u001b[38;5;28;01mfrom\u001b[39;00m \u001b[38;5;21;01mgeopy\u001b[39;00m\u001b[38;5;21;01m.\u001b[39;00m\u001b[38;5;21;01mdistance\u001b[39;00m \u001b[38;5;28;01mimport\u001b[39;00m geodesic\n\u001b[1;32m      9\u001b[0m \u001b[38;5;66;03m# Assuming you have your spacex_df DataFrame\u001b[39;00m\n\u001b[1;32m     10\u001b[0m \n\u001b[1;32m     11\u001b[0m \u001b[38;5;66;03m# Function to find the nearest coastline coordinates\u001b[39;00m\n",
            "\u001b[0;31mModuleNotFoundError\u001b[0m: No module named 'geopy'"
          ],
          "output_type": "error"
        }
      ],
      "execution_count": 20
    },
    {
      "cell_type": "code",
      "source": "# Create and add a folium.Marker on your selected closest coastline point on the map\n# Display the distance between coastline point and launch site using the icon property \n# for example\n# distance_marker = folium.Marker(\n#    coordinate,\n#    icon=DivIcon(\n#        icon_size=(20,20),\n#        icon_anchor=(0,0),\n#        html='<div style=\"font-size: 12; color:#d35400;\"><b>%s</b></div>' % \"{:10.2f} KM\".format(distance),\n#        )\n#    )",
      "metadata": {
        "trusted": true
      },
      "outputs": [],
      "execution_count": 21
    },
    {
      "cell_type": "markdown",
      "source": "*TODO:* Draw a `PolyLine` between a launch site to the selected coastline point\n",
      "metadata": {}
    },
    {
      "cell_type": "code",
      "source": "# Create a `folium.PolyLine` object using the coastline coordinates and launch site coordinate\n# lines=folium.PolyLine(locations=coordinates, weight=1)\nsite_map.add_child(lines)",
      "metadata": {
        "trusted": true
      },
      "outputs": [
        {
          "ename": "<class 'NameError'>",
          "evalue": "name 'lines' is not defined",
          "traceback": [
            "\u001b[0;31m---------------------------------------------------------------------------\u001b[0m",
            "\u001b[0;31mNameError\u001b[0m                                 Traceback (most recent call last)",
            "Cell \u001b[0;32mIn[22], line 3\u001b[0m\n\u001b[1;32m      1\u001b[0m \u001b[38;5;66;03m# Create a `folium.PolyLine` object using the coastline coordinates and launch site coordinate\u001b[39;00m\n\u001b[1;32m      2\u001b[0m \u001b[38;5;66;03m# lines=folium.PolyLine(locations=coordinates, weight=1)\u001b[39;00m\n\u001b[0;32m----> 3\u001b[0m site_map\u001b[38;5;241m.\u001b[39madd_child(\u001b[43mlines\u001b[49m)\n",
            "\u001b[0;31mNameError\u001b[0m: name 'lines' is not defined"
          ],
          "output_type": "error"
        }
      ],
      "execution_count": 22
    },
    {
      "cell_type": "markdown",
      "source": "Your updated map with distance line should look like the following screenshot:\n",
      "metadata": {}
    },
    {
      "cell_type": "markdown",
      "source": "<center>\n    <img src=\"https://cf-courses-data.s3.us.cloud-object-storage.appdomain.cloud/IBM-DS0321EN-SkillsNetwork/labs/module_3/images/launch_site_marker_distance.png\">\n</center>\n",
      "metadata": {}
    },
    {
      "cell_type": "markdown",
      "source": "*TODO:* Similarly, you can draw a line betwee a launch site to its closest city, railway, highway, etc. You need to use `MousePosition` to find the their coordinates on the map first\n",
      "metadata": {}
    },
    {
      "cell_type": "markdown",
      "source": "A railway map symbol may look like this:\n",
      "metadata": {}
    },
    {
      "cell_type": "markdown",
      "source": "<center>\n    <img src=\"https://cf-courses-data.s3.us.cloud-object-storage.appdomain.cloud/IBM-DS0321EN-SkillsNetwork/labs/module_3/images/railway.png\">\n</center>\n",
      "metadata": {}
    },
    {
      "cell_type": "markdown",
      "source": "A highway map symbol may look like this:\n",
      "metadata": {}
    },
    {
      "cell_type": "markdown",
      "source": "<center>\n    <img src=\"https://cf-courses-data.s3.us.cloud-object-storage.appdomain.cloud/IBM-DS0321EN-SkillsNetwork/labs/module_3/images/highway.png\">\n</center>\n",
      "metadata": {}
    },
    {
      "cell_type": "markdown",
      "source": "A city map symbol may look like this:\n",
      "metadata": {}
    },
    {
      "cell_type": "markdown",
      "source": "<center>\n    <img src=\"https://cf-courses-data.s3.us.cloud-object-storage.appdomain.cloud/IBM-DS0321EN-SkillsNetwork/labs/module_3/images/city.png\">\n</center>\n",
      "metadata": {}
    },
    {
      "cell_type": "code",
      "source": "# Create a marker with distance to a closest city, railway, highway, etc.\n# Draw a line between the marker to the launch site\n",
      "metadata": {
        "trusted": true
      },
      "outputs": [],
      "execution_count": 23
    },
    {
      "cell_type": "code",
      "source": "",
      "metadata": {
        "trusted": true
      },
      "outputs": [],
      "execution_count": null
    },
    {
      "cell_type": "code",
      "source": "",
      "metadata": {
        "trusted": true
      },
      "outputs": [],
      "execution_count": null
    },
    {
      "cell_type": "markdown",
      "source": "After you plot distance lines to the proximities, you can answer the following questions easily:\n\n*   Are launch sites in close proximity to railways?\n*   Are launch sites in close proximity to highways?\n*   Are launch sites in close proximity to coastline?\n*   Do launch sites keep certain distance away from cities?\n\nAlso please try to explain your findings.\n",
      "metadata": {}
    },
    {
      "cell_type": "markdown",
      "source": "# Next Steps:\n\nNow you have discovered many interesting insights related to the launch sites' location using folium, in a very interactive way. Next, you will need to build a dashboard using Ploty Dash on detailed launch records.\n",
      "metadata": {}
    },
    {
      "cell_type": "markdown",
      "source": "## Authors\n",
      "metadata": {}
    },
    {
      "cell_type": "markdown",
      "source": "[Pratiksha Verma](https://www.linkedin.com/in/pratiksha-verma-6487561b1/)\n",
      "metadata": {}
    },
    {
      "cell_type": "markdown",
      "source": "<!--## Change Log--!>\n",
      "metadata": {}
    },
    {
      "cell_type": "markdown",
      "source": "<!--| Date (YYYY-MM-DD) | Version | Changed By      | Change Description      |\n| ----------------- | ------- | -------------   | ----------------------- |\n| 2022-11-09        | 1.0     | Pratiksha Verma | Converted initial version to Jupyterlite|--!>\n",
      "metadata": {}
    },
    {
      "cell_type": "markdown",
      "source": "### <h3 align=\"center\"> IBM Corporation 2022. All rights reserved. <h3/>\n",
      "metadata": {}
    }
  ]
}