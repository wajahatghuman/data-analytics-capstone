{
  "metadata": {
    "kernelspec": {
      "name": "python",
      "display_name": "Python (Pyodide)",
      "language": "python"
    },
    "language_info": {
      "codemirror_mode": {
        "name": "python",
        "version": 3
      },
      "file_extension": ".py",
      "mimetype": "text/x-python",
      "name": "python",
      "nbconvert_exporter": "python",
      "pygments_lexer": "ipython3",
      "version": "3.8"
    },
    "prev_pub_hash": "0f9db842b41c859223722809f8be602f5df9334348bd206b11e3af58c30eb345"
  },
  "nbformat_minor": 4,
  "nbformat": 4,
  "cells": [
    {
      "cell_type": "markdown",
      "source": "<p style=\"text-align:center\">\n    <a href=\"https://skills.network/?utm_medium=Exinfluencer&utm_source=Exinfluencer&utm_content=000026UJ&utm_term=10006555&utm_id=NA-SkillsNetwork-Channel-SkillsNetworkCoursesIBMDS0321ENSkillsNetwork26802033-2022-01-01\" target=\"_blank\">\n    <img src=\"https://cf-courses-data.s3.us.cloud-object-storage.appdomain.cloud/assets/logos/SN_web_lightmode.png\" width=\"200\" alt=\"Skills Network Logo\">\n    </a>\n</p>\n",
      "metadata": {}
    },
    {
      "cell_type": "markdown",
      "source": "# **Hands-on Lab: Interactive Visual Analytics with Folium**\n",
      "metadata": {}
    },
    {
      "cell_type": "markdown",
      "source": "Estimated time needed: **40** minutes\n",
      "metadata": {}
    },
    {
      "cell_type": "markdown",
      "source": "The launch success rate may depend on many factors such as payload mass, orbit type, and so on. It may also depend on the location and proximities of a launch site, i.e., the initial position of rocket trajectories. Finding an optimal location for building a launch site certainly involves many factors and hopefully we could discover some of the factors by analyzing the existing launch site locations.\n",
      "metadata": {}
    },
    {
      "cell_type": "markdown",
      "source": "In the previous exploratory data analysis labs, you have visualized the SpaceX launch dataset using `matplotlib` and `seaborn` and discovered some preliminary correlations between the launch site and success rates. In this lab, you will be performing more interactive visual analytics using `Folium`.\n",
      "metadata": {}
    },
    {
      "cell_type": "markdown",
      "source": "## Objectives\n",
      "metadata": {}
    },
    {
      "cell_type": "markdown",
      "source": "This lab contains the following tasks:\n\n*   **TASK 1:** Mark all launch sites on a map\n*   **TASK 2:** Mark the success/failed launches for each site on the map\n*   **TASK 3:** Calculate the distances between a launch site to its proximities\n\nAfter completed the above tasks, you should be able to find some geographical patterns about launch sites.\n",
      "metadata": {}
    },
    {
      "cell_type": "markdown",
      "source": "Let's first import required Python packages for this lab:\n",
      "metadata": {}
    },
    {
      "cell_type": "code",
      "source": "import piplite\nawait piplite.install(['folium'])\nawait piplite.install(['pandas'])",
      "metadata": {
        "trusted": true
      },
      "outputs": [],
      "execution_count": 1
    },
    {
      "cell_type": "code",
      "source": "import folium\nimport pandas as pd",
      "metadata": {
        "trusted": true
      },
      "outputs": [],
      "execution_count": 2
    },
    {
      "cell_type": "code",
      "source": "# Import folium MarkerCluster plugin\nfrom folium.plugins import MarkerCluster\n# Import folium MousePosition plugin\nfrom folium.plugins import MousePosition\n# Import folium DivIcon plugin\nfrom folium.features import DivIcon",
      "metadata": {
        "trusted": true
      },
      "outputs": [],
      "execution_count": 3
    },
    {
      "cell_type": "markdown",
      "source": "If you need to refresh your memory about folium, you may download and refer to this previous folium lab:\n",
      "metadata": {}
    },
    {
      "cell_type": "markdown",
      "source": "[Generating Maps with Python](https://cf-courses-data.s3.us.cloud-object-storage.appdomain.cloud/IBMDeveloperSkillsNetwork-DV0101EN-SkillsNetwork/labs/v4/DV0101EN-Exercise-Generating-Maps-in-Python.ipynb)\n",
      "metadata": {}
    },
    {
      "cell_type": "code",
      "source": "## Task 1: Mark all launch sites on a map\n# define the world map\nworld_map = folium.Map()\n\n# display world map\nworld_map# define the world map\nworld_map = folium.Map()\n\n# display world map\nworld_map",
      "metadata": {
        "trusted": true
      },
      "outputs": [
        {
          "execution_count": 4,
          "output_type": "execute_result",
          "data": {
            "text/plain": "<folium.folium.Map at 0x517a410>",
            "text/html": "<div style=\"width:100%;\"><div style=\"position:relative;width:100%;height:0;padding-bottom:60%;\"><span style=\"color:#565656\">Make this Notebook Trusted to load map: File -> Trust Notebook</span><iframe srcdoc=\"&lt;!DOCTYPE html&gt;\n&lt;html&gt;\n&lt;head&gt;\n    \n    &lt;meta http-equiv=&quot;content-type&quot; content=&quot;text/html; charset=UTF-8&quot; /&gt;\n    \n        &lt;script&gt;\n            L_NO_TOUCH = false;\n            L_DISABLE_3D = false;\n        &lt;/script&gt;\n    \n    &lt;style&gt;html, body {width: 100%;height: 100%;margin: 0;padding: 0;}&lt;/style&gt;\n    &lt;style&gt;#map {position:absolute;top:0;bottom:0;right:0;left:0;}&lt;/style&gt;\n    &lt;script src=&quot;https://cdn.jsdelivr.net/npm/leaflet@1.9.3/dist/leaflet.js&quot;&gt;&lt;/script&gt;\n    &lt;script src=&quot;https://code.jquery.com/jquery-3.7.1.min.js&quot;&gt;&lt;/script&gt;\n    &lt;script src=&quot;https://cdn.jsdelivr.net/npm/bootstrap@5.2.2/dist/js/bootstrap.bundle.min.js&quot;&gt;&lt;/script&gt;\n    &lt;script src=&quot;https://cdnjs.cloudflare.com/ajax/libs/Leaflet.awesome-markers/2.0.2/leaflet.awesome-markers.js&quot;&gt;&lt;/script&gt;\n    &lt;link rel=&quot;stylesheet&quot; href=&quot;https://cdn.jsdelivr.net/npm/leaflet@1.9.3/dist/leaflet.css&quot;/&gt;\n    &lt;link rel=&quot;stylesheet&quot; href=&quot;https://cdn.jsdelivr.net/npm/bootstrap@5.2.2/dist/css/bootstrap.min.css&quot;/&gt;\n    &lt;link rel=&quot;stylesheet&quot; href=&quot;https://netdna.bootstrapcdn.com/bootstrap/3.0.0/css/bootstrap-glyphicons.css&quot;/&gt;\n    &lt;link rel=&quot;stylesheet&quot; href=&quot;https://cdn.jsdelivr.net/npm/@fortawesome/fontawesome-free@6.2.0/css/all.min.css&quot;/&gt;\n    &lt;link rel=&quot;stylesheet&quot; href=&quot;https://cdnjs.cloudflare.com/ajax/libs/Leaflet.awesome-markers/2.0.2/leaflet.awesome-markers.css&quot;/&gt;\n    &lt;link rel=&quot;stylesheet&quot; href=&quot;https://cdn.jsdelivr.net/gh/python-visualization/folium/folium/templates/leaflet.awesome.rotate.min.css&quot;/&gt;\n    \n            &lt;meta name=&quot;viewport&quot; content=&quot;width=device-width,\n                initial-scale=1.0, maximum-scale=1.0, user-scalable=no&quot; /&gt;\n            &lt;style&gt;\n                #map_7a06dd9b392ceb35910f01bb6cf68877 {\n                    position: relative;\n                    width: 100.0%;\n                    height: 100.0%;\n                    left: 0.0%;\n                    top: 0.0%;\n                }\n                .leaflet-container { font-size: 1rem; }\n            &lt;/style&gt;\n        \n&lt;/head&gt;\n&lt;body&gt;\n    \n    \n            &lt;div class=&quot;folium-map&quot; id=&quot;map_7a06dd9b392ceb35910f01bb6cf68877&quot; &gt;&lt;/div&gt;\n        \n&lt;/body&gt;\n&lt;script&gt;\n    \n    \n            var map_7a06dd9b392ceb35910f01bb6cf68877 = L.map(\n                &quot;map_7a06dd9b392ceb35910f01bb6cf68877&quot;,\n                {\n                    center: [0.0, 0.0],\n                    crs: L.CRS.EPSG3857,\n                    ...{\n  &quot;zoom&quot;: 1,\n  &quot;zoomControl&quot;: true,\n  &quot;preferCanvas&quot;: false,\n}\n\n                }\n            );\n\n            \n\n        \n    \n            var tile_layer_37f31e41076f9164d48cf733c99738df = L.tileLayer(\n                &quot;https://tile.openstreetmap.org/{z}/{x}/{y}.png&quot;,\n                {\n  &quot;minZoom&quot;: 0,\n  &quot;maxZoom&quot;: 19,\n  &quot;maxNativeZoom&quot;: 19,\n  &quot;noWrap&quot;: false,\n  &quot;attribution&quot;: &quot;\\u0026copy; \\u003ca href=\\&quot;https://www.openstreetmap.org/copyright\\&quot;\\u003eOpenStreetMap\\u003c/a\\u003e contributors&quot;,\n  &quot;subdomains&quot;: &quot;abc&quot;,\n  &quot;detectRetina&quot;: false,\n  &quot;tms&quot;: false,\n  &quot;opacity&quot;: 1,\n}\n\n            );\n        \n    \n            tile_layer_37f31e41076f9164d48cf733c99738df.addTo(map_7a06dd9b392ceb35910f01bb6cf68877);\n        \n&lt;/script&gt;\n&lt;/html&gt;\" style=\"position:absolute;width:100%;height:100%;left:0;top:0;border:none !important;\" allowfullscreen webkitallowfullscreen mozallowfullscreen></iframe></div></div>"
          },
          "metadata": {}
        }
      ],
      "execution_count": 4
    },
    {
      "cell_type": "markdown",
      "source": "First, let's try to add each site's location on a map using site's latitude and longitude coordinates\n",
      "metadata": {}
    },
    {
      "cell_type": "markdown",
      "source": "The following dataset with the name `spacex_launch_geo.csv` is an augmented dataset with latitude and longitude added for each site.\n",
      "metadata": {}
    },
    {
      "cell_type": "code",
      "source": "# Download and read the `spacex_launch_geo.csv`\nfrom js import fetch\nimport io\n\nURL = 'https://cf-courses-data.s3.us.cloud-object-storage.appdomain.cloud/IBM-DS0321EN-SkillsNetwork/datasets/spacex_launch_geo.csv'\nresp = await fetch(URL)\nspacex_csv_file = io.BytesIO((await resp.arrayBuffer()).to_py())\nspacex_df=pd.read_csv(spacex_csv_file)",
      "metadata": {
        "trusted": true
      },
      "outputs": [],
      "execution_count": 5
    },
    {
      "cell_type": "code",
      "source": "spacex_df.head()",
      "metadata": {
        "trusted": true
      },
      "outputs": [
        {
          "execution_count": 6,
          "output_type": "execute_result",
          "data": {
            "text/plain": "   Flight Number        Date Time (UTC) Booster Version  Launch Site  \\\n0              1  2010-06-04   18:45:00  F9 v1.0  B0003  CCAFS LC-40   \n1              2  2010-12-08   15:43:00  F9 v1.0  B0004  CCAFS LC-40   \n2              3  2012-05-22    7:44:00  F9 v1.0  B0005  CCAFS LC-40   \n3              4  2012-10-08    0:35:00  F9 v1.0  B0006  CCAFS LC-40   \n4              5  2013-03-01   15:10:00  F9 v1.0  B0007  CCAFS LC-40   \n\n                                             Payload  Payload Mass (kg)  \\\n0               Dragon Spacecraft Qualification Unit                0.0   \n1  Dragon demo flight C1, two CubeSats,  barrel o...                0.0   \n2                             Dragon demo flight C2+              525.0   \n3                                       SpaceX CRS-1              500.0   \n4                                       SpaceX CRS-2              677.0   \n\n       Orbit         Customer        Landing Outcome  class        Lat  \\\n0        LEO           SpaceX  Failure   (parachute)      0  28.562302   \n1  LEO (ISS)  NASA (COTS) NRO  Failure   (parachute)      0  28.562302   \n2  LEO (ISS)      NASA (COTS)             No attempt      0  28.562302   \n3  LEO (ISS)       NASA (CRS)             No attempt      0  28.562302   \n4  LEO (ISS)       NASA (CRS)             No attempt      0  28.562302   \n\n        Long  \n0 -80.577356  \n1 -80.577356  \n2 -80.577356  \n3 -80.577356  \n4 -80.577356  ",
            "text/html": "<div>\n<style scoped>\n    .dataframe tbody tr th:only-of-type {\n        vertical-align: middle;\n    }\n\n    .dataframe tbody tr th {\n        vertical-align: top;\n    }\n\n    .dataframe thead th {\n        text-align: right;\n    }\n</style>\n<table border=\"1\" class=\"dataframe\">\n  <thead>\n    <tr style=\"text-align: right;\">\n      <th></th>\n      <th>Flight Number</th>\n      <th>Date</th>\n      <th>Time (UTC)</th>\n      <th>Booster Version</th>\n      <th>Launch Site</th>\n      <th>Payload</th>\n      <th>Payload Mass (kg)</th>\n      <th>Orbit</th>\n      <th>Customer</th>\n      <th>Landing Outcome</th>\n      <th>class</th>\n      <th>Lat</th>\n      <th>Long</th>\n    </tr>\n  </thead>\n  <tbody>\n    <tr>\n      <th>0</th>\n      <td>1</td>\n      <td>2010-06-04</td>\n      <td>18:45:00</td>\n      <td>F9 v1.0  B0003</td>\n      <td>CCAFS LC-40</td>\n      <td>Dragon Spacecraft Qualification Unit</td>\n      <td>0.0</td>\n      <td>LEO</td>\n      <td>SpaceX</td>\n      <td>Failure   (parachute)</td>\n      <td>0</td>\n      <td>28.562302</td>\n      <td>-80.577356</td>\n    </tr>\n    <tr>\n      <th>1</th>\n      <td>2</td>\n      <td>2010-12-08</td>\n      <td>15:43:00</td>\n      <td>F9 v1.0  B0004</td>\n      <td>CCAFS LC-40</td>\n      <td>Dragon demo flight C1, two CubeSats,  barrel o...</td>\n      <td>0.0</td>\n      <td>LEO (ISS)</td>\n      <td>NASA (COTS) NRO</td>\n      <td>Failure   (parachute)</td>\n      <td>0</td>\n      <td>28.562302</td>\n      <td>-80.577356</td>\n    </tr>\n    <tr>\n      <th>2</th>\n      <td>3</td>\n      <td>2012-05-22</td>\n      <td>7:44:00</td>\n      <td>F9 v1.0  B0005</td>\n      <td>CCAFS LC-40</td>\n      <td>Dragon demo flight C2+</td>\n      <td>525.0</td>\n      <td>LEO (ISS)</td>\n      <td>NASA (COTS)</td>\n      <td>No attempt</td>\n      <td>0</td>\n      <td>28.562302</td>\n      <td>-80.577356</td>\n    </tr>\n    <tr>\n      <th>3</th>\n      <td>4</td>\n      <td>2012-10-08</td>\n      <td>0:35:00</td>\n      <td>F9 v1.0  B0006</td>\n      <td>CCAFS LC-40</td>\n      <td>SpaceX CRS-1</td>\n      <td>500.0</td>\n      <td>LEO (ISS)</td>\n      <td>NASA (CRS)</td>\n      <td>No attempt</td>\n      <td>0</td>\n      <td>28.562302</td>\n      <td>-80.577356</td>\n    </tr>\n    <tr>\n      <th>4</th>\n      <td>5</td>\n      <td>2013-03-01</td>\n      <td>15:10:00</td>\n      <td>F9 v1.0  B0007</td>\n      <td>CCAFS LC-40</td>\n      <td>SpaceX CRS-2</td>\n      <td>677.0</td>\n      <td>LEO (ISS)</td>\n      <td>NASA (CRS)</td>\n      <td>No attempt</td>\n      <td>0</td>\n      <td>28.562302</td>\n      <td>-80.577356</td>\n    </tr>\n  </tbody>\n</table>\n</div>"
          },
          "metadata": {}
        }
      ],
      "execution_count": 6
    },
    {
      "cell_type": "markdown",
      "source": "Now, you can take a look at what are the coordinates for each site.\n",
      "metadata": {}
    },
    {
      "cell_type": "code",
      "source": "# Select relevant sub-columns: `Launch Site`, `Lat(Latitude)`, `Long(Longitude)`, `class`\nspacex_df = spacex_df[['Launch Site', 'Lat', 'Long', 'class']]\nlaunch_sites_df = spacex_df.groupby(['Launch Site'], as_index=False).first()\nlaunch_sites_df = launch_sites_df[['Launch Site', 'Lat', 'Long']]\nlaunch_sites_df",
      "metadata": {
        "trusted": true
      },
      "outputs": [
        {
          "execution_count": 7,
          "output_type": "execute_result",
          "data": {
            "text/plain": "    Launch Site        Lat        Long\n0   CCAFS LC-40  28.562302  -80.577356\n1  CCAFS SLC-40  28.563197  -80.576820\n2    KSC LC-39A  28.573255  -80.646895\n3   VAFB SLC-4E  34.632834 -120.610745",
            "text/html": "<div>\n<style scoped>\n    .dataframe tbody tr th:only-of-type {\n        vertical-align: middle;\n    }\n\n    .dataframe tbody tr th {\n        vertical-align: top;\n    }\n\n    .dataframe thead th {\n        text-align: right;\n    }\n</style>\n<table border=\"1\" class=\"dataframe\">\n  <thead>\n    <tr style=\"text-align: right;\">\n      <th></th>\n      <th>Launch Site</th>\n      <th>Lat</th>\n      <th>Long</th>\n    </tr>\n  </thead>\n  <tbody>\n    <tr>\n      <th>0</th>\n      <td>CCAFS LC-40</td>\n      <td>28.562302</td>\n      <td>-80.577356</td>\n    </tr>\n    <tr>\n      <th>1</th>\n      <td>CCAFS SLC-40</td>\n      <td>28.563197</td>\n      <td>-80.576820</td>\n    </tr>\n    <tr>\n      <th>2</th>\n      <td>KSC LC-39A</td>\n      <td>28.573255</td>\n      <td>-80.646895</td>\n    </tr>\n    <tr>\n      <th>3</th>\n      <td>VAFB SLC-4E</td>\n      <td>34.632834</td>\n      <td>-120.610745</td>\n    </tr>\n  </tbody>\n</table>\n</div>"
          },
          "metadata": {}
        }
      ],
      "execution_count": 7
    },
    {
      "cell_type": "markdown",
      "source": "Above coordinates are just plain numbers that can not give you any intuitive insights about where are those launch sites. If you are very good at geography, you can interpret those numbers directly in your mind. If not, that's fine too. Let's visualize those locations by pinning them on a map.\n",
      "metadata": {}
    },
    {
      "cell_type": "markdown",
      "source": "We first need to create a folium `Map` object, with an initial center location to be NASA Johnson Space Center at Houston, Texas.\n",
      "metadata": {}
    },
    {
      "cell_type": "code",
      "source": "# Start location is NASA Johnson Space Center\nnasa_coordinate = [29.559684888503615, -95.0830971930759]\nsite_map = folium.Map(location=nasa_coordinate, zoom_start=10)",
      "metadata": {
        "trusted": true
      },
      "outputs": [],
      "execution_count": 8
    },
    {
      "cell_type": "markdown",
      "source": "We could use `folium.Circle` to add a highlighted circle area with a text label on a specific coordinate. For example,\n",
      "metadata": {}
    },
    {
      "cell_type": "code",
      "source": "# Create a blue circle at NASA Johnson Space Center's coordinate with a popup label showing its name\ncircle = folium.Circle(nasa_coordinate, radius=1000, color='#d35400', fill=True).add_child(folium.Popup('NASA Johnson Space Center'))\n# Create a blue circle at NASA Johnson Space Center's coordinate with a icon showing its name\nmarker = folium.map.Marker(\n    nasa_coordinate,\n    # Create an icon as a text label\n    icon=DivIcon(\n        icon_size=(20,20),\n        icon_anchor=(0,0),\n        html='<div style=\"font-size: 12; color:#d35400;\"><b>%s</b></div>' % 'NASA JSC',\n        )\n    )\nsite_map.add_child(circle)\nsite_map.add_child(marker)",
      "metadata": {
        "trusted": true
      },
      "outputs": [
        {
          "execution_count": 9,
          "output_type": "execute_result",
          "data": {
            "text/plain": "<folium.folium.Map at 0x5e953f0>",
            "text/html": "<div style=\"width:100%;\"><div style=\"position:relative;width:100%;height:0;padding-bottom:60%;\"><span style=\"color:#565656\">Make this Notebook Trusted to load map: File -> Trust Notebook</span><iframe srcdoc=\"&lt;!DOCTYPE html&gt;\n&lt;html&gt;\n&lt;head&gt;\n    \n    &lt;meta http-equiv=&quot;content-type&quot; content=&quot;text/html; charset=UTF-8&quot; /&gt;\n    \n        &lt;script&gt;\n            L_NO_TOUCH = false;\n            L_DISABLE_3D = false;\n        &lt;/script&gt;\n    \n    &lt;style&gt;html, body {width: 100%;height: 100%;margin: 0;padding: 0;}&lt;/style&gt;\n    &lt;style&gt;#map {position:absolute;top:0;bottom:0;right:0;left:0;}&lt;/style&gt;\n    &lt;script src=&quot;https://cdn.jsdelivr.net/npm/leaflet@1.9.3/dist/leaflet.js&quot;&gt;&lt;/script&gt;\n    &lt;script src=&quot;https://code.jquery.com/jquery-3.7.1.min.js&quot;&gt;&lt;/script&gt;\n    &lt;script src=&quot;https://cdn.jsdelivr.net/npm/bootstrap@5.2.2/dist/js/bootstrap.bundle.min.js&quot;&gt;&lt;/script&gt;\n    &lt;script src=&quot;https://cdnjs.cloudflare.com/ajax/libs/Leaflet.awesome-markers/2.0.2/leaflet.awesome-markers.js&quot;&gt;&lt;/script&gt;\n    &lt;link rel=&quot;stylesheet&quot; href=&quot;https://cdn.jsdelivr.net/npm/leaflet@1.9.3/dist/leaflet.css&quot;/&gt;\n    &lt;link rel=&quot;stylesheet&quot; href=&quot;https://cdn.jsdelivr.net/npm/bootstrap@5.2.2/dist/css/bootstrap.min.css&quot;/&gt;\n    &lt;link rel=&quot;stylesheet&quot; href=&quot;https://netdna.bootstrapcdn.com/bootstrap/3.0.0/css/bootstrap-glyphicons.css&quot;/&gt;\n    &lt;link rel=&quot;stylesheet&quot; href=&quot;https://cdn.jsdelivr.net/npm/@fortawesome/fontawesome-free@6.2.0/css/all.min.css&quot;/&gt;\n    &lt;link rel=&quot;stylesheet&quot; href=&quot;https://cdnjs.cloudflare.com/ajax/libs/Leaflet.awesome-markers/2.0.2/leaflet.awesome-markers.css&quot;/&gt;\n    &lt;link rel=&quot;stylesheet&quot; href=&quot;https://cdn.jsdelivr.net/gh/python-visualization/folium/folium/templates/leaflet.awesome.rotate.min.css&quot;/&gt;\n    \n            &lt;meta name=&quot;viewport&quot; content=&quot;width=device-width,\n                initial-scale=1.0, maximum-scale=1.0, user-scalable=no&quot; /&gt;\n            &lt;style&gt;\n                #map_b78d992caf11b6a083311e9fac2c20c9 {\n                    position: relative;\n                    width: 100.0%;\n                    height: 100.0%;\n                    left: 0.0%;\n                    top: 0.0%;\n                }\n                .leaflet-container { font-size: 1rem; }\n            &lt;/style&gt;\n        \n&lt;/head&gt;\n&lt;body&gt;\n    \n    \n            &lt;div class=&quot;folium-map&quot; id=&quot;map_b78d992caf11b6a083311e9fac2c20c9&quot; &gt;&lt;/div&gt;\n        \n&lt;/body&gt;\n&lt;script&gt;\n    \n    \n            var map_b78d992caf11b6a083311e9fac2c20c9 = L.map(\n                &quot;map_b78d992caf11b6a083311e9fac2c20c9&quot;,\n                {\n                    center: [29.559684888503615, -95.0830971930759],\n                    crs: L.CRS.EPSG3857,\n                    ...{\n  &quot;zoom&quot;: 10,\n  &quot;zoomControl&quot;: true,\n  &quot;preferCanvas&quot;: false,\n}\n\n                }\n            );\n\n            \n\n        \n    \n            var tile_layer_badcb143c37d7ed72fae7fbcdb9fb472 = L.tileLayer(\n                &quot;https://tile.openstreetmap.org/{z}/{x}/{y}.png&quot;,\n                {\n  &quot;minZoom&quot;: 0,\n  &quot;maxZoom&quot;: 19,\n  &quot;maxNativeZoom&quot;: 19,\n  &quot;noWrap&quot;: false,\n  &quot;attribution&quot;: &quot;\\u0026copy; \\u003ca href=\\&quot;https://www.openstreetmap.org/copyright\\&quot;\\u003eOpenStreetMap\\u003c/a\\u003e contributors&quot;,\n  &quot;subdomains&quot;: &quot;abc&quot;,\n  &quot;detectRetina&quot;: false,\n  &quot;tms&quot;: false,\n  &quot;opacity&quot;: 1,\n}\n\n            );\n        \n    \n            tile_layer_badcb143c37d7ed72fae7fbcdb9fb472.addTo(map_b78d992caf11b6a083311e9fac2c20c9);\n        \n    \n            var circle_fed071ac06271db6e0832afab759dd30 = L.circle(\n                [29.559684888503615, -95.0830971930759],\n                {&quot;bubblingMouseEvents&quot;: true, &quot;color&quot;: &quot;#d35400&quot;, &quot;dashArray&quot;: null, &quot;dashOffset&quot;: null, &quot;fill&quot;: true, &quot;fillColor&quot;: &quot;#d35400&quot;, &quot;fillOpacity&quot;: 0.2, &quot;fillRule&quot;: &quot;evenodd&quot;, &quot;lineCap&quot;: &quot;round&quot;, &quot;lineJoin&quot;: &quot;round&quot;, &quot;opacity&quot;: 1.0, &quot;radius&quot;: 1000, &quot;stroke&quot;: true, &quot;weight&quot;: 3}\n            ).addTo(map_b78d992caf11b6a083311e9fac2c20c9);\n        \n    \n        var popup_9f6cf791467379e77a58b5ebd9ba4a90 = L.popup({\n  &quot;maxWidth&quot;: &quot;100%&quot;,\n});\n\n        \n            \n                var html_b1bc72056db5d799d10a6073ece28fea = $(`&lt;div id=&quot;html_b1bc72056db5d799d10a6073ece28fea&quot; style=&quot;width: 100.0%; height: 100.0%;&quot;&gt;NASA Johnson Space Center&lt;/div&gt;`)[0];\n                popup_9f6cf791467379e77a58b5ebd9ba4a90.setContent(html_b1bc72056db5d799d10a6073ece28fea);\n            \n        \n\n        circle_fed071ac06271db6e0832afab759dd30.bindPopup(popup_9f6cf791467379e77a58b5ebd9ba4a90)\n        ;\n\n        \n    \n    \n            var marker_20f9ff5ff487ee82ad346fa9f1a8b306 = L.marker(\n                [29.559684888503615, -95.0830971930759],\n                {\n}\n            ).addTo(map_b78d992caf11b6a083311e9fac2c20c9);\n        \n    \n            var div_icon_71c29221627950e516c85094667ac2ac = L.divIcon({\n  &quot;html&quot;: &quot;\\u003cdiv style=\\&quot;font-size: 12; color:#d35400;\\&quot;\\u003e\\u003cb\\u003eNASA JSC\\u003c/b\\u003e\\u003c/div\\u003e&quot;,\n  &quot;iconSize&quot;: [20, 20],\n  &quot;iconAnchor&quot;: [0, 0],\n  &quot;className&quot;: &quot;empty&quot;,\n});\n            marker_20f9ff5ff487ee82ad346fa9f1a8b306.setIcon(div_icon_71c29221627950e516c85094667ac2ac);\n        \n&lt;/script&gt;\n&lt;/html&gt;\" style=\"position:absolute;width:100%;height:100%;left:0;top:0;border:none !important;\" allowfullscreen webkitallowfullscreen mozallowfullscreen></iframe></div></div>"
          },
          "metadata": {}
        }
      ],
      "execution_count": 9
    },
    {
      "cell_type": "markdown",
      "source": "and you should find a small yellow circle near the city of Houston and you can zoom-in to see a larger circle.\n",
      "metadata": {}
    },
    {
      "cell_type": "markdown",
      "source": "Now, let's add a circle for each launch site in data frame `launch_sites`\n",
      "metadata": {}
    },
    {
      "cell_type": "markdown",
      "source": "*TODO:*  Create and add `folium.Circle` and `folium.Marker` for each launch site on the site map\n",
      "metadata": {}
    },
    {
      "cell_type": "markdown",
      "source": "An example of folium.Circle:\n",
      "metadata": {}
    },
    {
      "cell_type": "markdown",
      "source": "An example of folium.Marker:\n",
      "metadata": {}
    },
    {
      "cell_type": "markdown",
      "source": "`folium.map.Marker(coordinate, icon=DivIcon(icon_size=(20,20),icon_anchor=(0,0), html='<div style=\"font-size: 12; color:#d35400;\"><b>%s</b></div>' % 'label', ))`\n",
      "metadata": {}
    },
    {
      "cell_type": "code",
      "source": "# Initial the map\nsite_map = folium.Map(location=nasa_coordinate, zoom_start=5)\n# For each launch site, add a Circle object based on its coordinate (Lat, Long) values. In addition, add Launch site name as a popup label\n# Create a MarkerCluster to manage multiple markers efficiently (optional)\nimport pandas as pd\nimport folium\n\n# Assuming you have your spacex_df DataFrame with the relevant columns\n\n# Select launch sites DataFrame\nlaunch_sites_df = spacex_df[['Launch Site', 'Lat', 'Long']].drop_duplicates()\n\n# Function to add a circle marker with popup for each launch site\ndef add_circle_marker(site_map, launch_site, lat, lon):\n  \"\"\"Adds a circle marker with a popup to the map for a launch site.\n\n  Args:\n      site_map (folium.Map): The map object to add the marker to.\n      launch_site (str): The name of the launch site.\n      lat (float): The latitude coordinate.\n      lon (float): The longitude coordinate.\n  \"\"\"\n  folium.CircleMarker(\n      location=[lat, lon],\n      popup=launch_site,  # Set popup text to launch site name\n      radius=5,  # Adjust radius as needed\n      color='blue',  # Customize marker color\n      fill=True,  # Fill the circle marker\n      fill_color='lightblue',  # Customize fill color\n      fill_opacity=0.4  # Adjust fill opacity\n  ).add_to(site_map)\n\n# Add circle markers for each launch site\nfor index, row in launch_sites_df.iterrows():\n  launch_site = row['Launch Site']\n  lat = row['Lat']\n  lon = row['Long']\n  add_circle_marker(site_map, launch_site, lat, lon)\n\n\n# Display the map\nsite_map",
      "metadata": {
        "trusted": true
      },
      "outputs": [
        {
          "execution_count": 10,
          "output_type": "execute_result",
          "data": {
            "text/plain": "<folium.folium.Map at 0x5512458>",
            "text/html": "<div style=\"width:100%;\"><div style=\"position:relative;width:100%;height:0;padding-bottom:60%;\"><span style=\"color:#565656\">Make this Notebook Trusted to load map: File -> Trust Notebook</span><iframe srcdoc=\"&lt;!DOCTYPE html&gt;\n&lt;html&gt;\n&lt;head&gt;\n    \n    &lt;meta http-equiv=&quot;content-type&quot; content=&quot;text/html; charset=UTF-8&quot; /&gt;\n    \n        &lt;script&gt;\n            L_NO_TOUCH = false;\n            L_DISABLE_3D = false;\n        &lt;/script&gt;\n    \n    &lt;style&gt;html, body {width: 100%;height: 100%;margin: 0;padding: 0;}&lt;/style&gt;\n    &lt;style&gt;#map {position:absolute;top:0;bottom:0;right:0;left:0;}&lt;/style&gt;\n    &lt;script src=&quot;https://cdn.jsdelivr.net/npm/leaflet@1.9.3/dist/leaflet.js&quot;&gt;&lt;/script&gt;\n    &lt;script src=&quot;https://code.jquery.com/jquery-3.7.1.min.js&quot;&gt;&lt;/script&gt;\n    &lt;script src=&quot;https://cdn.jsdelivr.net/npm/bootstrap@5.2.2/dist/js/bootstrap.bundle.min.js&quot;&gt;&lt;/script&gt;\n    &lt;script src=&quot;https://cdnjs.cloudflare.com/ajax/libs/Leaflet.awesome-markers/2.0.2/leaflet.awesome-markers.js&quot;&gt;&lt;/script&gt;\n    &lt;link rel=&quot;stylesheet&quot; href=&quot;https://cdn.jsdelivr.net/npm/leaflet@1.9.3/dist/leaflet.css&quot;/&gt;\n    &lt;link rel=&quot;stylesheet&quot; href=&quot;https://cdn.jsdelivr.net/npm/bootstrap@5.2.2/dist/css/bootstrap.min.css&quot;/&gt;\n    &lt;link rel=&quot;stylesheet&quot; href=&quot;https://netdna.bootstrapcdn.com/bootstrap/3.0.0/css/bootstrap-glyphicons.css&quot;/&gt;\n    &lt;link rel=&quot;stylesheet&quot; href=&quot;https://cdn.jsdelivr.net/npm/@fortawesome/fontawesome-free@6.2.0/css/all.min.css&quot;/&gt;\n    &lt;link rel=&quot;stylesheet&quot; href=&quot;https://cdnjs.cloudflare.com/ajax/libs/Leaflet.awesome-markers/2.0.2/leaflet.awesome-markers.css&quot;/&gt;\n    &lt;link rel=&quot;stylesheet&quot; href=&quot;https://cdn.jsdelivr.net/gh/python-visualization/folium/folium/templates/leaflet.awesome.rotate.min.css&quot;/&gt;\n    \n            &lt;meta name=&quot;viewport&quot; content=&quot;width=device-width,\n                initial-scale=1.0, maximum-scale=1.0, user-scalable=no&quot; /&gt;\n            &lt;style&gt;\n                #map_aed1191f2793c26ad2225ad5fde731f8 {\n                    position: relative;\n                    width: 100.0%;\n                    height: 100.0%;\n                    left: 0.0%;\n                    top: 0.0%;\n                }\n                .leaflet-container { font-size: 1rem; }\n            &lt;/style&gt;\n        \n&lt;/head&gt;\n&lt;body&gt;\n    \n    \n            &lt;div class=&quot;folium-map&quot; id=&quot;map_aed1191f2793c26ad2225ad5fde731f8&quot; &gt;&lt;/div&gt;\n        \n&lt;/body&gt;\n&lt;script&gt;\n    \n    \n            var map_aed1191f2793c26ad2225ad5fde731f8 = L.map(\n                &quot;map_aed1191f2793c26ad2225ad5fde731f8&quot;,\n                {\n                    center: [29.559684888503615, -95.0830971930759],\n                    crs: L.CRS.EPSG3857,\n                    ...{\n  &quot;zoom&quot;: 5,\n  &quot;zoomControl&quot;: true,\n  &quot;preferCanvas&quot;: false,\n}\n\n                }\n            );\n\n            \n\n        \n    \n            var tile_layer_93cf81d21dd16217599bb38077138395 = L.tileLayer(\n                &quot;https://tile.openstreetmap.org/{z}/{x}/{y}.png&quot;,\n                {\n  &quot;minZoom&quot;: 0,\n  &quot;maxZoom&quot;: 19,\n  &quot;maxNativeZoom&quot;: 19,\n  &quot;noWrap&quot;: false,\n  &quot;attribution&quot;: &quot;\\u0026copy; \\u003ca href=\\&quot;https://www.openstreetmap.org/copyright\\&quot;\\u003eOpenStreetMap\\u003c/a\\u003e contributors&quot;,\n  &quot;subdomains&quot;: &quot;abc&quot;,\n  &quot;detectRetina&quot;: false,\n  &quot;tms&quot;: false,\n  &quot;opacity&quot;: 1,\n}\n\n            );\n        \n    \n            tile_layer_93cf81d21dd16217599bb38077138395.addTo(map_aed1191f2793c26ad2225ad5fde731f8);\n        \n    \n            var circle_marker_d6e14dc790bf70d35ce31362fe67cacb = L.circleMarker(\n                [28.56230197, -80.57735648],\n                {&quot;bubblingMouseEvents&quot;: true, &quot;color&quot;: &quot;blue&quot;, &quot;dashArray&quot;: null, &quot;dashOffset&quot;: null, &quot;fill&quot;: true, &quot;fillColor&quot;: &quot;lightblue&quot;, &quot;fillOpacity&quot;: 0.4, &quot;fillRule&quot;: &quot;evenodd&quot;, &quot;lineCap&quot;: &quot;round&quot;, &quot;lineJoin&quot;: &quot;round&quot;, &quot;opacity&quot;: 1.0, &quot;radius&quot;: 5, &quot;stroke&quot;: true, &quot;weight&quot;: 3}\n            ).addTo(map_aed1191f2793c26ad2225ad5fde731f8);\n        \n    \n        var popup_0074f38a26a3564346dddccfcc36c8c6 = L.popup({\n  &quot;maxWidth&quot;: &quot;100%&quot;,\n});\n\n        \n            \n                var html_b67a45fb25202a6962f0cee2d3db9fc9 = $(`&lt;div id=&quot;html_b67a45fb25202a6962f0cee2d3db9fc9&quot; style=&quot;width: 100.0%; height: 100.0%;&quot;&gt;CCAFS LC-40&lt;/div&gt;`)[0];\n                popup_0074f38a26a3564346dddccfcc36c8c6.setContent(html_b67a45fb25202a6962f0cee2d3db9fc9);\n            \n        \n\n        circle_marker_d6e14dc790bf70d35ce31362fe67cacb.bindPopup(popup_0074f38a26a3564346dddccfcc36c8c6)\n        ;\n\n        \n    \n    \n            var circle_marker_702f28eb436b79669bc34ea6f20b1148 = L.circleMarker(\n                [34.63283416, -120.6107455],\n                {&quot;bubblingMouseEvents&quot;: true, &quot;color&quot;: &quot;blue&quot;, &quot;dashArray&quot;: null, &quot;dashOffset&quot;: null, &quot;fill&quot;: true, &quot;fillColor&quot;: &quot;lightblue&quot;, &quot;fillOpacity&quot;: 0.4, &quot;fillRule&quot;: &quot;evenodd&quot;, &quot;lineCap&quot;: &quot;round&quot;, &quot;lineJoin&quot;: &quot;round&quot;, &quot;opacity&quot;: 1.0, &quot;radius&quot;: 5, &quot;stroke&quot;: true, &quot;weight&quot;: 3}\n            ).addTo(map_aed1191f2793c26ad2225ad5fde731f8);\n        \n    \n        var popup_6dd11efb31ad674e9e115dae8981d783 = L.popup({\n  &quot;maxWidth&quot;: &quot;100%&quot;,\n});\n\n        \n            \n                var html_a1d2dd9883fea79c62b50890df860af0 = $(`&lt;div id=&quot;html_a1d2dd9883fea79c62b50890df860af0&quot; style=&quot;width: 100.0%; height: 100.0%;&quot;&gt;VAFB SLC-4E&lt;/div&gt;`)[0];\n                popup_6dd11efb31ad674e9e115dae8981d783.setContent(html_a1d2dd9883fea79c62b50890df860af0);\n            \n        \n\n        circle_marker_702f28eb436b79669bc34ea6f20b1148.bindPopup(popup_6dd11efb31ad674e9e115dae8981d783)\n        ;\n\n        \n    \n    \n            var circle_marker_01e5c96f66820ed899a3d80cd1c601c1 = L.circleMarker(\n                [28.57325457, -80.64689529],\n                {&quot;bubblingMouseEvents&quot;: true, &quot;color&quot;: &quot;blue&quot;, &quot;dashArray&quot;: null, &quot;dashOffset&quot;: null, &quot;fill&quot;: true, &quot;fillColor&quot;: &quot;lightblue&quot;, &quot;fillOpacity&quot;: 0.4, &quot;fillRule&quot;: &quot;evenodd&quot;, &quot;lineCap&quot;: &quot;round&quot;, &quot;lineJoin&quot;: &quot;round&quot;, &quot;opacity&quot;: 1.0, &quot;radius&quot;: 5, &quot;stroke&quot;: true, &quot;weight&quot;: 3}\n            ).addTo(map_aed1191f2793c26ad2225ad5fde731f8);\n        \n    \n        var popup_dacf422ff597c539b841107643d0c2ea = L.popup({\n  &quot;maxWidth&quot;: &quot;100%&quot;,\n});\n\n        \n            \n                var html_4502f47b2647ab6a2b7470e9589b4a9a = $(`&lt;div id=&quot;html_4502f47b2647ab6a2b7470e9589b4a9a&quot; style=&quot;width: 100.0%; height: 100.0%;&quot;&gt;KSC LC-39A&lt;/div&gt;`)[0];\n                popup_dacf422ff597c539b841107643d0c2ea.setContent(html_4502f47b2647ab6a2b7470e9589b4a9a);\n            \n        \n\n        circle_marker_01e5c96f66820ed899a3d80cd1c601c1.bindPopup(popup_dacf422ff597c539b841107643d0c2ea)\n        ;\n\n        \n    \n    \n            var circle_marker_b43b442cf737329ba4e6b395dc76c9b2 = L.circleMarker(\n                [28.56319718, -80.57682003],\n                {&quot;bubblingMouseEvents&quot;: true, &quot;color&quot;: &quot;blue&quot;, &quot;dashArray&quot;: null, &quot;dashOffset&quot;: null, &quot;fill&quot;: true, &quot;fillColor&quot;: &quot;lightblue&quot;, &quot;fillOpacity&quot;: 0.4, &quot;fillRule&quot;: &quot;evenodd&quot;, &quot;lineCap&quot;: &quot;round&quot;, &quot;lineJoin&quot;: &quot;round&quot;, &quot;opacity&quot;: 1.0, &quot;radius&quot;: 5, &quot;stroke&quot;: true, &quot;weight&quot;: 3}\n            ).addTo(map_aed1191f2793c26ad2225ad5fde731f8);\n        \n    \n        var popup_5509edb75e608dadc5ac8ec2e40d8482 = L.popup({\n  &quot;maxWidth&quot;: &quot;100%&quot;,\n});\n\n        \n            \n                var html_2918e8c7ea41126d89caeebe670fc585 = $(`&lt;div id=&quot;html_2918e8c7ea41126d89caeebe670fc585&quot; style=&quot;width: 100.0%; height: 100.0%;&quot;&gt;CCAFS SLC-40&lt;/div&gt;`)[0];\n                popup_5509edb75e608dadc5ac8ec2e40d8482.setContent(html_2918e8c7ea41126d89caeebe670fc585);\n            \n        \n\n        circle_marker_b43b442cf737329ba4e6b395dc76c9b2.bindPopup(popup_5509edb75e608dadc5ac8ec2e40d8482)\n        ;\n\n        \n    \n&lt;/script&gt;\n&lt;/html&gt;\" style=\"position:absolute;width:100%;height:100%;left:0;top:0;border:none !important;\" allowfullscreen webkitallowfullscreen mozallowfullscreen></iframe></div></div>"
          },
          "metadata": {}
        }
      ],
      "execution_count": 10
    },
    {
      "cell_type": "markdown",
      "source": "The generated map with marked launch sites should look similar to the following:\n",
      "metadata": {}
    },
    {
      "cell_type": "markdown",
      "source": "<center>\n    <img src=\"https://cf-courses-data.s3.us.cloud-object-storage.appdomain.cloud/IBM-DS0321EN-SkillsNetwork/labs/module_3/images/launch_site_markers.png\">\n</center>\n",
      "metadata": {}
    },
    {
      "cell_type": "markdown",
      "source": "Now, you can explore the map by zoom-in/out the marked areas\n, and try to answer the following questions:\n\n*   Are all launch sites in proximity to the Equator line?\n*   Are all launch sites in very close proximity to the coast?\n\nAlso please try to explain your findings.\n",
      "metadata": {}
    },
    {
      "cell_type": "code",
      "source": "launch_sites_df = spacex_df[['Launch Site', 'Lat', 'Long', 'class']].drop_duplicates()\n\n# Define NASA coordinate (you might want to adjust this)\nnasa_coordinate = [28.563, -80.604]\n\n# Create the map\nsite_map = folium.Map(location=nasa_coordinate, zoom_start=4)\n\n# Function to add markers with different colors based on launch outcome\ndef add_outcome_marker(site_map, launch_site, lat, lon, outcome):\n    \"\"\"Adds a marker with color based on launch outcome.\n\n    Args:\n        site_map (folium.Map): The map object.\n        launch_site (str): The name of the launch site.\n        lat (float): Latitude.\n        lon (float): Longitude.\n        outcome (int): 0 for failure, 1 for success.\n    \"\"\"\n    if outcome == 1:\n        marker_color = 'green'  # Success\n        icon = folium.Icon(color=\"green\", icon=\"ok\")\n    else:\n        marker_color = 'red'    # Failure\n        icon = folium.Icon(color=\"red\", icon=\"remove\")\n\n    folium.Marker(\n        location=[lat, lon],\n        popup=f\"{launch_site}: {'Success' if outcome == 1 else 'Failure'}\",\n        icon=icon\n    ).add_to(site_map)\n\n# Add markers for each launch site with outcome information\nfor index, row in launch_sites_df.iterrows():\n    launch_site = row['Launch Site']\n    lat = row['Lat']\n    lon = row['Long']\n    # Access the outcome value for the current launch site\n    outcome = row['class']  # Assuming 'class' column has 0 for failure, 1 for success\n    add_outcome_marker(site_map, launch_site, lat, lon, outcome)\n\nsite_map",
      "metadata": {
        "trusted": true,
        "scrolled": true
      },
      "outputs": [
        {
          "execution_count": 11,
          "output_type": "execute_result",
          "data": {
            "text/plain": "<folium.folium.Map at 0x533d9e8>",
            "text/html": "<div style=\"width:100%;\"><div style=\"position:relative;width:100%;height:0;padding-bottom:60%;\"><span style=\"color:#565656\">Make this Notebook Trusted to load map: File -> Trust Notebook</span><iframe srcdoc=\"&lt;!DOCTYPE html&gt;\n&lt;html&gt;\n&lt;head&gt;\n    \n    &lt;meta http-equiv=&quot;content-type&quot; content=&quot;text/html; charset=UTF-8&quot; /&gt;\n    \n        &lt;script&gt;\n            L_NO_TOUCH = false;\n            L_DISABLE_3D = false;\n        &lt;/script&gt;\n    \n    &lt;style&gt;html, body {width: 100%;height: 100%;margin: 0;padding: 0;}&lt;/style&gt;\n    &lt;style&gt;#map {position:absolute;top:0;bottom:0;right:0;left:0;}&lt;/style&gt;\n    &lt;script src=&quot;https://cdn.jsdelivr.net/npm/leaflet@1.9.3/dist/leaflet.js&quot;&gt;&lt;/script&gt;\n    &lt;script src=&quot;https://code.jquery.com/jquery-3.7.1.min.js&quot;&gt;&lt;/script&gt;\n    &lt;script src=&quot;https://cdn.jsdelivr.net/npm/bootstrap@5.2.2/dist/js/bootstrap.bundle.min.js&quot;&gt;&lt;/script&gt;\n    &lt;script src=&quot;https://cdnjs.cloudflare.com/ajax/libs/Leaflet.awesome-markers/2.0.2/leaflet.awesome-markers.js&quot;&gt;&lt;/script&gt;\n    &lt;link rel=&quot;stylesheet&quot; href=&quot;https://cdn.jsdelivr.net/npm/leaflet@1.9.3/dist/leaflet.css&quot;/&gt;\n    &lt;link rel=&quot;stylesheet&quot; href=&quot;https://cdn.jsdelivr.net/npm/bootstrap@5.2.2/dist/css/bootstrap.min.css&quot;/&gt;\n    &lt;link rel=&quot;stylesheet&quot; href=&quot;https://netdna.bootstrapcdn.com/bootstrap/3.0.0/css/bootstrap-glyphicons.css&quot;/&gt;\n    &lt;link rel=&quot;stylesheet&quot; href=&quot;https://cdn.jsdelivr.net/npm/@fortawesome/fontawesome-free@6.2.0/css/all.min.css&quot;/&gt;\n    &lt;link rel=&quot;stylesheet&quot; href=&quot;https://cdnjs.cloudflare.com/ajax/libs/Leaflet.awesome-markers/2.0.2/leaflet.awesome-markers.css&quot;/&gt;\n    &lt;link rel=&quot;stylesheet&quot; href=&quot;https://cdn.jsdelivr.net/gh/python-visualization/folium/folium/templates/leaflet.awesome.rotate.min.css&quot;/&gt;\n    \n            &lt;meta name=&quot;viewport&quot; content=&quot;width=device-width,\n                initial-scale=1.0, maximum-scale=1.0, user-scalable=no&quot; /&gt;\n            &lt;style&gt;\n                #map_bf635b3525d13bf24e532c821a764f89 {\n                    position: relative;\n                    width: 100.0%;\n                    height: 100.0%;\n                    left: 0.0%;\n                    top: 0.0%;\n                }\n                .leaflet-container { font-size: 1rem; }\n            &lt;/style&gt;\n        \n&lt;/head&gt;\n&lt;body&gt;\n    \n    \n            &lt;div class=&quot;folium-map&quot; id=&quot;map_bf635b3525d13bf24e532c821a764f89&quot; &gt;&lt;/div&gt;\n        \n&lt;/body&gt;\n&lt;script&gt;\n    \n    \n            var map_bf635b3525d13bf24e532c821a764f89 = L.map(\n                &quot;map_bf635b3525d13bf24e532c821a764f89&quot;,\n                {\n                    center: [28.563, -80.604],\n                    crs: L.CRS.EPSG3857,\n                    ...{\n  &quot;zoom&quot;: 4,\n  &quot;zoomControl&quot;: true,\n  &quot;preferCanvas&quot;: false,\n}\n\n                }\n            );\n\n            \n\n        \n    \n            var tile_layer_548a9830b900f787ca22e3a000d97091 = L.tileLayer(\n                &quot;https://tile.openstreetmap.org/{z}/{x}/{y}.png&quot;,\n                {\n  &quot;minZoom&quot;: 0,\n  &quot;maxZoom&quot;: 19,\n  &quot;maxNativeZoom&quot;: 19,\n  &quot;noWrap&quot;: false,\n  &quot;attribution&quot;: &quot;\\u0026copy; \\u003ca href=\\&quot;https://www.openstreetmap.org/copyright\\&quot;\\u003eOpenStreetMap\\u003c/a\\u003e contributors&quot;,\n  &quot;subdomains&quot;: &quot;abc&quot;,\n  &quot;detectRetina&quot;: false,\n  &quot;tms&quot;: false,\n  &quot;opacity&quot;: 1,\n}\n\n            );\n        \n    \n            tile_layer_548a9830b900f787ca22e3a000d97091.addTo(map_bf635b3525d13bf24e532c821a764f89);\n        \n    \n            var marker_7d9c4e2d875508c7f2c2ec05b4a9f88d = L.marker(\n                [28.56230197, -80.57735648],\n                {\n}\n            ).addTo(map_bf635b3525d13bf24e532c821a764f89);\n        \n    \n            var icon_cf5b0ffef2be434b54b9234f3ee4a7d9 = L.AwesomeMarkers.icon(\n                {\n  &quot;markerColor&quot;: &quot;red&quot;,\n  &quot;iconColor&quot;: &quot;white&quot;,\n  &quot;icon&quot;: &quot;remove&quot;,\n  &quot;prefix&quot;: &quot;glyphicon&quot;,\n  &quot;extraClasses&quot;: &quot;fa-rotate-0&quot;,\n}\n            );\n            marker_7d9c4e2d875508c7f2c2ec05b4a9f88d.setIcon(icon_cf5b0ffef2be434b54b9234f3ee4a7d9);\n        \n    \n        var popup_02f08801bfc7915f37085a0778919a09 = L.popup({\n  &quot;maxWidth&quot;: &quot;100%&quot;,\n});\n\n        \n            \n                var html_0f1fe6bf74a3b85d2cc2f24fe04859ae = $(`&lt;div id=&quot;html_0f1fe6bf74a3b85d2cc2f24fe04859ae&quot; style=&quot;width: 100.0%; height: 100.0%;&quot;&gt;CCAFS LC-40: Failure&lt;/div&gt;`)[0];\n                popup_02f08801bfc7915f37085a0778919a09.setContent(html_0f1fe6bf74a3b85d2cc2f24fe04859ae);\n            \n        \n\n        marker_7d9c4e2d875508c7f2c2ec05b4a9f88d.bindPopup(popup_02f08801bfc7915f37085a0778919a09)\n        ;\n\n        \n    \n    \n            var marker_ba346d719b06c60405965a72fefd7e9b = L.marker(\n                [28.56230197, -80.57735648],\n                {\n}\n            ).addTo(map_bf635b3525d13bf24e532c821a764f89);\n        \n    \n            var icon_8cc1454880106d30a13cdd4911727f5e = L.AwesomeMarkers.icon(\n                {\n  &quot;markerColor&quot;: &quot;green&quot;,\n  &quot;iconColor&quot;: &quot;white&quot;,\n  &quot;icon&quot;: &quot;ok&quot;,\n  &quot;prefix&quot;: &quot;glyphicon&quot;,\n  &quot;extraClasses&quot;: &quot;fa-rotate-0&quot;,\n}\n            );\n            marker_ba346d719b06c60405965a72fefd7e9b.setIcon(icon_8cc1454880106d30a13cdd4911727f5e);\n        \n    \n        var popup_03115db217c3894646b15714a5d7e759 = L.popup({\n  &quot;maxWidth&quot;: &quot;100%&quot;,\n});\n\n        \n            \n                var html_42514cba0c5a1fd13edb26622f889344 = $(`&lt;div id=&quot;html_42514cba0c5a1fd13edb26622f889344&quot; style=&quot;width: 100.0%; height: 100.0%;&quot;&gt;CCAFS LC-40: Success&lt;/div&gt;`)[0];\n                popup_03115db217c3894646b15714a5d7e759.setContent(html_42514cba0c5a1fd13edb26622f889344);\n            \n        \n\n        marker_ba346d719b06c60405965a72fefd7e9b.bindPopup(popup_03115db217c3894646b15714a5d7e759)\n        ;\n\n        \n    \n    \n            var marker_ed67eb1503ae13ec5ecd941ba56ed9ce = L.marker(\n                [34.63283416, -120.6107455],\n                {\n}\n            ).addTo(map_bf635b3525d13bf24e532c821a764f89);\n        \n    \n            var icon_9e2965f786b4be10528bf6ac315756a3 = L.AwesomeMarkers.icon(\n                {\n  &quot;markerColor&quot;: &quot;red&quot;,\n  &quot;iconColor&quot;: &quot;white&quot;,\n  &quot;icon&quot;: &quot;remove&quot;,\n  &quot;prefix&quot;: &quot;glyphicon&quot;,\n  &quot;extraClasses&quot;: &quot;fa-rotate-0&quot;,\n}\n            );\n            marker_ed67eb1503ae13ec5ecd941ba56ed9ce.setIcon(icon_9e2965f786b4be10528bf6ac315756a3);\n        \n    \n        var popup_e9896ec192b2428d0b49216e8805adfa = L.popup({\n  &quot;maxWidth&quot;: &quot;100%&quot;,\n});\n\n        \n            \n                var html_c3157c4cd040d28c5fd54a5b216b5282 = $(`&lt;div id=&quot;html_c3157c4cd040d28c5fd54a5b216b5282&quot; style=&quot;width: 100.0%; height: 100.0%;&quot;&gt;VAFB SLC-4E: Failure&lt;/div&gt;`)[0];\n                popup_e9896ec192b2428d0b49216e8805adfa.setContent(html_c3157c4cd040d28c5fd54a5b216b5282);\n            \n        \n\n        marker_ed67eb1503ae13ec5ecd941ba56ed9ce.bindPopup(popup_e9896ec192b2428d0b49216e8805adfa)\n        ;\n\n        \n    \n    \n            var marker_cf0f0ccadd55898dd5205495a74a8ba9 = L.marker(\n                [34.63283416, -120.6107455],\n                {\n}\n            ).addTo(map_bf635b3525d13bf24e532c821a764f89);\n        \n    \n            var icon_1889b05b4ffd1e57ef7ef43d82c4ba48 = L.AwesomeMarkers.icon(\n                {\n  &quot;markerColor&quot;: &quot;green&quot;,\n  &quot;iconColor&quot;: &quot;white&quot;,\n  &quot;icon&quot;: &quot;ok&quot;,\n  &quot;prefix&quot;: &quot;glyphicon&quot;,\n  &quot;extraClasses&quot;: &quot;fa-rotate-0&quot;,\n}\n            );\n            marker_cf0f0ccadd55898dd5205495a74a8ba9.setIcon(icon_1889b05b4ffd1e57ef7ef43d82c4ba48);\n        \n    \n        var popup_f4d57f0b9aeb9cc154e3a0d7ece6328b = L.popup({\n  &quot;maxWidth&quot;: &quot;100%&quot;,\n});\n\n        \n            \n                var html_60b69c1e66bfe12b4d293efabaa672dc = $(`&lt;div id=&quot;html_60b69c1e66bfe12b4d293efabaa672dc&quot; style=&quot;width: 100.0%; height: 100.0%;&quot;&gt;VAFB SLC-4E: Success&lt;/div&gt;`)[0];\n                popup_f4d57f0b9aeb9cc154e3a0d7ece6328b.setContent(html_60b69c1e66bfe12b4d293efabaa672dc);\n            \n        \n\n        marker_cf0f0ccadd55898dd5205495a74a8ba9.bindPopup(popup_f4d57f0b9aeb9cc154e3a0d7ece6328b)\n        ;\n\n        \n    \n    \n            var marker_d9e2e58430af50b5041f03deab40de72 = L.marker(\n                [28.57325457, -80.64689529],\n                {\n}\n            ).addTo(map_bf635b3525d13bf24e532c821a764f89);\n        \n    \n            var icon_d272caf740d618ce5235a79754e85602 = L.AwesomeMarkers.icon(\n                {\n  &quot;markerColor&quot;: &quot;green&quot;,\n  &quot;iconColor&quot;: &quot;white&quot;,\n  &quot;icon&quot;: &quot;ok&quot;,\n  &quot;prefix&quot;: &quot;glyphicon&quot;,\n  &quot;extraClasses&quot;: &quot;fa-rotate-0&quot;,\n}\n            );\n            marker_d9e2e58430af50b5041f03deab40de72.setIcon(icon_d272caf740d618ce5235a79754e85602);\n        \n    \n        var popup_2f6115a42a0720b724a3a190d4c76091 = L.popup({\n  &quot;maxWidth&quot;: &quot;100%&quot;,\n});\n\n        \n            \n                var html_1cdce66f0beb2d39942564f47dfa634c = $(`&lt;div id=&quot;html_1cdce66f0beb2d39942564f47dfa634c&quot; style=&quot;width: 100.0%; height: 100.0%;&quot;&gt;KSC LC-39A: Success&lt;/div&gt;`)[0];\n                popup_2f6115a42a0720b724a3a190d4c76091.setContent(html_1cdce66f0beb2d39942564f47dfa634c);\n            \n        \n\n        marker_d9e2e58430af50b5041f03deab40de72.bindPopup(popup_2f6115a42a0720b724a3a190d4c76091)\n        ;\n\n        \n    \n    \n            var marker_ed60e68814ce0ac086b06e35b6d60c90 = L.marker(\n                [28.57325457, -80.64689529],\n                {\n}\n            ).addTo(map_bf635b3525d13bf24e532c821a764f89);\n        \n    \n            var icon_2d5e5ad39cc30fb5b78413a909c0270e = L.AwesomeMarkers.icon(\n                {\n  &quot;markerColor&quot;: &quot;red&quot;,\n  &quot;iconColor&quot;: &quot;white&quot;,\n  &quot;icon&quot;: &quot;remove&quot;,\n  &quot;prefix&quot;: &quot;glyphicon&quot;,\n  &quot;extraClasses&quot;: &quot;fa-rotate-0&quot;,\n}\n            );\n            marker_ed60e68814ce0ac086b06e35b6d60c90.setIcon(icon_2d5e5ad39cc30fb5b78413a909c0270e);\n        \n    \n        var popup_98202abd384e4dabcaf2e3a6c9a0bbe2 = L.popup({\n  &quot;maxWidth&quot;: &quot;100%&quot;,\n});\n\n        \n            \n                var html_88531499108c353df418ec86a24631cd = $(`&lt;div id=&quot;html_88531499108c353df418ec86a24631cd&quot; style=&quot;width: 100.0%; height: 100.0%;&quot;&gt;KSC LC-39A: Failure&lt;/div&gt;`)[0];\n                popup_98202abd384e4dabcaf2e3a6c9a0bbe2.setContent(html_88531499108c353df418ec86a24631cd);\n            \n        \n\n        marker_ed60e68814ce0ac086b06e35b6d60c90.bindPopup(popup_98202abd384e4dabcaf2e3a6c9a0bbe2)\n        ;\n\n        \n    \n    \n            var marker_2037f617e0961686345b560c0e41abeb = L.marker(\n                [28.56319718, -80.57682003],\n                {\n}\n            ).addTo(map_bf635b3525d13bf24e532c821a764f89);\n        \n    \n            var icon_dedeeffc114d3274ff29026175ca39fb = L.AwesomeMarkers.icon(\n                {\n  &quot;markerColor&quot;: &quot;green&quot;,\n  &quot;iconColor&quot;: &quot;white&quot;,\n  &quot;icon&quot;: &quot;ok&quot;,\n  &quot;prefix&quot;: &quot;glyphicon&quot;,\n  &quot;extraClasses&quot;: &quot;fa-rotate-0&quot;,\n}\n            );\n            marker_2037f617e0961686345b560c0e41abeb.setIcon(icon_dedeeffc114d3274ff29026175ca39fb);\n        \n    \n        var popup_5aed710428ff7a5df6a5f608220271f6 = L.popup({\n  &quot;maxWidth&quot;: &quot;100%&quot;,\n});\n\n        \n            \n                var html_413f7836cd70b3dec0104eeb6635f495 = $(`&lt;div id=&quot;html_413f7836cd70b3dec0104eeb6635f495&quot; style=&quot;width: 100.0%; height: 100.0%;&quot;&gt;CCAFS SLC-40: Success&lt;/div&gt;`)[0];\n                popup_5aed710428ff7a5df6a5f608220271f6.setContent(html_413f7836cd70b3dec0104eeb6635f495);\n            \n        \n\n        marker_2037f617e0961686345b560c0e41abeb.bindPopup(popup_5aed710428ff7a5df6a5f608220271f6)\n        ;\n\n        \n    \n    \n            var marker_201a8dd3bc547a53c727d93905be29b5 = L.marker(\n                [28.56319718, -80.57682003],\n                {\n}\n            ).addTo(map_bf635b3525d13bf24e532c821a764f89);\n        \n    \n            var icon_77e51092bf8e416002d3d44ec4c3799b = L.AwesomeMarkers.icon(\n                {\n  &quot;markerColor&quot;: &quot;red&quot;,\n  &quot;iconColor&quot;: &quot;white&quot;,\n  &quot;icon&quot;: &quot;remove&quot;,\n  &quot;prefix&quot;: &quot;glyphicon&quot;,\n  &quot;extraClasses&quot;: &quot;fa-rotate-0&quot;,\n}\n            );\n            marker_201a8dd3bc547a53c727d93905be29b5.setIcon(icon_77e51092bf8e416002d3d44ec4c3799b);\n        \n    \n        var popup_4880eb4364d236be2677e5334031f08f = L.popup({\n  &quot;maxWidth&quot;: &quot;100%&quot;,\n});\n\n        \n            \n                var html_dba3576db430a372fa725364566d3c63 = $(`&lt;div id=&quot;html_dba3576db430a372fa725364566d3c63&quot; style=&quot;width: 100.0%; height: 100.0%;&quot;&gt;CCAFS SLC-40: Failure&lt;/div&gt;`)[0];\n                popup_4880eb4364d236be2677e5334031f08f.setContent(html_dba3576db430a372fa725364566d3c63);\n            \n        \n\n        marker_201a8dd3bc547a53c727d93905be29b5.bindPopup(popup_4880eb4364d236be2677e5334031f08f)\n        ;\n\n        \n    \n&lt;/script&gt;\n&lt;/html&gt;\" style=\"position:absolute;width:100%;height:100%;left:0;top:0;border:none !important;\" allowfullscreen webkitallowfullscreen mozallowfullscreen></iframe></div></div>"
          },
          "metadata": {}
        }
      ],
      "execution_count": 11
    },
    {
      "cell_type": "markdown",
      "source": "Next, let's try to enhance the map by adding the launch outcomes for each site, and see which sites have high success rates.\nRecall that data frame spacex_df has detailed launch records, and the `class` column indicates if this launch was successful or not\n",
      "metadata": {}
    },
    {
      "cell_type": "code",
      "source": "spacex_df.tail(10)",
      "metadata": {
        "trusted": true
      },
      "outputs": [
        {
          "execution_count": 28,
          "output_type": "execute_result",
          "data": {
            "text/plain": "     Launch Site        Lat       Long  class\n46    KSC LC-39A  28.573255 -80.646895      1\n47    KSC LC-39A  28.573255 -80.646895      1\n48    KSC LC-39A  28.573255 -80.646895      1\n49  CCAFS SLC-40  28.563197 -80.576820      1\n50  CCAFS SLC-40  28.563197 -80.576820      1\n51  CCAFS SLC-40  28.563197 -80.576820      0\n52  CCAFS SLC-40  28.563197 -80.576820      0\n53  CCAFS SLC-40  28.563197 -80.576820      0\n54  CCAFS SLC-40  28.563197 -80.576820      1\n55  CCAFS SLC-40  28.563197 -80.576820      0",
            "text/html": "<div>\n<style scoped>\n    .dataframe tbody tr th:only-of-type {\n        vertical-align: middle;\n    }\n\n    .dataframe tbody tr th {\n        vertical-align: top;\n    }\n\n    .dataframe thead th {\n        text-align: right;\n    }\n</style>\n<table border=\"1\" class=\"dataframe\">\n  <thead>\n    <tr style=\"text-align: right;\">\n      <th></th>\n      <th>Launch Site</th>\n      <th>Lat</th>\n      <th>Long</th>\n      <th>class</th>\n    </tr>\n  </thead>\n  <tbody>\n    <tr>\n      <th>46</th>\n      <td>KSC LC-39A</td>\n      <td>28.573255</td>\n      <td>-80.646895</td>\n      <td>1</td>\n    </tr>\n    <tr>\n      <th>47</th>\n      <td>KSC LC-39A</td>\n      <td>28.573255</td>\n      <td>-80.646895</td>\n      <td>1</td>\n    </tr>\n    <tr>\n      <th>48</th>\n      <td>KSC LC-39A</td>\n      <td>28.573255</td>\n      <td>-80.646895</td>\n      <td>1</td>\n    </tr>\n    <tr>\n      <th>49</th>\n      <td>CCAFS SLC-40</td>\n      <td>28.563197</td>\n      <td>-80.576820</td>\n      <td>1</td>\n    </tr>\n    <tr>\n      <th>50</th>\n      <td>CCAFS SLC-40</td>\n      <td>28.563197</td>\n      <td>-80.576820</td>\n      <td>1</td>\n    </tr>\n    <tr>\n      <th>51</th>\n      <td>CCAFS SLC-40</td>\n      <td>28.563197</td>\n      <td>-80.576820</td>\n      <td>0</td>\n    </tr>\n    <tr>\n      <th>52</th>\n      <td>CCAFS SLC-40</td>\n      <td>28.563197</td>\n      <td>-80.576820</td>\n      <td>0</td>\n    </tr>\n    <tr>\n      <th>53</th>\n      <td>CCAFS SLC-40</td>\n      <td>28.563197</td>\n      <td>-80.576820</td>\n      <td>0</td>\n    </tr>\n    <tr>\n      <th>54</th>\n      <td>CCAFS SLC-40</td>\n      <td>28.563197</td>\n      <td>-80.576820</td>\n      <td>1</td>\n    </tr>\n    <tr>\n      <th>55</th>\n      <td>CCAFS SLC-40</td>\n      <td>28.563197</td>\n      <td>-80.576820</td>\n      <td>0</td>\n    </tr>\n  </tbody>\n</table>\n</div>"
          },
          "metadata": {}
        }
      ],
      "execution_count": 28
    },
    {
      "cell_type": "markdown",
      "source": "Next, let's create markers for all launch records.\nIf a launch was successful `(class=1)`, then we use a green marker and if a launch was failed, we use a red marker `(class=0)`\n",
      "metadata": {}
    },
    {
      "cell_type": "markdown",
      "source": "Note that a launch only happens in one of the four launch sites, which means many launch records will have the exact same coordinate. Marker clusters can be a good way to simplify a map containing many markers having the same coordinate.\n",
      "metadata": {}
    },
    {
      "cell_type": "markdown",
      "source": "Let's first create a `MarkerCluster` object\n",
      "metadata": {}
    },
    {
      "cell_type": "code",
      "source": "marker_cluster = MarkerCluster()\n",
      "metadata": {
        "trusted": true
      },
      "outputs": [],
      "execution_count": 30
    },
    {
      "cell_type": "markdown",
      "source": "*TODO:* Create a new column in `spacex_df` dataframe called `marker_color` to store the marker colors based on the `class` value\n",
      "metadata": {}
    },
    {
      "cell_type": "code",
      "source": "!python -m pip install geopy",
      "metadata": {
        "trusted": true
      },
      "outputs": [
        {
          "ename": "<class 'OSError'>",
          "evalue": "Not available",
          "traceback": [
            "\u001b[0;31m---------------------------------------------------------------------------\u001b[0m",
            "\u001b[0;31mOSError\u001b[0m                                   Traceback (most recent call last)",
            "Cell \u001b[0;32mIn[51], line 1\u001b[0m\n\u001b[0;32m----> 1\u001b[0m \u001b[43mget_ipython\u001b[49m\u001b[43m(\u001b[49m\u001b[43m)\u001b[49m\u001b[38;5;241;43m.\u001b[39;49m\u001b[43msystem\u001b[49m\u001b[43m(\u001b[49m\u001b[38;5;124;43m'\u001b[39;49m\u001b[38;5;124;43mpython -m pip install geopy\u001b[39;49m\u001b[38;5;124;43m'\u001b[39;49m\u001b[43m)\u001b[49m\n",
            "File \u001b[0;32m/lib/python3.12/site-packages/IPython/core/interactiveshell.py:2653\u001b[0m, in \u001b[0;36mInteractiveShell.system_piped\u001b[0;34m(self, cmd)\u001b[0m\n\u001b[1;32m   2648\u001b[0m     \u001b[38;5;28;01mraise\u001b[39;00m \u001b[38;5;167;01mOSError\u001b[39;00m(\u001b[38;5;124m\"\u001b[39m\u001b[38;5;124mBackground processes not supported.\u001b[39m\u001b[38;5;124m\"\u001b[39m)\n\u001b[1;32m   2650\u001b[0m \u001b[38;5;66;03m# we explicitly do NOT return the subprocess status code, because\u001b[39;00m\n\u001b[1;32m   2651\u001b[0m \u001b[38;5;66;03m# a non-None value would trigger :func:`sys.displayhook` calls.\u001b[39;00m\n\u001b[1;32m   2652\u001b[0m \u001b[38;5;66;03m# Instead, we store the exit_code in user_ns.\u001b[39;00m\n\u001b[0;32m-> 2653\u001b[0m \u001b[38;5;28mself\u001b[39m\u001b[38;5;241m.\u001b[39muser_ns[\u001b[38;5;124m'\u001b[39m\u001b[38;5;124m_exit_code\u001b[39m\u001b[38;5;124m'\u001b[39m] \u001b[38;5;241m=\u001b[39m \u001b[43msystem\u001b[49m\u001b[43m(\u001b[49m\u001b[38;5;28;43mself\u001b[39;49m\u001b[38;5;241;43m.\u001b[39;49m\u001b[43mvar_expand\u001b[49m\u001b[43m(\u001b[49m\u001b[43mcmd\u001b[49m\u001b[43m,\u001b[49m\u001b[43m \u001b[49m\u001b[43mdepth\u001b[49m\u001b[38;5;241;43m=\u001b[39;49m\u001b[38;5;241;43m1\u001b[39;49m\u001b[43m)\u001b[49m\u001b[43m)\u001b[49m\n",
            "File \u001b[0;32m/lib/python3.12/site-packages/IPython/utils/_process_emscripten.py:11\u001b[0m, in \u001b[0;36msystem\u001b[0;34m(cmd)\u001b[0m\n\u001b[1;32m     10\u001b[0m \u001b[38;5;28;01mdef\u001b[39;00m \u001b[38;5;21msystem\u001b[39m(cmd):\n\u001b[0;32m---> 11\u001b[0m     \u001b[38;5;28;01mraise\u001b[39;00m \u001b[38;5;167;01mOSError\u001b[39;00m(\u001b[38;5;124m\"\u001b[39m\u001b[38;5;124mNot available\u001b[39m\u001b[38;5;124m\"\u001b[39m)\n",
            "\u001b[0;31mOSError\u001b[0m: Not available"
          ],
          "output_type": "error"
        }
      ],
      "execution_count": 51
    },
    {
      "cell_type": "code",
      "source": "\n# Apply a function to check the value of `class` column\n# If class=1, marker_color value will be green\n# If class=0, marker_color value will be red\nimport pandas as pd\nimport folium\nfrom geopy.geocoders import Nominatim\nfrom geopy.distance import geodesic\nimport numpy as np\n\n# Assuming you have your spacex_df DataFrame\n\n# Function to find the nearest coastline coordinates (using reverse geocoding)\ndef find_nearest_coastline(lat, lon):\n    \"\"\"Finds the nearest coastline coordinates using reverse geocoding.\n\n    Args:\n        lat (float): Latitude.\n        lon (float): Longitude.\n\n    Returns:\n        tuple: (latitude, longitude) of the nearest coastline, or None if not found.\n    \"\"\"\n    geolocator = Nominatim(user_agent=\"coastline_finder\")\n    location = geolocator.reverse((lat, lon), language='en')\n\n    if location:\n      address = location.raw['address']\n      if 'sea' in address or 'ocean' in address or 'coast' in address or 'beach' in address:\n        return (lat,lon)\n      else:\n        #Try searching nearby\n        for i in np.arange(0.01,0.1,0.01):\n          location_nearby = geolocator.reverse((lat+i, lon), language='en')\n          if location_nearby:\n            address_nearby = location_nearby.raw['address']\n            if 'sea' in address_nearby or 'ocean' in address_nearby or 'coast' in address_nearby or 'beach' in address_nearby:\n              return (lat+i,lon)\n          location_nearby = geolocator.reverse((lat-i, lon), language='en')\n          if location_nearby:\n            address_nearby = location_nearby.raw['address']\n            if 'sea' in address_nearby or 'ocean' in address_nearby or 'coast' in address_nearby or 'beach' in address_nearby:\n              return (lat-i,lon)\n          location_nearby = geolocator.reverse((lat, lon+i), language='en')\n          if location_nearby:\n            address_nearby = location_nearby.raw['address']\n            if 'sea' in address_nearby or 'ocean' in address_nearby or 'coast' in address_nearby or 'beach' in address_nearby:\n              return (lat,lon+i)\n          location_nearby = geolocator.reverse((lat, lon-i), language='en')\n          if location_nearby:\n            address_nearby = location_nearby.raw['address']\n            if 'sea' in address_nearby or 'ocean' in address_nearby or 'coast' in address_nearby or 'beach' in address_nearby:\n              return (lat,lon-i)\n        return None\n    else:\n        return None\n\n# Function to calculate distance using geodesic\ndef calculate_distance(lat1, lon1, lat2, lon2):\n    \"\"\"Calculates the geodesic distance between two points.\n\n    Args:\n        lat1 (float): Latitude of the first point.\n        lon1 (float): Longitude of the first point.\n        lat2 (float): Latitude of the second point.\n        lon2 (float): Longitude of the second point.\n\n    Returns:\n        float: Distance in kilometers.\n    \"\"\"\n    coords_1 = (lat1, lon1)\n    coords_2 = (lat2, lon2)\n\n    try:\n        distance = geodesic(coords_1, coords_2).km\n        return distance\n    except ValueError:\n        return None  # Handle cases where coordinates are invalid\n\n# Example usage (assuming you have launch_sites_df):\nlaunch_sites_df['Coastline_Lat'] = 0.0\nlaunch_sites_df['Coastline_Lon'] = 0.0\nlaunch_sites_df['Distance_Coastline'] = 0.0\n\nfor index, row in launch_sites_df.iterrows():\n    launch_site_lat = row['Lat']\n    launch_site_lon = row['Long']\n\n    coastline_coords = find_nearest_coastline(launch_site_lat, launch_site_lon)\n\n    if coastline_coords:\n        coastline_lat, coastline_lon = coastline_coords\n        distance_coastline = calculate_distance(launch_site_lat, launch_site_lon, coastline_lat, coastline_lon)\n\n        launch_sites_df.loc[index, 'Coastline_Lat'] = coastline_lat\n        launch_sites_df.loc[index, 'Coastline_Lon'] = coastline_lon\n        launch_sites_df.loc[index, 'Distance_Coastline'] = distance_coastline\n    else:\n        print(f\"Coastline not found for {row['Launch Site']}\")\n\nprint(launch_sites_df)\n\n# Create a map centered on the mean of launch site coordinates\nmap_center = [launch_sites_df['Lat'].mean(), launch_sites_df['Long'].mean()]\nsite_map = folium.Map(location=map_center, zoom_start=6)\n\n# Add markers for launch sites and coastline points\nfor index, row in launch_sites_df.iterrows():\n    folium.CircleMarker(\n        location=[row['Lat'], row['Long']],\n        radius=5,\n        color='blue',\n        fill=True,\n        fill_color='blue',\n        popup=f\"{row['Launch Site']}\"\n    ).add_to(site_map)\n\n    if not np.isnan(row['Coastline_Lat']) and not np.isnan(row['Coastline_Lon']): #check if nan values are present\n        folium.CircleMarker(\n            location=[row['Coastline_Lat'], row['Coastline_Lon']],\n            radius=3,\n            color='red',\n            fill=True,\n            fill_color='red',\n            popup=f\"Nearest Coastline to {row['Launch Site']}\"\n        ).add_to(site_map)\n        # Add a line connecting the launch site and coastline\n        locations = [[row['Lat'], row['Long']],[row['Coastline_Lat'], row['Coastline_Lon']]]\n        folium.PolyLine(locations=locations, color='green').add_to(site_map)\n\n# Display the map\nsite_map\n ",
      "metadata": {
        "trusted": true
      },
      "outputs": [
        {
          "ename": "<class 'ModuleNotFoundError'>",
          "evalue": "No module named 'geopy'",
          "traceback": [
            "\u001b[0;31m---------------------------------------------------------------------------\u001b[0m",
            "\u001b[0;31mModuleNotFoundError\u001b[0m                       Traceback (most recent call last)",
            "Cell \u001b[0;32mIn[35], line 6\u001b[0m\n\u001b[1;32m      4\u001b[0m \u001b[38;5;28;01mimport\u001b[39;00m \u001b[38;5;21;01mpandas\u001b[39;00m \u001b[38;5;28;01mas\u001b[39;00m \u001b[38;5;21;01mpd\u001b[39;00m\n\u001b[1;32m      5\u001b[0m \u001b[38;5;28;01mimport\u001b[39;00m \u001b[38;5;21;01mfolium\u001b[39;00m\n\u001b[0;32m----> 6\u001b[0m \u001b[38;5;28;01mfrom\u001b[39;00m \u001b[38;5;21;01mgeopy\u001b[39;00m\u001b[38;5;21;01m.\u001b[39;00m\u001b[38;5;21;01mgeocoders\u001b[39;00m \u001b[38;5;28;01mimport\u001b[39;00m Nominatim\n\u001b[1;32m      7\u001b[0m \u001b[38;5;28;01mfrom\u001b[39;00m \u001b[38;5;21;01mgeopy\u001b[39;00m\u001b[38;5;21;01m.\u001b[39;00m\u001b[38;5;21;01mdistance\u001b[39;00m \u001b[38;5;28;01mimport\u001b[39;00m geodesic\n\u001b[1;32m      8\u001b[0m \u001b[38;5;28;01mimport\u001b[39;00m \u001b[38;5;21;01mnumpy\u001b[39;00m \u001b[38;5;28;01mas\u001b[39;00m \u001b[38;5;21;01mnp\u001b[39;00m\n",
            "\u001b[0;31mModuleNotFoundError\u001b[0m: No module named 'geopy'"
          ],
          "output_type": "error"
        }
      ],
      "execution_count": 35
    },
    {
      "cell_type": "markdown",
      "source": "*TODO:* For each launch result in `spacex_df` data frame, add a `folium.Marker` to `marker_cluster`\n",
      "metadata": {}
    },
    {
      "cell_type": "code",
      "source": "# Add marker_cluster to current site_map\nsite_map.add_child(marker_cluster)\n\n# for each row in spacex_df data frame\n# create a Marker object with its coordinate\n# and customize the Marker's icon property to indicate if this launch was successed or failed, \n# e.g., icon=folium.Icon(color='white', icon_color=row['marker_color']\nfor index, record in spacex_df.iterrows():\n    # TODO: Create and add a Marker cluster to the site map\n    # marker = folium.Marker(...)\n    marker_cluster.add_child(marker)\n\nsite_map",
      "metadata": {
        "trusted": true
      },
      "outputs": [
        {
          "execution_count": 15,
          "output_type": "execute_result",
          "data": {
            "text/plain": "<folium.folium.Map at 0x5c7e2c8>",
            "text/html": "<div style=\"width:100%;\"><div style=\"position:relative;width:100%;height:0;padding-bottom:60%;\"><span style=\"color:#565656\">Make this Notebook Trusted to load map: File -> Trust Notebook</span><iframe srcdoc=\"&lt;!DOCTYPE html&gt;\n&lt;html&gt;\n&lt;head&gt;\n    \n    &lt;meta http-equiv=&quot;content-type&quot; content=&quot;text/html; charset=UTF-8&quot; /&gt;\n    \n        &lt;script&gt;\n            L_NO_TOUCH = false;\n            L_DISABLE_3D = false;\n        &lt;/script&gt;\n    \n    &lt;style&gt;html, body {width: 100%;height: 100%;margin: 0;padding: 0;}&lt;/style&gt;\n    &lt;style&gt;#map {position:absolute;top:0;bottom:0;right:0;left:0;}&lt;/style&gt;\n    &lt;script src=&quot;https://cdn.jsdelivr.net/npm/leaflet@1.9.3/dist/leaflet.js&quot;&gt;&lt;/script&gt;\n    &lt;script src=&quot;https://code.jquery.com/jquery-3.7.1.min.js&quot;&gt;&lt;/script&gt;\n    &lt;script src=&quot;https://cdn.jsdelivr.net/npm/bootstrap@5.2.2/dist/js/bootstrap.bundle.min.js&quot;&gt;&lt;/script&gt;\n    &lt;script src=&quot;https://cdnjs.cloudflare.com/ajax/libs/Leaflet.awesome-markers/2.0.2/leaflet.awesome-markers.js&quot;&gt;&lt;/script&gt;\n    &lt;link rel=&quot;stylesheet&quot; href=&quot;https://cdn.jsdelivr.net/npm/leaflet@1.9.3/dist/leaflet.css&quot;/&gt;\n    &lt;link rel=&quot;stylesheet&quot; href=&quot;https://cdn.jsdelivr.net/npm/bootstrap@5.2.2/dist/css/bootstrap.min.css&quot;/&gt;\n    &lt;link rel=&quot;stylesheet&quot; href=&quot;https://netdna.bootstrapcdn.com/bootstrap/3.0.0/css/bootstrap-glyphicons.css&quot;/&gt;\n    &lt;link rel=&quot;stylesheet&quot; href=&quot;https://cdn.jsdelivr.net/npm/@fortawesome/fontawesome-free@6.2.0/css/all.min.css&quot;/&gt;\n    &lt;link rel=&quot;stylesheet&quot; href=&quot;https://cdnjs.cloudflare.com/ajax/libs/Leaflet.awesome-markers/2.0.2/leaflet.awesome-markers.css&quot;/&gt;\n    &lt;link rel=&quot;stylesheet&quot; href=&quot;https://cdn.jsdelivr.net/gh/python-visualization/folium/folium/templates/leaflet.awesome.rotate.min.css&quot;/&gt;\n    \n            &lt;meta name=&quot;viewport&quot; content=&quot;width=device-width,\n                initial-scale=1.0, maximum-scale=1.0, user-scalable=no&quot; /&gt;\n            &lt;style&gt;\n                #map_7e2a2b9e414de69ad6a61b5373a4ad20 {\n                    position: relative;\n                    width: 100.0%;\n                    height: 100.0%;\n                    left: 0.0%;\n                    top: 0.0%;\n                }\n                .leaflet-container { font-size: 1rem; }\n            &lt;/style&gt;\n        \n    &lt;script src=&quot;https://cdnjs.cloudflare.com/ajax/libs/leaflet.markercluster/1.1.0/leaflet.markercluster.js&quot;&gt;&lt;/script&gt;\n    &lt;link rel=&quot;stylesheet&quot; href=&quot;https://cdnjs.cloudflare.com/ajax/libs/leaflet.markercluster/1.1.0/MarkerCluster.css&quot;/&gt;\n    &lt;link rel=&quot;stylesheet&quot; href=&quot;https://cdnjs.cloudflare.com/ajax/libs/leaflet.markercluster/1.1.0/MarkerCluster.Default.css&quot;/&gt;\n&lt;/head&gt;\n&lt;body&gt;\n    \n    \n            &lt;div class=&quot;folium-map&quot; id=&quot;map_7e2a2b9e414de69ad6a61b5373a4ad20&quot; &gt;&lt;/div&gt;\n        \n&lt;/body&gt;\n&lt;script&gt;\n    \n    \n            var map_7e2a2b9e414de69ad6a61b5373a4ad20 = L.map(\n                &quot;map_7e2a2b9e414de69ad6a61b5373a4ad20&quot;,\n                {\n                    center: [29.559684888503615, -95.0830971930759],\n                    crs: L.CRS.EPSG3857,\n                    ...{\n  &quot;zoom&quot;: 5,\n  &quot;zoomControl&quot;: true,\n  &quot;preferCanvas&quot;: false,\n}\n\n                }\n            );\n\n            \n\n        \n    \n            var tile_layer_c748daef53040061e444652343138579 = L.tileLayer(\n                &quot;https://tile.openstreetmap.org/{z}/{x}/{y}.png&quot;,\n                {\n  &quot;minZoom&quot;: 0,\n  &quot;maxZoom&quot;: 19,\n  &quot;maxNativeZoom&quot;: 19,\n  &quot;noWrap&quot;: false,\n  &quot;attribution&quot;: &quot;\\u0026copy; \\u003ca href=\\&quot;https://www.openstreetmap.org/copyright\\&quot;\\u003eOpenStreetMap\\u003c/a\\u003e contributors&quot;,\n  &quot;subdomains&quot;: &quot;abc&quot;,\n  &quot;detectRetina&quot;: false,\n  &quot;tms&quot;: false,\n  &quot;opacity&quot;: 1,\n}\n\n            );\n        \n    \n            tile_layer_c748daef53040061e444652343138579.addTo(map_7e2a2b9e414de69ad6a61b5373a4ad20);\n        \n    \n            var circle_marker_f023c78422490b9c57c81f2dd5047d24 = L.circleMarker(\n                [28.56230197, -80.57735648],\n                {&quot;bubblingMouseEvents&quot;: true, &quot;color&quot;: &quot;blue&quot;, &quot;dashArray&quot;: null, &quot;dashOffset&quot;: null, &quot;fill&quot;: true, &quot;fillColor&quot;: &quot;lightblue&quot;, &quot;fillOpacity&quot;: 0.4, &quot;fillRule&quot;: &quot;evenodd&quot;, &quot;lineCap&quot;: &quot;round&quot;, &quot;lineJoin&quot;: &quot;round&quot;, &quot;opacity&quot;: 1.0, &quot;radius&quot;: 5, &quot;stroke&quot;: true, &quot;weight&quot;: 3}\n            ).addTo(map_7e2a2b9e414de69ad6a61b5373a4ad20);\n        \n    \n        var popup_565f1cacf6560179995a11b319ce1a2a = L.popup({\n  &quot;maxWidth&quot;: &quot;100%&quot;,\n});\n\n        \n            \n                var html_c25dd772cb38b611443974e343733340 = $(`&lt;div id=&quot;html_c25dd772cb38b611443974e343733340&quot; style=&quot;width: 100.0%; height: 100.0%;&quot;&gt;CCAFS LC-40&lt;/div&gt;`)[0];\n                popup_565f1cacf6560179995a11b319ce1a2a.setContent(html_c25dd772cb38b611443974e343733340);\n            \n        \n\n        circle_marker_f023c78422490b9c57c81f2dd5047d24.bindPopup(popup_565f1cacf6560179995a11b319ce1a2a)\n        ;\n\n        \n    \n    \n            var circle_marker_9912389aa8f44f3183611e2b612824d4 = L.circleMarker(\n                [34.63283416, -120.6107455],\n                {&quot;bubblingMouseEvents&quot;: true, &quot;color&quot;: &quot;blue&quot;, &quot;dashArray&quot;: null, &quot;dashOffset&quot;: null, &quot;fill&quot;: true, &quot;fillColor&quot;: &quot;lightblue&quot;, &quot;fillOpacity&quot;: 0.4, &quot;fillRule&quot;: &quot;evenodd&quot;, &quot;lineCap&quot;: &quot;round&quot;, &quot;lineJoin&quot;: &quot;round&quot;, &quot;opacity&quot;: 1.0, &quot;radius&quot;: 5, &quot;stroke&quot;: true, &quot;weight&quot;: 3}\n            ).addTo(map_7e2a2b9e414de69ad6a61b5373a4ad20);\n        \n    \n        var popup_c115f91447dc22dedad359efd45c3e3c = L.popup({\n  &quot;maxWidth&quot;: &quot;100%&quot;,\n});\n\n        \n            \n                var html_e0b660705b52e897628e8bc1f2caada3 = $(`&lt;div id=&quot;html_e0b660705b52e897628e8bc1f2caada3&quot; style=&quot;width: 100.0%; height: 100.0%;&quot;&gt;VAFB SLC-4E&lt;/div&gt;`)[0];\n                popup_c115f91447dc22dedad359efd45c3e3c.setContent(html_e0b660705b52e897628e8bc1f2caada3);\n            \n        \n\n        circle_marker_9912389aa8f44f3183611e2b612824d4.bindPopup(popup_c115f91447dc22dedad359efd45c3e3c)\n        ;\n\n        \n    \n    \n            var circle_marker_10c2a8af429b0ab2a7022bc148b3e847 = L.circleMarker(\n                [28.57325457, -80.64689529],\n                {&quot;bubblingMouseEvents&quot;: true, &quot;color&quot;: &quot;blue&quot;, &quot;dashArray&quot;: null, &quot;dashOffset&quot;: null, &quot;fill&quot;: true, &quot;fillColor&quot;: &quot;lightblue&quot;, &quot;fillOpacity&quot;: 0.4, &quot;fillRule&quot;: &quot;evenodd&quot;, &quot;lineCap&quot;: &quot;round&quot;, &quot;lineJoin&quot;: &quot;round&quot;, &quot;opacity&quot;: 1.0, &quot;radius&quot;: 5, &quot;stroke&quot;: true, &quot;weight&quot;: 3}\n            ).addTo(map_7e2a2b9e414de69ad6a61b5373a4ad20);\n        \n    \n        var popup_9fcf2283c06d5c8d7576cbbb11b71923 = L.popup({\n  &quot;maxWidth&quot;: &quot;100%&quot;,\n});\n\n        \n            \n                var html_6d1db7dbf60ef0c32a2ee14fc593e124 = $(`&lt;div id=&quot;html_6d1db7dbf60ef0c32a2ee14fc593e124&quot; style=&quot;width: 100.0%; height: 100.0%;&quot;&gt;KSC LC-39A&lt;/div&gt;`)[0];\n                popup_9fcf2283c06d5c8d7576cbbb11b71923.setContent(html_6d1db7dbf60ef0c32a2ee14fc593e124);\n            \n        \n\n        circle_marker_10c2a8af429b0ab2a7022bc148b3e847.bindPopup(popup_9fcf2283c06d5c8d7576cbbb11b71923)\n        ;\n\n        \n    \n    \n            var circle_marker_e3e077693998416d310e46cfe999e7f9 = L.circleMarker(\n                [28.56319718, -80.57682003],\n                {&quot;bubblingMouseEvents&quot;: true, &quot;color&quot;: &quot;blue&quot;, &quot;dashArray&quot;: null, &quot;dashOffset&quot;: null, &quot;fill&quot;: true, &quot;fillColor&quot;: &quot;lightblue&quot;, &quot;fillOpacity&quot;: 0.4, &quot;fillRule&quot;: &quot;evenodd&quot;, &quot;lineCap&quot;: &quot;round&quot;, &quot;lineJoin&quot;: &quot;round&quot;, &quot;opacity&quot;: 1.0, &quot;radius&quot;: 5, &quot;stroke&quot;: true, &quot;weight&quot;: 3}\n            ).addTo(map_7e2a2b9e414de69ad6a61b5373a4ad20);\n        \n    \n        var popup_10d755b00fcd9a6a582281273ba53182 = L.popup({\n  &quot;maxWidth&quot;: &quot;100%&quot;,\n});\n\n        \n            \n                var html_23b1eea3fe8b76a6e83b1562cbc57431 = $(`&lt;div id=&quot;html_23b1eea3fe8b76a6e83b1562cbc57431&quot; style=&quot;width: 100.0%; height: 100.0%;&quot;&gt;CCAFS SLC-40&lt;/div&gt;`)[0];\n                popup_10d755b00fcd9a6a582281273ba53182.setContent(html_23b1eea3fe8b76a6e83b1562cbc57431);\n            \n        \n\n        circle_marker_e3e077693998416d310e46cfe999e7f9.bindPopup(popup_10d755b00fcd9a6a582281273ba53182)\n        ;\n\n        \n    \n    \n            tile_layer_c748daef53040061e444652343138579.addTo(map_7e2a2b9e414de69ad6a61b5373a4ad20);\n        \n    \n            var marker_cluster_a5769976bc48478262aac2f8fb0a2d50 = L.markerClusterGroup(\n                {\n}\n            );\n        \n    \n            var marker_3968a68b7489cd385685027fc596c95f = L.marker(\n                [29.559684888503615, -95.0830971930759],\n                {\n}\n            ).addTo(marker_cluster_a5769976bc48478262aac2f8fb0a2d50);\n        \n    \n            var div_icon_efd25602029b78fc6cd19334572bbfb8 = L.divIcon({\n  &quot;html&quot;: &quot;\\u003cdiv style=\\&quot;font-size: 12; color:#d35400;\\&quot;\\u003e\\u003cb\\u003eNASA JSC\\u003c/b\\u003e\\u003c/div\\u003e&quot;,\n  &quot;iconSize&quot;: [20, 20],\n  &quot;iconAnchor&quot;: [0, 0],\n  &quot;className&quot;: &quot;empty&quot;,\n});\n            marker_3968a68b7489cd385685027fc596c95f.setIcon(div_icon_efd25602029b78fc6cd19334572bbfb8);\n        \n    \n            marker_cluster_a5769976bc48478262aac2f8fb0a2d50.addTo(map_7e2a2b9e414de69ad6a61b5373a4ad20);\n        \n&lt;/script&gt;\n&lt;/html&gt;\" style=\"position:absolute;width:100%;height:100%;left:0;top:0;border:none !important;\" allowfullscreen webkitallowfullscreen mozallowfullscreen></iframe></div></div>"
          },
          "metadata": {}
        }
      ],
      "execution_count": 15
    },
    {
      "cell_type": "markdown",
      "source": "Your updated map may look like the following screenshots:\n",
      "metadata": {}
    },
    {
      "cell_type": "markdown",
      "source": "<center>\n    <img src=\"https://cf-courses-data.s3.us.cloud-object-storage.appdomain.cloud/IBM-DS0321EN-SkillsNetwork/labs/module_3/images/launch_site_marker_cluster.png\">\n</center>\n",
      "metadata": {}
    },
    {
      "cell_type": "markdown",
      "source": "<center>\n    <img src=\"https://cf-courses-data.s3.us.cloud-object-storage.appdomain.cloud/IBM-DS0321EN-SkillsNetwork/labs/module_3/images/launch_site_marker_cluster_zoomed.png\">\n</center>\n",
      "metadata": {}
    },
    {
      "cell_type": "markdown",
      "source": "From the color-labeled markers in marker clusters, you should be able to easily identify which launch sites have relatively high success rates.\n",
      "metadata": {}
    },
    {
      "cell_type": "code",
      "source": "# TASK 3: Calculate the distances between a launch site to its proximities\n",
      "metadata": {
        "trusted": true
      },
      "outputs": [],
      "execution_count": 16
    },
    {
      "cell_type": "markdown",
      "source": "Next, we need to explore and analyze the proximities of launch sites.\n",
      "metadata": {}
    },
    {
      "cell_type": "markdown",
      "source": "Let's first add a `MousePosition` on the map to get coordinate for a mouse over a point on the map. As such, while you are exploring the map, you can easily find the coordinates of any points of interests (such as railway)\n",
      "metadata": {}
    },
    {
      "cell_type": "code",
      "source": "# Add Mouse Position to get the coordinate (Lat, Long) for a mouse over on the map\nformatter = \"function(num) {return L.Util.formatNum(num, 5);};\"\nmouse_position = MousePosition(\n    position='topright',\n    separator=' Long: ',\n    empty_string='NaN',\n    lng_first=False,\n    num_digits=20,\n    prefix='Lat:',\n    lat_formatter=formatter,\n    lng_formatter=formatter,\n)\n\nsite_map.add_child(mouse_position)\nsite_map",
      "metadata": {
        "trusted": true
      },
      "outputs": [
        {
          "execution_count": 32,
          "output_type": "execute_result",
          "data": {
            "text/plain": "<folium.folium.Map at 0x697a840>",
            "text/html": "<div style=\"width:100%;\"><div style=\"position:relative;width:100%;height:0;padding-bottom:60%;\"><span style=\"color:#565656\">Make this Notebook Trusted to load map: File -> Trust Notebook</span><iframe srcdoc=\"&lt;!DOCTYPE html&gt;\n&lt;html&gt;\n&lt;head&gt;\n    \n    &lt;meta http-equiv=&quot;content-type&quot; content=&quot;text/html; charset=UTF-8&quot; /&gt;\n    \n        &lt;script&gt;\n            L_NO_TOUCH = false;\n            L_DISABLE_3D = false;\n        &lt;/script&gt;\n    \n    &lt;style&gt;html, body {width: 100%;height: 100%;margin: 0;padding: 0;}&lt;/style&gt;\n    &lt;style&gt;#map {position:absolute;top:0;bottom:0;right:0;left:0;}&lt;/style&gt;\n    &lt;script src=&quot;https://cdn.jsdelivr.net/npm/leaflet@1.9.3/dist/leaflet.js&quot;&gt;&lt;/script&gt;\n    &lt;script src=&quot;https://code.jquery.com/jquery-3.7.1.min.js&quot;&gt;&lt;/script&gt;\n    &lt;script src=&quot;https://cdn.jsdelivr.net/npm/bootstrap@5.2.2/dist/js/bootstrap.bundle.min.js&quot;&gt;&lt;/script&gt;\n    &lt;script src=&quot;https://cdnjs.cloudflare.com/ajax/libs/Leaflet.awesome-markers/2.0.2/leaflet.awesome-markers.js&quot;&gt;&lt;/script&gt;\n    &lt;link rel=&quot;stylesheet&quot; href=&quot;https://cdn.jsdelivr.net/npm/leaflet@1.9.3/dist/leaflet.css&quot;/&gt;\n    &lt;link rel=&quot;stylesheet&quot; href=&quot;https://cdn.jsdelivr.net/npm/bootstrap@5.2.2/dist/css/bootstrap.min.css&quot;/&gt;\n    &lt;link rel=&quot;stylesheet&quot; href=&quot;https://netdna.bootstrapcdn.com/bootstrap/3.0.0/css/bootstrap-glyphicons.css&quot;/&gt;\n    &lt;link rel=&quot;stylesheet&quot; href=&quot;https://cdn.jsdelivr.net/npm/@fortawesome/fontawesome-free@6.2.0/css/all.min.css&quot;/&gt;\n    &lt;link rel=&quot;stylesheet&quot; href=&quot;https://cdnjs.cloudflare.com/ajax/libs/Leaflet.awesome-markers/2.0.2/leaflet.awesome-markers.css&quot;/&gt;\n    &lt;link rel=&quot;stylesheet&quot; href=&quot;https://cdn.jsdelivr.net/gh/python-visualization/folium/folium/templates/leaflet.awesome.rotate.min.css&quot;/&gt;\n    \n            &lt;meta name=&quot;viewport&quot; content=&quot;width=device-width,\n                initial-scale=1.0, maximum-scale=1.0, user-scalable=no&quot; /&gt;\n            &lt;style&gt;\n                #map_b119162666b343e8e3b74bb02de70bf7 {\n                    position: relative;\n                    width: 100.0%;\n                    height: 100.0%;\n                    left: 0.0%;\n                    top: 0.0%;\n                }\n                .leaflet-container { font-size: 1rem; }\n            &lt;/style&gt;\n        \n    &lt;script src=&quot;https://cdn.jsdelivr.net/gh/ardhi/Leaflet.MousePosition/src/L.Control.MousePosition.min.js&quot;&gt;&lt;/script&gt;\n    &lt;link rel=&quot;stylesheet&quot; href=&quot;https://cdn.jsdelivr.net/gh/ardhi/Leaflet.MousePosition/src/L.Control.MousePosition.min.css&quot;/&gt;\n&lt;/head&gt;\n&lt;body&gt;\n    \n    \n            &lt;div class=&quot;folium-map&quot; id=&quot;map_b119162666b343e8e3b74bb02de70bf7&quot; &gt;&lt;/div&gt;\n        \n&lt;/body&gt;\n&lt;script&gt;\n    \n    \n            var map_b119162666b343e8e3b74bb02de70bf7 = L.map(\n                &quot;map_b119162666b343e8e3b74bb02de70bf7&quot;,\n                {\n                    center: [28.563, -80.604],\n                    crs: L.CRS.EPSG3857,\n                    ...{\n  &quot;zoom&quot;: 4,\n  &quot;zoomControl&quot;: true,\n  &quot;preferCanvas&quot;: false,\n}\n\n                }\n            );\n\n            \n\n        \n    \n            var tile_layer_c36b9f60eee88fd4ddbfb91e65d08391 = L.tileLayer(\n                &quot;https://tile.openstreetmap.org/{z}/{x}/{y}.png&quot;,\n                {\n  &quot;minZoom&quot;: 0,\n  &quot;maxZoom&quot;: 19,\n  &quot;maxNativeZoom&quot;: 19,\n  &quot;noWrap&quot;: false,\n  &quot;attribution&quot;: &quot;\\u0026copy; \\u003ca href=\\&quot;https://www.openstreetmap.org/copyright\\&quot;\\u003eOpenStreetMap\\u003c/a\\u003e contributors&quot;,\n  &quot;subdomains&quot;: &quot;abc&quot;,\n  &quot;detectRetina&quot;: false,\n  &quot;tms&quot;: false,\n  &quot;opacity&quot;: 1,\n}\n\n            );\n        \n    \n            tile_layer_c36b9f60eee88fd4ddbfb91e65d08391.addTo(map_b119162666b343e8e3b74bb02de70bf7);\n        \n    \n            var marker_de9cdec43d89d019812c812ef7d67ebc = L.marker(\n                [28.56230197, -80.57735648],\n                {\n}\n            ).addTo(map_b119162666b343e8e3b74bb02de70bf7);\n        \n    \n            var icon_fbae5201113495d7d307b95eb7b5acd9 = L.AwesomeMarkers.icon(\n                {\n  &quot;markerColor&quot;: &quot;red&quot;,\n  &quot;iconColor&quot;: &quot;white&quot;,\n  &quot;icon&quot;: &quot;remove&quot;,\n  &quot;prefix&quot;: &quot;glyphicon&quot;,\n  &quot;extraClasses&quot;: &quot;fa-rotate-0&quot;,\n}\n            );\n            marker_de9cdec43d89d019812c812ef7d67ebc.setIcon(icon_fbae5201113495d7d307b95eb7b5acd9);\n        \n    \n        var popup_064339fba9c187fe46acef9003b9cddd = L.popup({\n  &quot;maxWidth&quot;: &quot;100%&quot;,\n});\n\n        \n            \n                var html_617e3988abe1ce2fd160ccac91473b07 = $(`&lt;div id=&quot;html_617e3988abe1ce2fd160ccac91473b07&quot; style=&quot;width: 100.0%; height: 100.0%;&quot;&gt;CCAFS LC-40: Failure&lt;/div&gt;`)[0];\n                popup_064339fba9c187fe46acef9003b9cddd.setContent(html_617e3988abe1ce2fd160ccac91473b07);\n            \n        \n\n        marker_de9cdec43d89d019812c812ef7d67ebc.bindPopup(popup_064339fba9c187fe46acef9003b9cddd)\n        ;\n\n        \n    \n    \n            var marker_3b3b12095d40820eb63f0fc229b1b78d = L.marker(\n                [28.56230197, -80.57735648],\n                {\n}\n            ).addTo(map_b119162666b343e8e3b74bb02de70bf7);\n        \n    \n            var icon_e016efd373b8ce37841e30a71fca55d5 = L.AwesomeMarkers.icon(\n                {\n  &quot;markerColor&quot;: &quot;green&quot;,\n  &quot;iconColor&quot;: &quot;white&quot;,\n  &quot;icon&quot;: &quot;ok&quot;,\n  &quot;prefix&quot;: &quot;glyphicon&quot;,\n  &quot;extraClasses&quot;: &quot;fa-rotate-0&quot;,\n}\n            );\n            marker_3b3b12095d40820eb63f0fc229b1b78d.setIcon(icon_e016efd373b8ce37841e30a71fca55d5);\n        \n    \n        var popup_91c6574f0944f47175c14e84d41de75b = L.popup({\n  &quot;maxWidth&quot;: &quot;100%&quot;,\n});\n\n        \n            \n                var html_44207d4dfca4d3aae4918e8d91bc10e6 = $(`&lt;div id=&quot;html_44207d4dfca4d3aae4918e8d91bc10e6&quot; style=&quot;width: 100.0%; height: 100.0%;&quot;&gt;CCAFS LC-40: Success&lt;/div&gt;`)[0];\n                popup_91c6574f0944f47175c14e84d41de75b.setContent(html_44207d4dfca4d3aae4918e8d91bc10e6);\n            \n        \n\n        marker_3b3b12095d40820eb63f0fc229b1b78d.bindPopup(popup_91c6574f0944f47175c14e84d41de75b)\n        ;\n\n        \n    \n    \n            var marker_67a28b700140d3990b2bb596676299a4 = L.marker(\n                [34.63283416, -120.6107455],\n                {\n}\n            ).addTo(map_b119162666b343e8e3b74bb02de70bf7);\n        \n    \n            var icon_b8c6953d63643649d6421895dc26321a = L.AwesomeMarkers.icon(\n                {\n  &quot;markerColor&quot;: &quot;red&quot;,\n  &quot;iconColor&quot;: &quot;white&quot;,\n  &quot;icon&quot;: &quot;remove&quot;,\n  &quot;prefix&quot;: &quot;glyphicon&quot;,\n  &quot;extraClasses&quot;: &quot;fa-rotate-0&quot;,\n}\n            );\n            marker_67a28b700140d3990b2bb596676299a4.setIcon(icon_b8c6953d63643649d6421895dc26321a);\n        \n    \n        var popup_e45a3098b29c63f095bfbfc40269cd4a = L.popup({\n  &quot;maxWidth&quot;: &quot;100%&quot;,\n});\n\n        \n            \n                var html_c42b9485dd4d04fbe7c5ba8be8ff9cc3 = $(`&lt;div id=&quot;html_c42b9485dd4d04fbe7c5ba8be8ff9cc3&quot; style=&quot;width: 100.0%; height: 100.0%;&quot;&gt;VAFB SLC-4E: Failure&lt;/div&gt;`)[0];\n                popup_e45a3098b29c63f095bfbfc40269cd4a.setContent(html_c42b9485dd4d04fbe7c5ba8be8ff9cc3);\n            \n        \n\n        marker_67a28b700140d3990b2bb596676299a4.bindPopup(popup_e45a3098b29c63f095bfbfc40269cd4a)\n        ;\n\n        \n    \n    \n            var marker_036f9f16383ecc185db21c66a6f06ee3 = L.marker(\n                [34.63283416, -120.6107455],\n                {\n}\n            ).addTo(map_b119162666b343e8e3b74bb02de70bf7);\n        \n    \n            var icon_848bb11d5570d93c9ce5a186390f4a1d = L.AwesomeMarkers.icon(\n                {\n  &quot;markerColor&quot;: &quot;green&quot;,\n  &quot;iconColor&quot;: &quot;white&quot;,\n  &quot;icon&quot;: &quot;ok&quot;,\n  &quot;prefix&quot;: &quot;glyphicon&quot;,\n  &quot;extraClasses&quot;: &quot;fa-rotate-0&quot;,\n}\n            );\n            marker_036f9f16383ecc185db21c66a6f06ee3.setIcon(icon_848bb11d5570d93c9ce5a186390f4a1d);\n        \n    \n        var popup_c2e61d14d089cfd30ef9096100c8fa45 = L.popup({\n  &quot;maxWidth&quot;: &quot;100%&quot;,\n});\n\n        \n            \n                var html_cb3efe3c13b69bbe71bb2ac46ae106e7 = $(`&lt;div id=&quot;html_cb3efe3c13b69bbe71bb2ac46ae106e7&quot; style=&quot;width: 100.0%; height: 100.0%;&quot;&gt;VAFB SLC-4E: Success&lt;/div&gt;`)[0];\n                popup_c2e61d14d089cfd30ef9096100c8fa45.setContent(html_cb3efe3c13b69bbe71bb2ac46ae106e7);\n            \n        \n\n        marker_036f9f16383ecc185db21c66a6f06ee3.bindPopup(popup_c2e61d14d089cfd30ef9096100c8fa45)\n        ;\n\n        \n    \n    \n            var marker_cb622f99a92dcacf6f000fe43800e49e = L.marker(\n                [28.57325457, -80.64689529],\n                {\n}\n            ).addTo(map_b119162666b343e8e3b74bb02de70bf7);\n        \n    \n            var icon_7588600831f65150058a9e12215114da = L.AwesomeMarkers.icon(\n                {\n  &quot;markerColor&quot;: &quot;green&quot;,\n  &quot;iconColor&quot;: &quot;white&quot;,\n  &quot;icon&quot;: &quot;ok&quot;,\n  &quot;prefix&quot;: &quot;glyphicon&quot;,\n  &quot;extraClasses&quot;: &quot;fa-rotate-0&quot;,\n}\n            );\n            marker_cb622f99a92dcacf6f000fe43800e49e.setIcon(icon_7588600831f65150058a9e12215114da);\n        \n    \n        var popup_bc955b73d6bddb867bb0990a80119f4b = L.popup({\n  &quot;maxWidth&quot;: &quot;100%&quot;,\n});\n\n        \n            \n                var html_ae534dd4f715899b3bbac0e889b532b8 = $(`&lt;div id=&quot;html_ae534dd4f715899b3bbac0e889b532b8&quot; style=&quot;width: 100.0%; height: 100.0%;&quot;&gt;KSC LC-39A: Success&lt;/div&gt;`)[0];\n                popup_bc955b73d6bddb867bb0990a80119f4b.setContent(html_ae534dd4f715899b3bbac0e889b532b8);\n            \n        \n\n        marker_cb622f99a92dcacf6f000fe43800e49e.bindPopup(popup_bc955b73d6bddb867bb0990a80119f4b)\n        ;\n\n        \n    \n    \n            var marker_9cfcf86ee7d4da578df2ae8bc1008487 = L.marker(\n                [28.57325457, -80.64689529],\n                {\n}\n            ).addTo(map_b119162666b343e8e3b74bb02de70bf7);\n        \n    \n            var icon_0f169aed277aeb176fbcb080967fd322 = L.AwesomeMarkers.icon(\n                {\n  &quot;markerColor&quot;: &quot;red&quot;,\n  &quot;iconColor&quot;: &quot;white&quot;,\n  &quot;icon&quot;: &quot;remove&quot;,\n  &quot;prefix&quot;: &quot;glyphicon&quot;,\n  &quot;extraClasses&quot;: &quot;fa-rotate-0&quot;,\n}\n            );\n            marker_9cfcf86ee7d4da578df2ae8bc1008487.setIcon(icon_0f169aed277aeb176fbcb080967fd322);\n        \n    \n        var popup_0be9c34156475e86a857d7ce993a9d29 = L.popup({\n  &quot;maxWidth&quot;: &quot;100%&quot;,\n});\n\n        \n            \n                var html_137e63414d7f002bb1321b524f29d3d6 = $(`&lt;div id=&quot;html_137e63414d7f002bb1321b524f29d3d6&quot; style=&quot;width: 100.0%; height: 100.0%;&quot;&gt;KSC LC-39A: Failure&lt;/div&gt;`)[0];\n                popup_0be9c34156475e86a857d7ce993a9d29.setContent(html_137e63414d7f002bb1321b524f29d3d6);\n            \n        \n\n        marker_9cfcf86ee7d4da578df2ae8bc1008487.bindPopup(popup_0be9c34156475e86a857d7ce993a9d29)\n        ;\n\n        \n    \n    \n            var marker_952bdae3831965593594b86ad6ab3d0d = L.marker(\n                [28.56319718, -80.57682003],\n                {\n}\n            ).addTo(map_b119162666b343e8e3b74bb02de70bf7);\n        \n    \n            var icon_2e112983f8ae8f8a3ec12639706a3875 = L.AwesomeMarkers.icon(\n                {\n  &quot;markerColor&quot;: &quot;green&quot;,\n  &quot;iconColor&quot;: &quot;white&quot;,\n  &quot;icon&quot;: &quot;ok&quot;,\n  &quot;prefix&quot;: &quot;glyphicon&quot;,\n  &quot;extraClasses&quot;: &quot;fa-rotate-0&quot;,\n}\n            );\n            marker_952bdae3831965593594b86ad6ab3d0d.setIcon(icon_2e112983f8ae8f8a3ec12639706a3875);\n        \n    \n        var popup_64ae8b17364d02b0f2d3f57104d5580f = L.popup({\n  &quot;maxWidth&quot;: &quot;100%&quot;,\n});\n\n        \n            \n                var html_9a0b8801f152be50b07bc18a7e162cb6 = $(`&lt;div id=&quot;html_9a0b8801f152be50b07bc18a7e162cb6&quot; style=&quot;width: 100.0%; height: 100.0%;&quot;&gt;CCAFS SLC-40: Success&lt;/div&gt;`)[0];\n                popup_64ae8b17364d02b0f2d3f57104d5580f.setContent(html_9a0b8801f152be50b07bc18a7e162cb6);\n            \n        \n\n        marker_952bdae3831965593594b86ad6ab3d0d.bindPopup(popup_64ae8b17364d02b0f2d3f57104d5580f)\n        ;\n\n        \n    \n    \n            var marker_68a1dc1d73cb1550ebeb41fba622fb93 = L.marker(\n                [28.56319718, -80.57682003],\n                {\n}\n            ).addTo(map_b119162666b343e8e3b74bb02de70bf7);\n        \n    \n            var icon_956e18dd75f822776e74de5ec3d6c7f3 = L.AwesomeMarkers.icon(\n                {\n  &quot;markerColor&quot;: &quot;red&quot;,\n  &quot;iconColor&quot;: &quot;white&quot;,\n  &quot;icon&quot;: &quot;remove&quot;,\n  &quot;prefix&quot;: &quot;glyphicon&quot;,\n  &quot;extraClasses&quot;: &quot;fa-rotate-0&quot;,\n}\n            );\n            marker_68a1dc1d73cb1550ebeb41fba622fb93.setIcon(icon_956e18dd75f822776e74de5ec3d6c7f3);\n        \n    \n        var popup_ad96a2a7f6e9fc05e33232d30a5e9a91 = L.popup({\n  &quot;maxWidth&quot;: &quot;100%&quot;,\n});\n\n        \n            \n                var html_8da4ef276f6c804ab98e92019c909832 = $(`&lt;div id=&quot;html_8da4ef276f6c804ab98e92019c909832&quot; style=&quot;width: 100.0%; height: 100.0%;&quot;&gt;CCAFS SLC-40: Failure&lt;/div&gt;`)[0];\n                popup_ad96a2a7f6e9fc05e33232d30a5e9a91.setContent(html_8da4ef276f6c804ab98e92019c909832);\n            \n        \n\n        marker_68a1dc1d73cb1550ebeb41fba622fb93.bindPopup(popup_ad96a2a7f6e9fc05e33232d30a5e9a91)\n        ;\n\n        \n    \n    \n            tile_layer_c36b9f60eee88fd4ddbfb91e65d08391.addTo(map_b119162666b343e8e3b74bb02de70bf7);\n        \n    \n            var mouse_position_d77425e02ba3b4ff685cf01e7e08ced3 = new L.Control.MousePosition(\n                {\n  &quot;position&quot;: &quot;topright&quot;,\n  &quot;separator&quot;: &quot; Long: &quot;,\n  &quot;emptyString&quot;: &quot;NaN&quot;,\n  &quot;lngFirst&quot;: false,\n  &quot;numDigits&quot;: 20,\n  &quot;prefix&quot;: &quot;Lat:&quot;,\n}\n            );\n            mouse_position_d77425e02ba3b4ff685cf01e7e08ced3.options[&quot;latFormatter&quot;] =\n                function(num) {return L.Util.formatNum(num, 5);};;\n            mouse_position_d77425e02ba3b4ff685cf01e7e08ced3.options[&quot;lngFormatter&quot;] =\n                function(num) {return L.Util.formatNum(num, 5);};;\n            map_b119162666b343e8e3b74bb02de70bf7.addControl(mouse_position_d77425e02ba3b4ff685cf01e7e08ced3);\n        \n&lt;/script&gt;\n&lt;/html&gt;\" style=\"position:absolute;width:100%;height:100%;left:0;top:0;border:none !important;\" allowfullscreen webkitallowfullscreen mozallowfullscreen></iframe></div></div>"
          },
          "metadata": {}
        }
      ],
      "execution_count": 32
    },
    {
      "cell_type": "markdown",
      "source": "Now zoom in to a launch site and explore its proximity to see if you can easily find any railway, highway, coastline, etc. Move your mouse to these points and mark down their coordinates (shown on the top-left) in order to the distance to the launch site.\n",
      "metadata": {}
    },
    {
      "cell_type": "markdown",
      "source": "Now zoom in to a launch site and explore its proximity to see if you can easily find any railway, highway, coastline, etc. Move your mouse to these points and mark down their coordinates (shown on the top-left) in order to the distance to the launch site.\n",
      "metadata": {}
    },
    {
      "cell_type": "code",
      "source": "from math import sin, cos, sqrt, atan2, radians\n\ndef calculate_distance(lat1, lon1, lat2, lon2):\n    # approximate radius of earth in km\n    R = 6373.0\n\n    lat1 = radians(lat1)\n    lon1 = radians(lon1)\n    lat2 = radians(lat2)\n    lon2 = radians(lon2)\n\n    dlon = lon2 - lon1\n    dlat = lat2 - lat1\n\n    a = sin(dlat / 2)**2 + cos(lat1) * cos(lat2) * sin(dlon / 2)**2\n    c = 2 * atan2(sqrt(a), sqrt(1 - a))\n\n    distance = R * c\n    return distance",
      "metadata": {
        "trusted": true
      },
      "outputs": [],
      "execution_count": 33
    },
    {
      "cell_type": "markdown",
      "source": "*TODO:* Mark down a point on the closest coastline using MousePosition and calculate the distance between the coastline point and the launch site.\n",
      "metadata": {}
    },
    {
      "cell_type": "code",
      "source": "# find coordinate of the closet coastline\n# e.g.,: Lat: 28.56367  Lon: -80.57163\n# distance_coastline = calculate_distance(launch_site_lat, launch_site_lon, coastline_lat, coastline_lon)\nimport pandas as pd\nimport numpy as np\nfrom geopy.geocoders import Nominatim\nfrom geopy.distance import geodesic\n\n# Assuming you have your spacex_df DataFrame\n\n# Function to find the nearest coastline coordinates\ndef find_nearest_coastline(lat, lon):\n    \"\"\"Finds the nearest coastline coordinates using reverse geocoding.\n\n    Args:\n        lat (float): Latitude.\n        lon (float): Longitude.\n\n    Returns:\n        tuple: (latitude, longitude) of the nearest coastline, or None if not found.\n    \"\"\"\n    geolocator = Nominatim(user_agent=\"coastline_finder\") #user agent is important\n    location = geolocator.reverse((lat, lon), language='en')\n\n    if location:\n      address = location.raw['address']\n      if 'sea' in address or 'ocean' in address or 'coast' in address or 'beach' in address:\n        return (lat,lon)\n      else:\n        #Try searching nearby\n        for i in np.arange(0.01,0.1,0.01):\n          location_nearby = geolocator.reverse((lat+i, lon), language='en')\n          if location_nearby:\n            address_nearby = location_nearby.raw['address']\n            if 'sea' in address_nearby or 'ocean' in address_nearby or 'coast' in address_nearby or 'beach' in address_nearby:\n              return (lat+i,lon)\n          location_nearby = geolocator.reverse((lat-i, lon), language='en')\n          if location_nearby:\n            address_nearby = location_nearby.raw['address']\n            if 'sea' in address_nearby or 'ocean' in address_nearby or 'coast' in address_nearby or 'beach' in address_nearby:\n              return (lat-i,lon)\n          location_nearby = geolocator.reverse((lat, lon+i), language='en')\n          if location_nearby:\n            address_nearby = location_nearby.raw['address']\n            if 'sea' in address_nearby or 'ocean' in address_nearby or 'coast' in address_nearby or 'beach' in address_nearby:\n              return (lat,lon+i)\n          location_nearby = geolocator.reverse((lat, lon-i), language='en')\n          if location_nearby:\n            address_nearby = location_nearby.raw['address']\n            if 'sea' in address_nearby or 'ocean' in address_nearby or 'coast' in address_nearby or 'beach' in address_nearby:\n              return (lat,lon-i)\n        return None\n    else:\n        return None\n\n# Function to calculate distance using geodesic\ndef calculate_distance(lat1, lon1, lat2, lon2):\n    \"\"\"Calculates the geodesic distance between two points.\n\n    Args:\n        lat1 (float): Latitude of the first point.\n        lon1 (float): Longitude of the first point.\n        lat2 (float): Latitude of the second point.\n        lon2 (float): Longitude of the second point.\n\n    Returns:\n        float: Distance in kilometers.\n    \"\"\"\n    coords_1 = (lat1, lon1)\n    coords_2 = (lat2, lon2)\n\n    try:\n        distance = geodesic(coords_1, coords_2).km\n        return distance\n    except ValueError:\n        return None  # Handle cases where coordinates are invalid\n\n# Example usage (assuming you have launch_sites_df):\nlaunch_sites_df['Coastline_Lat'] = 0.0\nlaunch_sites_df['Coastline_Lon'] = 0.0\nlaunch_sites_df['Distance_Coastline'] = 0.0\n\nfor index, row in launch_sites_df.iterrows():\n    launch_site_lat = row['Lat']\n    launch_site_lon = row['Long']\n\n    coastline_coords = find_nearest_coastline(launch_site_lat, launch_site_lon)\n\n    if coastline_coords:\n        coastline_lat, coastline_lon = coastline_coords\n        distance_coastline = calculate_distance(launch_site_lat, launch_site_lon, coastline_lat, coastline_lon)\n\n        launch_sites_df.loc[index, 'Coastline_Lat'] = coastline_lat\n        launch_sites_df.loc[index, 'Coastline_Lon'] = coastline_lon\n        launch_sites_df.loc[index, 'Distance_Coastline'] = distance_coastline\n    else:\n        print(f\"Coastline not found for {row['Launch Site']}\")\n\nprint(launch_sites_df)",
      "metadata": {
        "trusted": true
      },
      "outputs": [
        {
          "ename": "<class 'ModuleNotFoundError'>",
          "evalue": "No module named 'geopy'",
          "traceback": [
            "\u001b[0;31m---------------------------------------------------------------------------\u001b[0m",
            "\u001b[0;31mModuleNotFoundError\u001b[0m                       Traceback (most recent call last)",
            "Cell \u001b[0;32mIn[34], line 6\u001b[0m\n\u001b[1;32m      4\u001b[0m \u001b[38;5;28;01mimport\u001b[39;00m \u001b[38;5;21;01mpandas\u001b[39;00m \u001b[38;5;28;01mas\u001b[39;00m \u001b[38;5;21;01mpd\u001b[39;00m\n\u001b[1;32m      5\u001b[0m \u001b[38;5;28;01mimport\u001b[39;00m \u001b[38;5;21;01mnumpy\u001b[39;00m \u001b[38;5;28;01mas\u001b[39;00m \u001b[38;5;21;01mnp\u001b[39;00m\n\u001b[0;32m----> 6\u001b[0m \u001b[38;5;28;01mfrom\u001b[39;00m \u001b[38;5;21;01mgeopy\u001b[39;00m\u001b[38;5;21;01m.\u001b[39;00m\u001b[38;5;21;01mgeocoders\u001b[39;00m \u001b[38;5;28;01mimport\u001b[39;00m Nominatim\n\u001b[1;32m      7\u001b[0m \u001b[38;5;28;01mfrom\u001b[39;00m \u001b[38;5;21;01mgeopy\u001b[39;00m\u001b[38;5;21;01m.\u001b[39;00m\u001b[38;5;21;01mdistance\u001b[39;00m \u001b[38;5;28;01mimport\u001b[39;00m geodesic\n\u001b[1;32m      9\u001b[0m \u001b[38;5;66;03m# Assuming you have your spacex_df DataFrame\u001b[39;00m\n\u001b[1;32m     10\u001b[0m \n\u001b[1;32m     11\u001b[0m \u001b[38;5;66;03m# Function to find the nearest coastline coordinates\u001b[39;00m\n",
            "\u001b[0;31mModuleNotFoundError\u001b[0m: No module named 'geopy'"
          ],
          "output_type": "error"
        }
      ],
      "execution_count": 34
    },
    {
      "cell_type": "code",
      "source": "# Create and add a folium.Marker on your selected closest coastline point on the map\n# Display the distance between coastline point and launch site using the icon property \n# for example\n# distance_marker = folium.Marker(\n#    coordinate,\n#    icon=DivIcon(\n#        icon_size=(20,20),\n#        icon_anchor=(0,0),\n#        html='<div style=\"font-size: 12; color:#d35400;\"><b>%s</b></div>' % \"{:10.2f} KM\".format(distance),\n#        )\n#    )",
      "metadata": {
        "trusted": true
      },
      "outputs": [],
      "execution_count": 20
    },
    {
      "cell_type": "markdown",
      "source": "*TODO:* Draw a `PolyLine` between a launch site to the selected coastline point\n",
      "metadata": {}
    },
    {
      "cell_type": "code",
      "source": "# Create a `folium.PolyLine` object using the coastline coordinates and launch site coordinate\n# lines=folium.PolyLine(locations=coordinates, weight=1)\nsite_map.add_child(lines)",
      "metadata": {
        "trusted": true
      },
      "outputs": [
        {
          "ename": "<class 'NameError'>",
          "evalue": "name 'lines' is not defined",
          "traceback": [
            "\u001b[0;31m---------------------------------------------------------------------------\u001b[0m",
            "\u001b[0;31mNameError\u001b[0m                                 Traceback (most recent call last)",
            "Cell \u001b[0;32mIn[21], line 3\u001b[0m\n\u001b[1;32m      1\u001b[0m \u001b[38;5;66;03m# Create a `folium.PolyLine` object using the coastline coordinates and launch site coordinate\u001b[39;00m\n\u001b[1;32m      2\u001b[0m \u001b[38;5;66;03m# lines=folium.PolyLine(locations=coordinates, weight=1)\u001b[39;00m\n\u001b[0;32m----> 3\u001b[0m site_map\u001b[38;5;241m.\u001b[39madd_child(\u001b[43mlines\u001b[49m)\n",
            "\u001b[0;31mNameError\u001b[0m: name 'lines' is not defined"
          ],
          "output_type": "error"
        }
      ],
      "execution_count": 21
    },
    {
      "cell_type": "markdown",
      "source": "Your updated map with distance line should look like the following screenshot:\n",
      "metadata": {}
    },
    {
      "cell_type": "markdown",
      "source": "<center>\n    <img src=\"https://cf-courses-data.s3.us.cloud-object-storage.appdomain.cloud/IBM-DS0321EN-SkillsNetwork/labs/module_3/images/launch_site_marker_distance.png\">\n</center>\n",
      "metadata": {}
    },
    {
      "cell_type": "markdown",
      "source": "*TODO:* Similarly, you can draw a line betwee a launch site to its closest city, railway, highway, etc. You need to use `MousePosition` to find the their coordinates on the map first\n",
      "metadata": {}
    },
    {
      "cell_type": "markdown",
      "source": "A railway map symbol may look like this:\n",
      "metadata": {}
    },
    {
      "cell_type": "markdown",
      "source": "<center>\n    <img src=\"https://cf-courses-data.s3.us.cloud-object-storage.appdomain.cloud/IBM-DS0321EN-SkillsNetwork/labs/module_3/images/railway.png\">\n</center>\n",
      "metadata": {}
    },
    {
      "cell_type": "markdown",
      "source": "A highway map symbol may look like this:\n",
      "metadata": {}
    },
    {
      "cell_type": "markdown",
      "source": "<center>\n    <img src=\"https://cf-courses-data.s3.us.cloud-object-storage.appdomain.cloud/IBM-DS0321EN-SkillsNetwork/labs/module_3/images/highway.png\">\n</center>\n",
      "metadata": {}
    },
    {
      "cell_type": "markdown",
      "source": "A city map symbol may look like this:\n",
      "metadata": {}
    },
    {
      "cell_type": "markdown",
      "source": "<center>\n    <img src=\"https://cf-courses-data.s3.us.cloud-object-storage.appdomain.cloud/IBM-DS0321EN-SkillsNetwork/labs/module_3/images/city.png\">\n</center>\n",
      "metadata": {}
    },
    {
      "cell_type": "code",
      "source": "# Create a marker with distance to a closest city, railway, highway, etc.\n# Draw a line between the marker to the launch site\n",
      "metadata": {
        "trusted": true
      },
      "outputs": [],
      "execution_count": 22
    },
    {
      "cell_type": "code",
      "source": "",
      "metadata": {
        "trusted": true
      },
      "outputs": [],
      "execution_count": null
    },
    {
      "cell_type": "code",
      "source": "",
      "metadata": {
        "trusted": true
      },
      "outputs": [],
      "execution_count": null
    },
    {
      "cell_type": "markdown",
      "source": "After you plot distance lines to the proximities, you can answer the following questions easily:\n\n*   Are launch sites in close proximity to railways?\n*   Are launch sites in close proximity to highways?\n*   Are launch sites in close proximity to coastline?\n*   Do launch sites keep certain distance away from cities?\n\nAlso please try to explain your findings.\n",
      "metadata": {}
    },
    {
      "cell_type": "markdown",
      "source": "# Next Steps:\n\nNow you have discovered many interesting insights related to the launch sites' location using folium, in a very interactive way. Next, you will need to build a dashboard using Ploty Dash on detailed launch records.\n",
      "metadata": {}
    },
    {
      "cell_type": "markdown",
      "source": "## Authors\n",
      "metadata": {}
    },
    {
      "cell_type": "markdown",
      "source": "[Pratiksha Verma](https://www.linkedin.com/in/pratiksha-verma-6487561b1/)\n",
      "metadata": {}
    },
    {
      "cell_type": "markdown",
      "source": "<!--## Change Log--!>\n",
      "metadata": {}
    },
    {
      "cell_type": "markdown",
      "source": "<!--| Date (YYYY-MM-DD) | Version | Changed By      | Change Description      |\n| ----------------- | ------- | -------------   | ----------------------- |\n| 2022-11-09        | 1.0     | Pratiksha Verma | Converted initial version to Jupyterlite|--!>\n",
      "metadata": {}
    },
    {
      "cell_type": "markdown",
      "source": "### <h3 align=\"center\"> IBM Corporation 2022. All rights reserved. <h3/>\n",
      "metadata": {}
    }
  ]
}